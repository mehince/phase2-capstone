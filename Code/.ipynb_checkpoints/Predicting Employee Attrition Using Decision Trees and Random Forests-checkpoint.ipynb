{
 "cells": [
  {
   "cell_type": "markdown",
   "id": "697fb0ca",
   "metadata": {
    "ExecuteTime": {
     "end_time": "2023-02-03T04:35:39.718320Z",
     "start_time": "2023-02-03T04:35:39.229474Z"
    }
   },
   "source": [
    "![](../Photos/employee_burnout_cropped.png)"
   ]
  },
  {
   "cell_type": "markdown",
   "id": "a300d1b2",
   "metadata": {},
   "source": [
    "# Predicting Employee Attrition Using Decision Trees and Random Forests"
   ]
  },
  {
   "cell_type": "markdown",
   "id": "bafaa6d2",
   "metadata": {},
   "source": [
    "## Business Understanding\n",
    "**Employees** leave companies or organizations for different reasons every day. Employees are also the heart of any company - without employees, work doesn't get done, and money doesn't get made. \n",
    "\n",
    "If an organization's **upper leadership and/or human resources staff** can determine why an employee may leave, they can use this information to **create more effective hiring and retention practices.** "
   ]
  },
  {
   "cell_type": "markdown",
   "id": "75d33d90",
   "metadata": {},
   "source": [
    "## Data Understanding\n",
    "The data used in this project was retrieved from Kaggle (https://www.kaggle.com/datasets/pavansubhasht/ibm-hr-analytics-attrition-dataset) but was originally collected by IBM's human resources department. \n",
    "\n",
    "This data is in the form of a survey given to employees. The features are relatively self-explanatory, but there isn't much information regarding where this data was collected from other than what was previously mentioned. \n",
    "\n",
    "The features shown below can be later used to train predictive models to determine whether an employee will leave a company. After tuning and other improvements, this could be useful for upper leadership and/or human resources staff to identify changes that need to be made to more effectively hire or retain employees. \n",
    "\n",
    "- Present the size of the dataset, descriptive statistics for all features used in the analysis\n",
    "- Justify the inclusion of features based on their properties, relevance for project\n",
    "- Identify any limitations of data that have implications for the project"
   ]
  },
  {
   "cell_type": "markdown",
   "id": "fc8f9790",
   "metadata": {},
   "source": [
    "#### Import needed libraries and load in dataset"
   ]
  },
  {
   "cell_type": "code",
   "execution_count": 53,
   "id": "c651ac73",
   "metadata": {
    "ExecuteTime": {
     "end_time": "2023-02-03T00:45:30.852690Z",
     "start_time": "2023-02-03T00:45:30.819010Z"
    }
   },
   "outputs": [
    {
     "data": {
      "text/plain": [
       "(1470, 35)"
      ]
     },
     "execution_count": 53,
     "metadata": {},
     "output_type": "execute_result"
    }
   ],
   "source": [
    "import pandas as pd\n",
    "import matplotlib.pyplot as plt\n",
    "\n",
    "from sklearn.preprocessing import LabelEncoder\n",
    "\n",
    "from sklearn.model_selection import train_test_split\n",
    "from sklearn.tree import DecisionTreeClassifier\n",
    "from sklearn import tree\n",
    "\n",
    "from sklearn.metrics import accuracy_score, precision_score, roc_curve, auc, recall_score, f1_score\n",
    "from sklearn.metrics import plot_confusion_matrix\n",
    "\n",
    "# setting seed variable\n",
    "seed = 13\n",
    "\n",
    "# loading in csv\n",
    "df = pd.read_csv(\"../Data/WA_Fn-UseC_-HR-Employee-Attrition.csv\")\n",
    "\n",
    "# display number of rows, cols in dataset\n",
    "# 1470 rows, 35 rows (features)\n",
    "df.shape"
   ]
  },
  {
   "cell_type": "code",
   "execution_count": 54,
   "id": "34231ba7",
   "metadata": {
    "ExecuteTime": {
     "end_time": "2023-02-03T00:45:30.894234Z",
     "start_time": "2023-02-03T00:45:30.854232Z"
    }
   },
   "outputs": [
    {
     "data": {
      "text/html": [
       "<div>\n",
       "<style scoped>\n",
       "    .dataframe tbody tr th:only-of-type {\n",
       "        vertical-align: middle;\n",
       "    }\n",
       "\n",
       "    .dataframe tbody tr th {\n",
       "        vertical-align: top;\n",
       "    }\n",
       "\n",
       "    .dataframe thead th {\n",
       "        text-align: right;\n",
       "    }\n",
       "</style>\n",
       "<table border=\"1\" class=\"dataframe\">\n",
       "  <thead>\n",
       "    <tr style=\"text-align: right;\">\n",
       "      <th></th>\n",
       "      <th>Age</th>\n",
       "      <th>Attrition</th>\n",
       "      <th>BusinessTravel</th>\n",
       "      <th>DailyRate</th>\n",
       "      <th>Department</th>\n",
       "      <th>DistanceFromHome</th>\n",
       "      <th>Education</th>\n",
       "      <th>EducationField</th>\n",
       "      <th>EmployeeCount</th>\n",
       "      <th>EmployeeNumber</th>\n",
       "      <th>...</th>\n",
       "      <th>RelationshipSatisfaction</th>\n",
       "      <th>StandardHours</th>\n",
       "      <th>StockOptionLevel</th>\n",
       "      <th>TotalWorkingYears</th>\n",
       "      <th>TrainingTimesLastYear</th>\n",
       "      <th>WorkLifeBalance</th>\n",
       "      <th>YearsAtCompany</th>\n",
       "      <th>YearsInCurrentRole</th>\n",
       "      <th>YearsSinceLastPromotion</th>\n",
       "      <th>YearsWithCurrManager</th>\n",
       "    </tr>\n",
       "  </thead>\n",
       "  <tbody>\n",
       "    <tr>\n",
       "      <th>0</th>\n",
       "      <td>41</td>\n",
       "      <td>Yes</td>\n",
       "      <td>Travel_Rarely</td>\n",
       "      <td>1102</td>\n",
       "      <td>Sales</td>\n",
       "      <td>1</td>\n",
       "      <td>2</td>\n",
       "      <td>Life Sciences</td>\n",
       "      <td>1</td>\n",
       "      <td>1</td>\n",
       "      <td>...</td>\n",
       "      <td>1</td>\n",
       "      <td>80</td>\n",
       "      <td>0</td>\n",
       "      <td>8</td>\n",
       "      <td>0</td>\n",
       "      <td>1</td>\n",
       "      <td>6</td>\n",
       "      <td>4</td>\n",
       "      <td>0</td>\n",
       "      <td>5</td>\n",
       "    </tr>\n",
       "    <tr>\n",
       "      <th>1</th>\n",
       "      <td>49</td>\n",
       "      <td>No</td>\n",
       "      <td>Travel_Frequently</td>\n",
       "      <td>279</td>\n",
       "      <td>Research &amp; Development</td>\n",
       "      <td>8</td>\n",
       "      <td>1</td>\n",
       "      <td>Life Sciences</td>\n",
       "      <td>1</td>\n",
       "      <td>2</td>\n",
       "      <td>...</td>\n",
       "      <td>4</td>\n",
       "      <td>80</td>\n",
       "      <td>1</td>\n",
       "      <td>10</td>\n",
       "      <td>3</td>\n",
       "      <td>3</td>\n",
       "      <td>10</td>\n",
       "      <td>7</td>\n",
       "      <td>1</td>\n",
       "      <td>7</td>\n",
       "    </tr>\n",
       "    <tr>\n",
       "      <th>2</th>\n",
       "      <td>37</td>\n",
       "      <td>Yes</td>\n",
       "      <td>Travel_Rarely</td>\n",
       "      <td>1373</td>\n",
       "      <td>Research &amp; Development</td>\n",
       "      <td>2</td>\n",
       "      <td>2</td>\n",
       "      <td>Other</td>\n",
       "      <td>1</td>\n",
       "      <td>4</td>\n",
       "      <td>...</td>\n",
       "      <td>2</td>\n",
       "      <td>80</td>\n",
       "      <td>0</td>\n",
       "      <td>7</td>\n",
       "      <td>3</td>\n",
       "      <td>3</td>\n",
       "      <td>0</td>\n",
       "      <td>0</td>\n",
       "      <td>0</td>\n",
       "      <td>0</td>\n",
       "    </tr>\n",
       "    <tr>\n",
       "      <th>3</th>\n",
       "      <td>33</td>\n",
       "      <td>No</td>\n",
       "      <td>Travel_Frequently</td>\n",
       "      <td>1392</td>\n",
       "      <td>Research &amp; Development</td>\n",
       "      <td>3</td>\n",
       "      <td>4</td>\n",
       "      <td>Life Sciences</td>\n",
       "      <td>1</td>\n",
       "      <td>5</td>\n",
       "      <td>...</td>\n",
       "      <td>3</td>\n",
       "      <td>80</td>\n",
       "      <td>0</td>\n",
       "      <td>8</td>\n",
       "      <td>3</td>\n",
       "      <td>3</td>\n",
       "      <td>8</td>\n",
       "      <td>7</td>\n",
       "      <td>3</td>\n",
       "      <td>0</td>\n",
       "    </tr>\n",
       "    <tr>\n",
       "      <th>4</th>\n",
       "      <td>27</td>\n",
       "      <td>No</td>\n",
       "      <td>Travel_Rarely</td>\n",
       "      <td>591</td>\n",
       "      <td>Research &amp; Development</td>\n",
       "      <td>2</td>\n",
       "      <td>1</td>\n",
       "      <td>Medical</td>\n",
       "      <td>1</td>\n",
       "      <td>7</td>\n",
       "      <td>...</td>\n",
       "      <td>4</td>\n",
       "      <td>80</td>\n",
       "      <td>1</td>\n",
       "      <td>6</td>\n",
       "      <td>3</td>\n",
       "      <td>3</td>\n",
       "      <td>2</td>\n",
       "      <td>2</td>\n",
       "      <td>2</td>\n",
       "      <td>2</td>\n",
       "    </tr>\n",
       "    <tr>\n",
       "      <th>5</th>\n",
       "      <td>32</td>\n",
       "      <td>No</td>\n",
       "      <td>Travel_Frequently</td>\n",
       "      <td>1005</td>\n",
       "      <td>Research &amp; Development</td>\n",
       "      <td>2</td>\n",
       "      <td>2</td>\n",
       "      <td>Life Sciences</td>\n",
       "      <td>1</td>\n",
       "      <td>8</td>\n",
       "      <td>...</td>\n",
       "      <td>3</td>\n",
       "      <td>80</td>\n",
       "      <td>0</td>\n",
       "      <td>8</td>\n",
       "      <td>2</td>\n",
       "      <td>2</td>\n",
       "      <td>7</td>\n",
       "      <td>7</td>\n",
       "      <td>3</td>\n",
       "      <td>6</td>\n",
       "    </tr>\n",
       "    <tr>\n",
       "      <th>6</th>\n",
       "      <td>59</td>\n",
       "      <td>No</td>\n",
       "      <td>Travel_Rarely</td>\n",
       "      <td>1324</td>\n",
       "      <td>Research &amp; Development</td>\n",
       "      <td>3</td>\n",
       "      <td>3</td>\n",
       "      <td>Medical</td>\n",
       "      <td>1</td>\n",
       "      <td>10</td>\n",
       "      <td>...</td>\n",
       "      <td>1</td>\n",
       "      <td>80</td>\n",
       "      <td>3</td>\n",
       "      <td>12</td>\n",
       "      <td>3</td>\n",
       "      <td>2</td>\n",
       "      <td>1</td>\n",
       "      <td>0</td>\n",
       "      <td>0</td>\n",
       "      <td>0</td>\n",
       "    </tr>\n",
       "    <tr>\n",
       "      <th>7</th>\n",
       "      <td>30</td>\n",
       "      <td>No</td>\n",
       "      <td>Travel_Rarely</td>\n",
       "      <td>1358</td>\n",
       "      <td>Research &amp; Development</td>\n",
       "      <td>24</td>\n",
       "      <td>1</td>\n",
       "      <td>Life Sciences</td>\n",
       "      <td>1</td>\n",
       "      <td>11</td>\n",
       "      <td>...</td>\n",
       "      <td>2</td>\n",
       "      <td>80</td>\n",
       "      <td>1</td>\n",
       "      <td>1</td>\n",
       "      <td>2</td>\n",
       "      <td>3</td>\n",
       "      <td>1</td>\n",
       "      <td>0</td>\n",
       "      <td>0</td>\n",
       "      <td>0</td>\n",
       "    </tr>\n",
       "    <tr>\n",
       "      <th>8</th>\n",
       "      <td>38</td>\n",
       "      <td>No</td>\n",
       "      <td>Travel_Frequently</td>\n",
       "      <td>216</td>\n",
       "      <td>Research &amp; Development</td>\n",
       "      <td>23</td>\n",
       "      <td>3</td>\n",
       "      <td>Life Sciences</td>\n",
       "      <td>1</td>\n",
       "      <td>12</td>\n",
       "      <td>...</td>\n",
       "      <td>2</td>\n",
       "      <td>80</td>\n",
       "      <td>0</td>\n",
       "      <td>10</td>\n",
       "      <td>2</td>\n",
       "      <td>3</td>\n",
       "      <td>9</td>\n",
       "      <td>7</td>\n",
       "      <td>1</td>\n",
       "      <td>8</td>\n",
       "    </tr>\n",
       "    <tr>\n",
       "      <th>9</th>\n",
       "      <td>36</td>\n",
       "      <td>No</td>\n",
       "      <td>Travel_Rarely</td>\n",
       "      <td>1299</td>\n",
       "      <td>Research &amp; Development</td>\n",
       "      <td>27</td>\n",
       "      <td>3</td>\n",
       "      <td>Medical</td>\n",
       "      <td>1</td>\n",
       "      <td>13</td>\n",
       "      <td>...</td>\n",
       "      <td>2</td>\n",
       "      <td>80</td>\n",
       "      <td>2</td>\n",
       "      <td>17</td>\n",
       "      <td>3</td>\n",
       "      <td>2</td>\n",
       "      <td>7</td>\n",
       "      <td>7</td>\n",
       "      <td>7</td>\n",
       "      <td>7</td>\n",
       "    </tr>\n",
       "  </tbody>\n",
       "</table>\n",
       "<p>10 rows × 35 columns</p>\n",
       "</div>"
      ],
      "text/plain": [
       "   Age Attrition     BusinessTravel  DailyRate              Department  \\\n",
       "0   41       Yes      Travel_Rarely       1102                   Sales   \n",
       "1   49        No  Travel_Frequently        279  Research & Development   \n",
       "2   37       Yes      Travel_Rarely       1373  Research & Development   \n",
       "3   33        No  Travel_Frequently       1392  Research & Development   \n",
       "4   27        No      Travel_Rarely        591  Research & Development   \n",
       "5   32        No  Travel_Frequently       1005  Research & Development   \n",
       "6   59        No      Travel_Rarely       1324  Research & Development   \n",
       "7   30        No      Travel_Rarely       1358  Research & Development   \n",
       "8   38        No  Travel_Frequently        216  Research & Development   \n",
       "9   36        No      Travel_Rarely       1299  Research & Development   \n",
       "\n",
       "   DistanceFromHome  Education EducationField  EmployeeCount  EmployeeNumber  \\\n",
       "0                 1          2  Life Sciences              1               1   \n",
       "1                 8          1  Life Sciences              1               2   \n",
       "2                 2          2          Other              1               4   \n",
       "3                 3          4  Life Sciences              1               5   \n",
       "4                 2          1        Medical              1               7   \n",
       "5                 2          2  Life Sciences              1               8   \n",
       "6                 3          3        Medical              1              10   \n",
       "7                24          1  Life Sciences              1              11   \n",
       "8                23          3  Life Sciences              1              12   \n",
       "9                27          3        Medical              1              13   \n",
       "\n",
       "   ...  RelationshipSatisfaction StandardHours  StockOptionLevel  \\\n",
       "0  ...                         1            80                 0   \n",
       "1  ...                         4            80                 1   \n",
       "2  ...                         2            80                 0   \n",
       "3  ...                         3            80                 0   \n",
       "4  ...                         4            80                 1   \n",
       "5  ...                         3            80                 0   \n",
       "6  ...                         1            80                 3   \n",
       "7  ...                         2            80                 1   \n",
       "8  ...                         2            80                 0   \n",
       "9  ...                         2            80                 2   \n",
       "\n",
       "   TotalWorkingYears  TrainingTimesLastYear WorkLifeBalance  YearsAtCompany  \\\n",
       "0                  8                      0               1               6   \n",
       "1                 10                      3               3              10   \n",
       "2                  7                      3               3               0   \n",
       "3                  8                      3               3               8   \n",
       "4                  6                      3               3               2   \n",
       "5                  8                      2               2               7   \n",
       "6                 12                      3               2               1   \n",
       "7                  1                      2               3               1   \n",
       "8                 10                      2               3               9   \n",
       "9                 17                      3               2               7   \n",
       "\n",
       "  YearsInCurrentRole  YearsSinceLastPromotion  YearsWithCurrManager  \n",
       "0                  4                        0                     5  \n",
       "1                  7                        1                     7  \n",
       "2                  0                        0                     0  \n",
       "3                  7                        3                     0  \n",
       "4                  2                        2                     2  \n",
       "5                  7                        3                     6  \n",
       "6                  0                        0                     0  \n",
       "7                  0                        0                     0  \n",
       "8                  7                        1                     8  \n",
       "9                  7                        7                     7  \n",
       "\n",
       "[10 rows x 35 columns]"
      ]
     },
     "execution_count": 54,
     "metadata": {},
     "output_type": "execute_result"
    }
   ],
   "source": [
    "# display first 10 rows of data\n",
    "df.head(10)"
   ]
  },
  {
   "cell_type": "markdown",
   "id": "43cae1d2",
   "metadata": {},
   "source": [
    "### Data Preparation and Descriptive Analysis\n",
    "Features used in this project include: \n",
    "\n",
    " **Feature**                | **Description**                                                                                        \n",
    ":----------------------------|:--------------------------------------------------------------------------------------------------------\n",
    " Age                        | Employee's age                                                                                         \n",
    " Education                  | Employee's level of education, encoded from 1-5 (assuming 1 is high school, 5 is PhD and beyond)       \n",
    " Environment Satisfaction   | Employee's satisfaction with work environment on scale from 1-4                                        \n",
    " Gender                     | Employee's gender                                                                                      \n",
    " Hourly Rate                | Employee's hourly pay rate                                                                             \n",
    " Job Involvement            | Employee's level of involvement in their job on a scale from 1-4                                       \n",
    " Job Level                  | Employee's job level on encoded on a scale of 1-5, where 1 is the most junior and 5 is the most senior \n",
    " Job Role                   | Employee's job position                                                                                \n",
    " Job Satisfaction           | Employee's overall job satisfaction on a scale from 1-4                                                \n",
    " Marital Status             | Employee's marital status, can be married, divorced, or single                                         \n",
    " Monthly Income             | Employee's monthly take home pay (assuming before taxes, based on number of hours worked)              \n",
    " Performance Rating         | Employee's performance rating on a scale from 1-4                                                      \n",
    " Relationship Satisfaction  | Employee's satisfaction with their relationship(s) with others at work on a scale from 1-4             \n",
    " Work Life Balance          | Employee's perception of work-life balance on a scale from 1-4                                         \n",
    " Years at Company           | Number of years worked at the company (IBM)                                                            \n",
    " Years in Current Role      | Number of years in employee's current position                                                         \n",
    " Years Since Last Promotion | Number of years since employee's last promotion                                     "
   ]
  },
  {
   "cell_type": "markdown",
   "id": "784f112d",
   "metadata": {},
   "source": [
    "*Note that* **attrition** *is the target feature this project aims to predict based on the features above.*"
   ]
  },
  {
   "cell_type": "code",
   "execution_count": 55,
   "id": "5b0df5b7",
   "metadata": {
    "ExecuteTime": {
     "end_time": "2023-02-03T00:45:30.926232Z",
     "start_time": "2023-02-03T00:45:30.894234Z"
    }
   },
   "outputs": [
    {
     "data": {
      "text/html": [
       "<div>\n",
       "<style scoped>\n",
       "    .dataframe tbody tr th:only-of-type {\n",
       "        vertical-align: middle;\n",
       "    }\n",
       "\n",
       "    .dataframe tbody tr th {\n",
       "        vertical-align: top;\n",
       "    }\n",
       "\n",
       "    .dataframe thead th {\n",
       "        text-align: right;\n",
       "    }\n",
       "</style>\n",
       "<table border=\"1\" class=\"dataframe\">\n",
       "  <thead>\n",
       "    <tr style=\"text-align: right;\">\n",
       "      <th></th>\n",
       "      <th>Age</th>\n",
       "      <th>Attrition</th>\n",
       "      <th>Education</th>\n",
       "      <th>EnvironmentSatisfaction</th>\n",
       "      <th>Gender</th>\n",
       "      <th>HourlyRate</th>\n",
       "      <th>JobInvolvement</th>\n",
       "      <th>JobLevel</th>\n",
       "      <th>JobRole</th>\n",
       "      <th>JobSatisfaction</th>\n",
       "      <th>MaritalStatus</th>\n",
       "      <th>MonthlyIncome</th>\n",
       "      <th>PerformanceRating</th>\n",
       "      <th>RelationshipSatisfaction</th>\n",
       "      <th>WorkLifeBalance</th>\n",
       "      <th>YearsAtCompany</th>\n",
       "      <th>YearsInCurrentRole</th>\n",
       "      <th>YearsSinceLastPromotion</th>\n",
       "    </tr>\n",
       "  </thead>\n",
       "  <tbody>\n",
       "    <tr>\n",
       "      <th>0</th>\n",
       "      <td>41</td>\n",
       "      <td>Yes</td>\n",
       "      <td>2</td>\n",
       "      <td>2</td>\n",
       "      <td>Female</td>\n",
       "      <td>94</td>\n",
       "      <td>3</td>\n",
       "      <td>2</td>\n",
       "      <td>Sales Executive</td>\n",
       "      <td>4</td>\n",
       "      <td>Single</td>\n",
       "      <td>5993</td>\n",
       "      <td>3</td>\n",
       "      <td>1</td>\n",
       "      <td>1</td>\n",
       "      <td>6</td>\n",
       "      <td>4</td>\n",
       "      <td>0</td>\n",
       "    </tr>\n",
       "    <tr>\n",
       "      <th>1</th>\n",
       "      <td>49</td>\n",
       "      <td>No</td>\n",
       "      <td>1</td>\n",
       "      <td>3</td>\n",
       "      <td>Male</td>\n",
       "      <td>61</td>\n",
       "      <td>2</td>\n",
       "      <td>2</td>\n",
       "      <td>Research Scientist</td>\n",
       "      <td>2</td>\n",
       "      <td>Married</td>\n",
       "      <td>5130</td>\n",
       "      <td>4</td>\n",
       "      <td>4</td>\n",
       "      <td>3</td>\n",
       "      <td>10</td>\n",
       "      <td>7</td>\n",
       "      <td>1</td>\n",
       "    </tr>\n",
       "    <tr>\n",
       "      <th>2</th>\n",
       "      <td>37</td>\n",
       "      <td>Yes</td>\n",
       "      <td>2</td>\n",
       "      <td>4</td>\n",
       "      <td>Male</td>\n",
       "      <td>92</td>\n",
       "      <td>2</td>\n",
       "      <td>1</td>\n",
       "      <td>Laboratory Technician</td>\n",
       "      <td>3</td>\n",
       "      <td>Single</td>\n",
       "      <td>2090</td>\n",
       "      <td>3</td>\n",
       "      <td>2</td>\n",
       "      <td>3</td>\n",
       "      <td>0</td>\n",
       "      <td>0</td>\n",
       "      <td>0</td>\n",
       "    </tr>\n",
       "    <tr>\n",
       "      <th>3</th>\n",
       "      <td>33</td>\n",
       "      <td>No</td>\n",
       "      <td>4</td>\n",
       "      <td>4</td>\n",
       "      <td>Female</td>\n",
       "      <td>56</td>\n",
       "      <td>3</td>\n",
       "      <td>1</td>\n",
       "      <td>Research Scientist</td>\n",
       "      <td>3</td>\n",
       "      <td>Married</td>\n",
       "      <td>2909</td>\n",
       "      <td>3</td>\n",
       "      <td>3</td>\n",
       "      <td>3</td>\n",
       "      <td>8</td>\n",
       "      <td>7</td>\n",
       "      <td>3</td>\n",
       "    </tr>\n",
       "    <tr>\n",
       "      <th>4</th>\n",
       "      <td>27</td>\n",
       "      <td>No</td>\n",
       "      <td>1</td>\n",
       "      <td>1</td>\n",
       "      <td>Male</td>\n",
       "      <td>40</td>\n",
       "      <td>3</td>\n",
       "      <td>1</td>\n",
       "      <td>Laboratory Technician</td>\n",
       "      <td>2</td>\n",
       "      <td>Married</td>\n",
       "      <td>3468</td>\n",
       "      <td>3</td>\n",
       "      <td>4</td>\n",
       "      <td>3</td>\n",
       "      <td>2</td>\n",
       "      <td>2</td>\n",
       "      <td>2</td>\n",
       "    </tr>\n",
       "    <tr>\n",
       "      <th>5</th>\n",
       "      <td>32</td>\n",
       "      <td>No</td>\n",
       "      <td>2</td>\n",
       "      <td>4</td>\n",
       "      <td>Male</td>\n",
       "      <td>79</td>\n",
       "      <td>3</td>\n",
       "      <td>1</td>\n",
       "      <td>Laboratory Technician</td>\n",
       "      <td>4</td>\n",
       "      <td>Single</td>\n",
       "      <td>3068</td>\n",
       "      <td>3</td>\n",
       "      <td>3</td>\n",
       "      <td>2</td>\n",
       "      <td>7</td>\n",
       "      <td>7</td>\n",
       "      <td>3</td>\n",
       "    </tr>\n",
       "    <tr>\n",
       "      <th>6</th>\n",
       "      <td>59</td>\n",
       "      <td>No</td>\n",
       "      <td>3</td>\n",
       "      <td>3</td>\n",
       "      <td>Female</td>\n",
       "      <td>81</td>\n",
       "      <td>4</td>\n",
       "      <td>1</td>\n",
       "      <td>Laboratory Technician</td>\n",
       "      <td>1</td>\n",
       "      <td>Married</td>\n",
       "      <td>2670</td>\n",
       "      <td>4</td>\n",
       "      <td>1</td>\n",
       "      <td>2</td>\n",
       "      <td>1</td>\n",
       "      <td>0</td>\n",
       "      <td>0</td>\n",
       "    </tr>\n",
       "    <tr>\n",
       "      <th>7</th>\n",
       "      <td>30</td>\n",
       "      <td>No</td>\n",
       "      <td>1</td>\n",
       "      <td>4</td>\n",
       "      <td>Male</td>\n",
       "      <td>67</td>\n",
       "      <td>3</td>\n",
       "      <td>1</td>\n",
       "      <td>Laboratory Technician</td>\n",
       "      <td>3</td>\n",
       "      <td>Divorced</td>\n",
       "      <td>2693</td>\n",
       "      <td>4</td>\n",
       "      <td>2</td>\n",
       "      <td>3</td>\n",
       "      <td>1</td>\n",
       "      <td>0</td>\n",
       "      <td>0</td>\n",
       "    </tr>\n",
       "    <tr>\n",
       "      <th>8</th>\n",
       "      <td>38</td>\n",
       "      <td>No</td>\n",
       "      <td>3</td>\n",
       "      <td>4</td>\n",
       "      <td>Male</td>\n",
       "      <td>44</td>\n",
       "      <td>2</td>\n",
       "      <td>3</td>\n",
       "      <td>Manufacturing Director</td>\n",
       "      <td>3</td>\n",
       "      <td>Single</td>\n",
       "      <td>9526</td>\n",
       "      <td>4</td>\n",
       "      <td>2</td>\n",
       "      <td>3</td>\n",
       "      <td>9</td>\n",
       "      <td>7</td>\n",
       "      <td>1</td>\n",
       "    </tr>\n",
       "    <tr>\n",
       "      <th>9</th>\n",
       "      <td>36</td>\n",
       "      <td>No</td>\n",
       "      <td>3</td>\n",
       "      <td>3</td>\n",
       "      <td>Male</td>\n",
       "      <td>94</td>\n",
       "      <td>3</td>\n",
       "      <td>2</td>\n",
       "      <td>Healthcare Representative</td>\n",
       "      <td>3</td>\n",
       "      <td>Married</td>\n",
       "      <td>5237</td>\n",
       "      <td>3</td>\n",
       "      <td>2</td>\n",
       "      <td>2</td>\n",
       "      <td>7</td>\n",
       "      <td>7</td>\n",
       "      <td>7</td>\n",
       "    </tr>\n",
       "  </tbody>\n",
       "</table>\n",
       "</div>"
      ],
      "text/plain": [
       "   Age Attrition  Education  EnvironmentSatisfaction  Gender  HourlyRate  \\\n",
       "0   41       Yes          2                        2  Female          94   \n",
       "1   49        No          1                        3    Male          61   \n",
       "2   37       Yes          2                        4    Male          92   \n",
       "3   33        No          4                        4  Female          56   \n",
       "4   27        No          1                        1    Male          40   \n",
       "5   32        No          2                        4    Male          79   \n",
       "6   59        No          3                        3  Female          81   \n",
       "7   30        No          1                        4    Male          67   \n",
       "8   38        No          3                        4    Male          44   \n",
       "9   36        No          3                        3    Male          94   \n",
       "\n",
       "   JobInvolvement  JobLevel                    JobRole  JobSatisfaction  \\\n",
       "0               3         2            Sales Executive                4   \n",
       "1               2         2         Research Scientist                2   \n",
       "2               2         1      Laboratory Technician                3   \n",
       "3               3         1         Research Scientist                3   \n",
       "4               3         1      Laboratory Technician                2   \n",
       "5               3         1      Laboratory Technician                4   \n",
       "6               4         1      Laboratory Technician                1   \n",
       "7               3         1      Laboratory Technician                3   \n",
       "8               2         3     Manufacturing Director                3   \n",
       "9               3         2  Healthcare Representative                3   \n",
       "\n",
       "  MaritalStatus  MonthlyIncome  PerformanceRating  RelationshipSatisfaction  \\\n",
       "0        Single           5993                  3                         1   \n",
       "1       Married           5130                  4                         4   \n",
       "2        Single           2090                  3                         2   \n",
       "3       Married           2909                  3                         3   \n",
       "4       Married           3468                  3                         4   \n",
       "5        Single           3068                  3                         3   \n",
       "6       Married           2670                  4                         1   \n",
       "7      Divorced           2693                  4                         2   \n",
       "8        Single           9526                  4                         2   \n",
       "9       Married           5237                  3                         2   \n",
       "\n",
       "   WorkLifeBalance  YearsAtCompany  YearsInCurrentRole  \\\n",
       "0                1               6                   4   \n",
       "1                3              10                   7   \n",
       "2                3               0                   0   \n",
       "3                3               8                   7   \n",
       "4                3               2                   2   \n",
       "5                2               7                   7   \n",
       "6                2               1                   0   \n",
       "7                3               1                   0   \n",
       "8                3               9                   7   \n",
       "9                2               7                   7   \n",
       "\n",
       "   YearsSinceLastPromotion  \n",
       "0                        0  \n",
       "1                        1  \n",
       "2                        0  \n",
       "3                        3  \n",
       "4                        2  \n",
       "5                        3  \n",
       "6                        0  \n",
       "7                        0  \n",
       "8                        1  \n",
       "9                        7  "
      ]
     },
     "execution_count": 55,
     "metadata": {},
     "output_type": "execute_result"
    }
   ],
   "source": [
    "# remove columns not used in analysis\n",
    "df = df[['Age', 'Attrition', 'Education', 'EnvironmentSatisfaction', 'Gender', 'HourlyRate', 'JobInvolvement', 'JobLevel', 'JobRole', 'JobSatisfaction', 'MaritalStatus', 'MonthlyIncome', 'PerformanceRating', 'RelationshipSatisfaction', 'WorkLifeBalance', 'YearsAtCompany', 'YearsInCurrentRole', 'YearsSinceLastPromotion']]\n",
    "df.head(10)"
   ]
  },
  {
   "cell_type": "markdown",
   "id": "2516ede4",
   "metadata": {},
   "source": [
    "#### Encoding Columns\n",
    "The \"Attrition\", \"Gender\", \"JobRole\", and \"MaritalStatus\" columns need to be encoded in order to be used in the prediction of the \"Attrition\" target feature. "
   ]
  },
  {
   "cell_type": "code",
   "execution_count": 56,
   "id": "292b8fe4",
   "metadata": {
    "ExecuteTime": {
     "end_time": "2023-02-03T00:45:30.950232Z",
     "start_time": "2023-02-03T00:45:30.926232Z"
    }
   },
   "outputs": [],
   "source": [
    "# method to encode a column of values\n",
    "def encode_column(dataframe, col_name):\n",
    "    label_encoder = LabelEncoder()\n",
    "    label_encoder.fit(dataframe)\n",
    "    labeled_vals = label_encoder.transform(dataframe)\n",
    "    label_df = pd.DataFrame(labeled_vals, columns=[col_name])\n",
    "    return label_df"
   ]
  },
  {
   "cell_type": "code",
   "execution_count": 57,
   "id": "25778fc2",
   "metadata": {
    "ExecuteTime": {
     "end_time": "2023-02-03T00:45:30.990235Z",
     "start_time": "2023-02-03T00:45:30.950232Z"
    }
   },
   "outputs": [
    {
     "data": {
      "text/html": [
       "<div>\n",
       "<style scoped>\n",
       "    .dataframe tbody tr th:only-of-type {\n",
       "        vertical-align: middle;\n",
       "    }\n",
       "\n",
       "    .dataframe tbody tr th {\n",
       "        vertical-align: top;\n",
       "    }\n",
       "\n",
       "    .dataframe thead th {\n",
       "        text-align: right;\n",
       "    }\n",
       "</style>\n",
       "<table border=\"1\" class=\"dataframe\">\n",
       "  <thead>\n",
       "    <tr style=\"text-align: right;\">\n",
       "      <th></th>\n",
       "      <th>Age</th>\n",
       "      <th>Education</th>\n",
       "      <th>EnvironmentSatisfaction</th>\n",
       "      <th>HourlyRate</th>\n",
       "      <th>JobInvolvement</th>\n",
       "      <th>JobLevel</th>\n",
       "      <th>JobSatisfaction</th>\n",
       "      <th>MonthlyIncome</th>\n",
       "      <th>PerformanceRating</th>\n",
       "      <th>RelationshipSatisfaction</th>\n",
       "      <th>WorkLifeBalance</th>\n",
       "      <th>YearsAtCompany</th>\n",
       "      <th>YearsInCurrentRole</th>\n",
       "      <th>YearsSinceLastPromotion</th>\n",
       "      <th>AttritionEncoded</th>\n",
       "      <th>GenderEncoded</th>\n",
       "      <th>JobRoleEncoded</th>\n",
       "      <th>MaritalStatusEncoded</th>\n",
       "    </tr>\n",
       "  </thead>\n",
       "  <tbody>\n",
       "    <tr>\n",
       "      <th>0</th>\n",
       "      <td>41</td>\n",
       "      <td>2</td>\n",
       "      <td>2</td>\n",
       "      <td>94</td>\n",
       "      <td>3</td>\n",
       "      <td>2</td>\n",
       "      <td>4</td>\n",
       "      <td>5993</td>\n",
       "      <td>3</td>\n",
       "      <td>1</td>\n",
       "      <td>1</td>\n",
       "      <td>6</td>\n",
       "      <td>4</td>\n",
       "      <td>0</td>\n",
       "      <td>1</td>\n",
       "      <td>0</td>\n",
       "      <td>7</td>\n",
       "      <td>2</td>\n",
       "    </tr>\n",
       "    <tr>\n",
       "      <th>1</th>\n",
       "      <td>49</td>\n",
       "      <td>1</td>\n",
       "      <td>3</td>\n",
       "      <td>61</td>\n",
       "      <td>2</td>\n",
       "      <td>2</td>\n",
       "      <td>2</td>\n",
       "      <td>5130</td>\n",
       "      <td>4</td>\n",
       "      <td>4</td>\n",
       "      <td>3</td>\n",
       "      <td>10</td>\n",
       "      <td>7</td>\n",
       "      <td>1</td>\n",
       "      <td>0</td>\n",
       "      <td>1</td>\n",
       "      <td>6</td>\n",
       "      <td>1</td>\n",
       "    </tr>\n",
       "    <tr>\n",
       "      <th>2</th>\n",
       "      <td>37</td>\n",
       "      <td>2</td>\n",
       "      <td>4</td>\n",
       "      <td>92</td>\n",
       "      <td>2</td>\n",
       "      <td>1</td>\n",
       "      <td>3</td>\n",
       "      <td>2090</td>\n",
       "      <td>3</td>\n",
       "      <td>2</td>\n",
       "      <td>3</td>\n",
       "      <td>0</td>\n",
       "      <td>0</td>\n",
       "      <td>0</td>\n",
       "      <td>1</td>\n",
       "      <td>1</td>\n",
       "      <td>2</td>\n",
       "      <td>2</td>\n",
       "    </tr>\n",
       "    <tr>\n",
       "      <th>3</th>\n",
       "      <td>33</td>\n",
       "      <td>4</td>\n",
       "      <td>4</td>\n",
       "      <td>56</td>\n",
       "      <td>3</td>\n",
       "      <td>1</td>\n",
       "      <td>3</td>\n",
       "      <td>2909</td>\n",
       "      <td>3</td>\n",
       "      <td>3</td>\n",
       "      <td>3</td>\n",
       "      <td>8</td>\n",
       "      <td>7</td>\n",
       "      <td>3</td>\n",
       "      <td>0</td>\n",
       "      <td>0</td>\n",
       "      <td>6</td>\n",
       "      <td>1</td>\n",
       "    </tr>\n",
       "    <tr>\n",
       "      <th>4</th>\n",
       "      <td>27</td>\n",
       "      <td>1</td>\n",
       "      <td>1</td>\n",
       "      <td>40</td>\n",
       "      <td>3</td>\n",
       "      <td>1</td>\n",
       "      <td>2</td>\n",
       "      <td>3468</td>\n",
       "      <td>3</td>\n",
       "      <td>4</td>\n",
       "      <td>3</td>\n",
       "      <td>2</td>\n",
       "      <td>2</td>\n",
       "      <td>2</td>\n",
       "      <td>0</td>\n",
       "      <td>1</td>\n",
       "      <td>2</td>\n",
       "      <td>1</td>\n",
       "    </tr>\n",
       "    <tr>\n",
       "      <th>5</th>\n",
       "      <td>32</td>\n",
       "      <td>2</td>\n",
       "      <td>4</td>\n",
       "      <td>79</td>\n",
       "      <td>3</td>\n",
       "      <td>1</td>\n",
       "      <td>4</td>\n",
       "      <td>3068</td>\n",
       "      <td>3</td>\n",
       "      <td>3</td>\n",
       "      <td>2</td>\n",
       "      <td>7</td>\n",
       "      <td>7</td>\n",
       "      <td>3</td>\n",
       "      <td>0</td>\n",
       "      <td>1</td>\n",
       "      <td>2</td>\n",
       "      <td>2</td>\n",
       "    </tr>\n",
       "    <tr>\n",
       "      <th>6</th>\n",
       "      <td>59</td>\n",
       "      <td>3</td>\n",
       "      <td>3</td>\n",
       "      <td>81</td>\n",
       "      <td>4</td>\n",
       "      <td>1</td>\n",
       "      <td>1</td>\n",
       "      <td>2670</td>\n",
       "      <td>4</td>\n",
       "      <td>1</td>\n",
       "      <td>2</td>\n",
       "      <td>1</td>\n",
       "      <td>0</td>\n",
       "      <td>0</td>\n",
       "      <td>0</td>\n",
       "      <td>0</td>\n",
       "      <td>2</td>\n",
       "      <td>1</td>\n",
       "    </tr>\n",
       "    <tr>\n",
       "      <th>7</th>\n",
       "      <td>30</td>\n",
       "      <td>1</td>\n",
       "      <td>4</td>\n",
       "      <td>67</td>\n",
       "      <td>3</td>\n",
       "      <td>1</td>\n",
       "      <td>3</td>\n",
       "      <td>2693</td>\n",
       "      <td>4</td>\n",
       "      <td>2</td>\n",
       "      <td>3</td>\n",
       "      <td>1</td>\n",
       "      <td>0</td>\n",
       "      <td>0</td>\n",
       "      <td>0</td>\n",
       "      <td>1</td>\n",
       "      <td>2</td>\n",
       "      <td>0</td>\n",
       "    </tr>\n",
       "    <tr>\n",
       "      <th>8</th>\n",
       "      <td>38</td>\n",
       "      <td>3</td>\n",
       "      <td>4</td>\n",
       "      <td>44</td>\n",
       "      <td>2</td>\n",
       "      <td>3</td>\n",
       "      <td>3</td>\n",
       "      <td>9526</td>\n",
       "      <td>4</td>\n",
       "      <td>2</td>\n",
       "      <td>3</td>\n",
       "      <td>9</td>\n",
       "      <td>7</td>\n",
       "      <td>1</td>\n",
       "      <td>0</td>\n",
       "      <td>1</td>\n",
       "      <td>4</td>\n",
       "      <td>2</td>\n",
       "    </tr>\n",
       "    <tr>\n",
       "      <th>9</th>\n",
       "      <td>36</td>\n",
       "      <td>3</td>\n",
       "      <td>3</td>\n",
       "      <td>94</td>\n",
       "      <td>3</td>\n",
       "      <td>2</td>\n",
       "      <td>3</td>\n",
       "      <td>5237</td>\n",
       "      <td>3</td>\n",
       "      <td>2</td>\n",
       "      <td>2</td>\n",
       "      <td>7</td>\n",
       "      <td>7</td>\n",
       "      <td>7</td>\n",
       "      <td>0</td>\n",
       "      <td>1</td>\n",
       "      <td>0</td>\n",
       "      <td>1</td>\n",
       "    </tr>\n",
       "  </tbody>\n",
       "</table>\n",
       "</div>"
      ],
      "text/plain": [
       "   Age  Education  EnvironmentSatisfaction  HourlyRate  JobInvolvement  \\\n",
       "0   41          2                        2          94               3   \n",
       "1   49          1                        3          61               2   \n",
       "2   37          2                        4          92               2   \n",
       "3   33          4                        4          56               3   \n",
       "4   27          1                        1          40               3   \n",
       "5   32          2                        4          79               3   \n",
       "6   59          3                        3          81               4   \n",
       "7   30          1                        4          67               3   \n",
       "8   38          3                        4          44               2   \n",
       "9   36          3                        3          94               3   \n",
       "\n",
       "   JobLevel  JobSatisfaction  MonthlyIncome  PerformanceRating  \\\n",
       "0         2                4           5993                  3   \n",
       "1         2                2           5130                  4   \n",
       "2         1                3           2090                  3   \n",
       "3         1                3           2909                  3   \n",
       "4         1                2           3468                  3   \n",
       "5         1                4           3068                  3   \n",
       "6         1                1           2670                  4   \n",
       "7         1                3           2693                  4   \n",
       "8         3                3           9526                  4   \n",
       "9         2                3           5237                  3   \n",
       "\n",
       "   RelationshipSatisfaction  WorkLifeBalance  YearsAtCompany  \\\n",
       "0                         1                1               6   \n",
       "1                         4                3              10   \n",
       "2                         2                3               0   \n",
       "3                         3                3               8   \n",
       "4                         4                3               2   \n",
       "5                         3                2               7   \n",
       "6                         1                2               1   \n",
       "7                         2                3               1   \n",
       "8                         2                3               9   \n",
       "9                         2                2               7   \n",
       "\n",
       "   YearsInCurrentRole  YearsSinceLastPromotion  AttritionEncoded  \\\n",
       "0                   4                        0                 1   \n",
       "1                   7                        1                 0   \n",
       "2                   0                        0                 1   \n",
       "3                   7                        3                 0   \n",
       "4                   2                        2                 0   \n",
       "5                   7                        3                 0   \n",
       "6                   0                        0                 0   \n",
       "7                   0                        0                 0   \n",
       "8                   7                        1                 0   \n",
       "9                   7                        7                 0   \n",
       "\n",
       "   GenderEncoded  JobRoleEncoded  MaritalStatusEncoded  \n",
       "0              0               7                     2  \n",
       "1              1               6                     1  \n",
       "2              1               2                     2  \n",
       "3              0               6                     1  \n",
       "4              1               2                     1  \n",
       "5              1               2                     2  \n",
       "6              0               2                     1  \n",
       "7              1               2                     0  \n",
       "8              1               4                     2  \n",
       "9              1               0                     1  "
      ]
     },
     "execution_count": 57,
     "metadata": {},
     "output_type": "execute_result"
    }
   ],
   "source": [
    "# encoding Attrition (target variable), Gender, JobRole, and MaritalStatus\n",
    "cols_to_encode = ['Attrition', 'Gender', 'JobRole', 'MaritalStatus']\n",
    "\n",
    "for i in cols_to_encode:\n",
    "    # encode columns and append to existing dataframe\n",
    "    df[i + 'Encoded'] = encode_column(df[i], i)   \n",
    "    \n",
    "# remove unneeded cols\n",
    "df = df.drop(df[cols_to_encode], axis=1)\n",
    "\n",
    "df.head(10)"
   ]
  },
  {
   "cell_type": "markdown",
   "id": "42392661",
   "metadata": {},
   "source": [
    "#### Encoded Values and Their Meanings\n",
    "**Attrition**\n",
    "\n",
    " **Value** | **Encoding** \n",
    "-----------|--------------\n",
    " No        | 0            \n",
    " Yes       | 1            \n",
    "\n",
    "**Gender**\n",
    "\n",
    " **Value** | **Encoding** \n",
    "-----------|--------------\n",
    " Female    | 0            \n",
    " Male      | 1            \n",
    "\n",
    "\n",
    "**JobRole**\n",
    "\n",
    " **Value**                 | **Encoding** \n",
    "---------------------------|--------------\n",
    " Healthcare Representative | 0            \n",
    " Human Resources           | 1            \n",
    " Laboratory Technician     | 2            \n",
    " Manager                   | 3            \n",
    " Manufacturing Director    | 4            \n",
    " Research Director         | 5            \n",
    " Research Scientist        | 6            \n",
    " Sales Executive           | 7            \n",
    " Sales Representative      | 8            \n",
    "\n",
    "**Marital Status**\n",
    "\n",
    " **Value** | **Encoding** \n",
    "-----------|--------------\n",
    " Divorced  | 0            \n",
    " Married   | 1            \n",
    " Single    | 2            "
   ]
  },
  {
   "cell_type": "markdown",
   "id": "4369569c",
   "metadata": {},
   "source": [
    "### Descriptive Analysis of Features Included in Analysis\n",
    "For encoded variables, only a percentage of each feature will be presented. For non-encoded variables, descriptive features such as mean, min and max will be presented."
   ]
  },
  {
   "cell_type": "code",
   "execution_count": 58,
   "id": "d7b35ff2",
   "metadata": {
    "ExecuteTime": {
     "end_time": "2023-02-03T00:45:31.014235Z",
     "start_time": "2023-02-03T00:45:30.990235Z"
    }
   },
   "outputs": [
    {
     "data": {
      "text/plain": [
       "count    1470.000000\n",
       "mean       36.923810\n",
       "std         9.135373\n",
       "min        18.000000\n",
       "25%        30.000000\n",
       "50%        36.000000\n",
       "75%        43.000000\n",
       "max        60.000000\n",
       "Name: Age, dtype: float64"
      ]
     },
     "execution_count": 58,
     "metadata": {},
     "output_type": "execute_result"
    }
   ],
   "source": [
    "df['Age'].describe()"
   ]
  },
  {
   "cell_type": "code",
   "execution_count": 59,
   "id": "d1a3b0f9",
   "metadata": {
    "ExecuteTime": {
     "end_time": "2023-02-03T00:45:31.030237Z",
     "start_time": "2023-02-03T00:45:31.014235Z"
    }
   },
   "outputs": [
    {
     "data": {
      "text/plain": [
       "count    1470.000000\n",
       "mean        2.912925\n",
       "std         1.024165\n",
       "min         1.000000\n",
       "25%         2.000000\n",
       "50%         3.000000\n",
       "75%         4.000000\n",
       "max         5.000000\n",
       "Name: Education, dtype: float64"
      ]
     },
     "execution_count": 59,
     "metadata": {},
     "output_type": "execute_result"
    }
   ],
   "source": [
    "df['Education'].describe()"
   ]
  },
  {
   "cell_type": "code",
   "execution_count": 60,
   "id": "6ca6a5c4",
   "metadata": {
    "ExecuteTime": {
     "end_time": "2023-02-03T00:45:31.048928Z",
     "start_time": "2023-02-03T00:45:31.030237Z"
    }
   },
   "outputs": [
    {
     "data": {
      "text/plain": [
       "count    1470.000000\n",
       "mean        2.721769\n",
       "std         1.093082\n",
       "min         1.000000\n",
       "25%         2.000000\n",
       "50%         3.000000\n",
       "75%         4.000000\n",
       "max         4.000000\n",
       "Name: EnvironmentSatisfaction, dtype: float64"
      ]
     },
     "execution_count": 60,
     "metadata": {},
     "output_type": "execute_result"
    }
   ],
   "source": [
    "df['EnvironmentSatisfaction'].describe()"
   ]
  },
  {
   "cell_type": "code",
   "execution_count": 61,
   "id": "6c208464",
   "metadata": {
    "ExecuteTime": {
     "end_time": "2023-02-03T00:45:31.072927Z",
     "start_time": "2023-02-03T00:45:31.048928Z"
    }
   },
   "outputs": [
    {
     "data": {
      "text/plain": [
       "count    1470.000000\n",
       "mean       65.891156\n",
       "std        20.329428\n",
       "min        30.000000\n",
       "25%        48.000000\n",
       "50%        66.000000\n",
       "75%        83.750000\n",
       "max       100.000000\n",
       "Name: HourlyRate, dtype: float64"
      ]
     },
     "execution_count": 61,
     "metadata": {},
     "output_type": "execute_result"
    }
   ],
   "source": [
    "df['HourlyRate'].describe()"
   ]
  },
  {
   "cell_type": "code",
   "execution_count": 62,
   "id": "8e9053d6",
   "metadata": {
    "ExecuteTime": {
     "end_time": "2023-02-03T00:47:03.155215Z",
     "start_time": "2023-02-03T00:47:03.133782Z"
    }
   },
   "outputs": [
    {
     "data": {
      "text/plain": [
       "count    1470.000000\n",
       "mean        2.729932\n",
       "std         0.711561\n",
       "min         1.000000\n",
       "25%         2.000000\n",
       "50%         3.000000\n",
       "75%         3.000000\n",
       "max         4.000000\n",
       "Name: JobInvolvement, dtype: float64"
      ]
     },
     "execution_count": 62,
     "metadata": {},
     "output_type": "execute_result"
    }
   ],
   "source": [
    "df['JobInvolvement'].describe()"
   ]
  },
  {
   "cell_type": "code",
   "execution_count": 63,
   "id": "22b787b1",
   "metadata": {
    "ExecuteTime": {
     "end_time": "2023-02-03T00:47:03.155215Z",
     "start_time": "2023-02-03T00:47:03.133782Z"
    }
   },
   "outputs": [
    {
     "data": {
      "text/plain": [
       "count    1470.000000\n",
       "mean        2.063946\n",
       "std         1.106940\n",
       "min         1.000000\n",
       "25%         1.000000\n",
       "50%         2.000000\n",
       "75%         3.000000\n",
       "max         5.000000\n",
       "Name: JobLevel, dtype: float64"
      ]
     },
     "execution_count": 63,
     "metadata": {},
     "output_type": "execute_result"
    }
   ],
   "source": [
    "df['JobLevel'].describe()"
   ]
  },
  {
   "cell_type": "code",
   "execution_count": 64,
   "id": "3933efc7",
   "metadata": {
    "ExecuteTime": {
     "end_time": "2023-02-03T00:47:03.155215Z",
     "start_time": "2023-02-03T00:47:03.133782Z"
    }
   },
   "outputs": [
    {
     "data": {
      "text/plain": [
       "count    1470.000000\n",
       "mean        2.728571\n",
       "std         1.102846\n",
       "min         1.000000\n",
       "25%         2.000000\n",
       "50%         3.000000\n",
       "75%         4.000000\n",
       "max         4.000000\n",
       "Name: JobSatisfaction, dtype: float64"
      ]
     },
     "execution_count": 64,
     "metadata": {},
     "output_type": "execute_result"
    }
   ],
   "source": [
    "df['JobSatisfaction'].describe()"
   ]
  },
  {
   "cell_type": "code",
   "execution_count": 65,
   "id": "5e83cf48",
   "metadata": {
    "ExecuteTime": {
     "end_time": "2023-02-03T00:47:03.155215Z",
     "start_time": "2023-02-03T00:47:03.133782Z"
    }
   },
   "outputs": [
    {
     "data": {
      "text/plain": [
       "count    1470.000000\n",
       "mean        3.153741\n",
       "std         0.360824\n",
       "min         3.000000\n",
       "25%         3.000000\n",
       "50%         3.000000\n",
       "75%         3.000000\n",
       "max         4.000000\n",
       "Name: PerformanceRating, dtype: float64"
      ]
     },
     "execution_count": 65,
     "metadata": {},
     "output_type": "execute_result"
    }
   ],
   "source": [
    "df['PerformanceRating'].describe()"
   ]
  },
  {
   "cell_type": "code",
   "execution_count": 66,
   "id": "025323e6",
   "metadata": {
    "ExecuteTime": {
     "end_time": "2023-02-03T00:47:03.155215Z",
     "start_time": "2023-02-03T00:47:03.133782Z"
    }
   },
   "outputs": [
    {
     "data": {
      "text/plain": [
       "count    1470.000000\n",
       "mean        2.712245\n",
       "std         1.081209\n",
       "min         1.000000\n",
       "25%         2.000000\n",
       "50%         3.000000\n",
       "75%         4.000000\n",
       "max         4.000000\n",
       "Name: RelationshipSatisfaction, dtype: float64"
      ]
     },
     "execution_count": 66,
     "metadata": {},
     "output_type": "execute_result"
    }
   ],
   "source": [
    "df['RelationshipSatisfaction'].describe()"
   ]
  },
  {
   "cell_type": "code",
   "execution_count": 67,
   "id": "bb84661a",
   "metadata": {
    "ExecuteTime": {
     "end_time": "2023-02-03T00:47:03.155215Z",
     "start_time": "2023-02-03T00:47:03.133782Z"
    }
   },
   "outputs": [
    {
     "data": {
      "text/plain": [
       "count    1470.000000\n",
       "mean        2.761224\n",
       "std         0.706476\n",
       "min         1.000000\n",
       "25%         2.000000\n",
       "50%         3.000000\n",
       "75%         3.000000\n",
       "max         4.000000\n",
       "Name: WorkLifeBalance, dtype: float64"
      ]
     },
     "execution_count": 67,
     "metadata": {},
     "output_type": "execute_result"
    }
   ],
   "source": [
    "df['WorkLifeBalance'].describe()"
   ]
  },
  {
   "cell_type": "code",
   "execution_count": 68,
   "id": "a50b92e6",
   "metadata": {
    "ExecuteTime": {
     "end_time": "2023-02-03T00:47:03.155215Z",
     "start_time": "2023-02-03T00:47:03.133782Z"
    }
   },
   "outputs": [
    {
     "data": {
      "text/plain": [
       "count    1470.000000\n",
       "mean        7.008163\n",
       "std         6.126525\n",
       "min         0.000000\n",
       "25%         3.000000\n",
       "50%         5.000000\n",
       "75%         9.000000\n",
       "max        40.000000\n",
       "Name: YearsAtCompany, dtype: float64"
      ]
     },
     "execution_count": 68,
     "metadata": {},
     "output_type": "execute_result"
    }
   ],
   "source": [
    "df['YearsAtCompany'].describe()"
   ]
  },
  {
   "cell_type": "code",
   "execution_count": 69,
   "id": "151ea7a4",
   "metadata": {
    "ExecuteTime": {
     "end_time": "2023-02-03T00:47:03.155215Z",
     "start_time": "2023-02-03T00:47:03.133782Z"
    }
   },
   "outputs": [
    {
     "data": {
      "text/plain": [
       "count    1470.000000\n",
       "mean        4.229252\n",
       "std         3.623137\n",
       "min         0.000000\n",
       "25%         2.000000\n",
       "50%         3.000000\n",
       "75%         7.000000\n",
       "max        18.000000\n",
       "Name: YearsInCurrentRole, dtype: float64"
      ]
     },
     "execution_count": 69,
     "metadata": {},
     "output_type": "execute_result"
    }
   ],
   "source": [
    "df['YearsInCurrentRole'].describe()"
   ]
  },
  {
   "cell_type": "code",
   "execution_count": 70,
   "id": "b6d77906",
   "metadata": {
    "ExecuteTime": {
     "end_time": "2023-02-03T00:47:03.155215Z",
     "start_time": "2023-02-03T00:47:03.133782Z"
    }
   },
   "outputs": [
    {
     "data": {
      "text/plain": [
       "count    1470.000000\n",
       "mean        2.187755\n",
       "std         3.222430\n",
       "min         0.000000\n",
       "25%         0.000000\n",
       "50%         1.000000\n",
       "75%         3.000000\n",
       "max        15.000000\n",
       "Name: YearsSinceLastPromotion, dtype: float64"
      ]
     },
     "execution_count": 70,
     "metadata": {},
     "output_type": "execute_result"
    }
   ],
   "source": [
    "df['YearsSinceLastPromotion'].describe()"
   ]
  },
  {
   "cell_type": "code",
   "execution_count": 77,
   "id": "3126e0be",
   "metadata": {
    "ExecuteTime": {
     "end_time": "2023-02-03T00:48:34.393528Z",
     "start_time": "2023-02-03T00:48:34.361218Z"
    }
   },
   "outputs": [
    {
     "data": {
      "text/plain": [
       "0    83.877551\n",
       "1    16.122449\n",
       "Name: AttritionEncoded, dtype: float64"
      ]
     },
     "execution_count": 77,
     "metadata": {},
     "output_type": "execute_result"
    }
   ],
   "source": [
    "# results are in percentages\n",
    "# for example: 83.88% of employees in this dataset left the company\n",
    "df['AttritionEncoded'].value_counts() / 1470 * 100"
   ]
  },
  {
   "cell_type": "code",
   "execution_count": 73,
   "id": "fc486814",
   "metadata": {
    "ExecuteTime": {
     "end_time": "2023-02-03T00:48:34.393528Z",
     "start_time": "2023-02-03T00:48:34.361218Z"
    }
   },
   "outputs": [
    {
     "data": {
      "text/plain": [
       "1    60.0\n",
       "0    40.0\n",
       "Name: GenderEncoded, dtype: float64"
      ]
     },
     "execution_count": 73,
     "metadata": {},
     "output_type": "execute_result"
    }
   ],
   "source": [
    "df['GenderEncoded'].value_counts() / 1470 * 100"
   ]
  },
  {
   "cell_type": "code",
   "execution_count": 78,
   "id": "6b1e5223",
   "metadata": {
    "ExecuteTime": {
     "end_time": "2023-02-03T00:48:34.393528Z",
     "start_time": "2023-02-03T00:48:34.361218Z"
    }
   },
   "outputs": [
    {
     "data": {
      "text/plain": [
       "7    22.176871\n",
       "6    19.863946\n",
       "2    17.619048\n",
       "4     9.863946\n",
       "0     8.911565\n",
       "3     6.938776\n",
       "8     5.646259\n",
       "5     5.442177\n",
       "1     3.537415\n",
       "Name: JobRoleEncoded, dtype: float64"
      ]
     },
     "execution_count": 78,
     "metadata": {},
     "output_type": "execute_result"
    }
   ],
   "source": [
    "# see above JobRole encoding table for number meanings\n",
    "df['JobRoleEncoded'].value_counts() / 1470 * 100"
   ]
  },
  {
   "cell_type": "code",
   "execution_count": 76,
   "id": "33b40e9d",
   "metadata": {
    "ExecuteTime": {
     "end_time": "2023-02-03T00:47:03.155215Z",
     "start_time": "2023-02-03T00:47:03.133782Z"
    }
   },
   "outputs": [
    {
     "data": {
      "text/plain": [
       "1    45.782313\n",
       "2    31.972789\n",
       "0    22.244898\n",
       "Name: MaritalStatusEncoded, dtype: float64"
      ]
     },
     "execution_count": 76,
     "metadata": {},
     "output_type": "execute_result"
    }
   ],
   "source": [
    "df['MaritalStatusEncoded'].value_counts() / 1470 * 100"
   ]
  },
  {
   "cell_type": "markdown",
   "id": "35cc021c",
   "metadata": {},
   "source": [
    "### Data Limitations\n",
    "Although this is a relatively large dataset when you think about surveying 1470 employees, that is a small number when trying to train a machine learning model to predict something as important as whether an employee will leave a company. A larger dataset would have been preferred to get more accurate results from the below machine learning models. \n",
    "\n",
    "Finding where this data was collected from or how it was collected was difficult even with extensive research. To improve this analysis, it would be preferred to conduct a new survey with a larger number of employees and train the following models on that data. "
   ]
  },
  {
   "cell_type": "markdown",
   "id": "39afffc9",
   "metadata": {},
   "source": [
    "## Modeling and Evaluation\n",
    "In this analysis, both decision tree and random forest models are used. A baseline decision tree model is trained first to compare tuned results to. A random forest model (essentially multiple decision trees put together) is then used to try and further improve performance.\n",
    "\n",
    "This analysis uses 5 main methods of evaluating the machine learning models used in this project:\n",
    "\n",
    " **Method of Evaluation** | **Meaning**                                                                        \n",
    ":--------------------------|:------------------------------------------------------------------------------------\n",
    " Accuracy                 | Number of correct predictions out of total number of predictions                   \n",
    " Precision                | Number of correct positive predictions out of number of total positive predictions \n",
    " Recall                   | Model's ability to correctly predict a true positive                               \n",
    " Area Under Curve (AUC)   | Model's ability to distinguish between positive and negative                       \n",
    " Confusion Matrix         | Visualization of model's predictions                                               \n",
    "\n"
   ]
  },
  {
   "cell_type": "markdown",
   "id": "9afa53e0",
   "metadata": {},
   "source": [
    "### Baseline Model"
   ]
  },
  {
   "cell_type": "code",
   "execution_count": 79,
   "id": "d828b6a7",
   "metadata": {
    "ExecuteTime": {
     "end_time": "2023-02-03T03:42:36.994585Z",
     "start_time": "2023-02-03T03:42:36.970565Z"
    }
   },
   "outputs": [],
   "source": [
    "# splitting target and feature variables into separate dataframes\n",
    "y = df['AttritionEncoded']\n",
    "X = df.drop(columns=['AttritionEncoded'], axis=1)\n",
    "\n",
    "# leaving default of test_size = .25, train_size = .75\n",
    "X_train, X_test, y_train, y_test = train_test_split(X, y, random_state=seed)"
   ]
  },
  {
   "cell_type": "code",
   "execution_count": 80,
   "id": "295c7596",
   "metadata": {
    "ExecuteTime": {
     "end_time": "2023-02-03T03:44:09.983142Z",
     "start_time": "2023-02-03T03:44:09.964285Z"
    }
   },
   "outputs": [
    {
     "name": "stdout",
     "output_type": "stream",
     "text": [
      "Training data:\n",
      "0    923\n",
      "1    179\n",
      "Name: AttritionEncoded, dtype: int64\n",
      "\n",
      "Testing data:\n",
      "0    310\n",
      "1     58\n",
      "Name: AttritionEncoded, dtype: int64\n"
     ]
    }
   ],
   "source": [
    "# there is also a large class imbalance that will be addressed later\n",
    "# training data\n",
    "print(\"Training data:\")\n",
    "# printing out number of employees who stayed (0) and number who left (1)\n",
    "print(y_train.value_counts())\n",
    "\n",
    "# testing data\n",
    "print(\"\\nTesting data:\")\n",
    "print(y_test.value_counts())"
   ]
  },
  {
   "cell_type": "code",
   "execution_count": 84,
   "id": "ba974c38",
   "metadata": {
    "ExecuteTime": {
     "end_time": "2023-02-03T03:49:26.273696Z",
     "start_time": "2023-02-03T03:49:26.241693Z"
    }
   },
   "outputs": [],
   "source": [
    "# training classifier object\n",
    "attrition_classifier_1 = DecisionTreeClassifier(criterion = 'entropy', random_state = seed)\n",
    "attrition_classifier_1.fit(X_train, y_train)\n",
    "\n",
    "# make first predicitons\n",
    "y_pred = attrition_classifier_1.predict(X_test)"
   ]
  },
  {
   "cell_type": "code",
   "execution_count": 94,
   "id": "964b2761",
   "metadata": {
    "ExecuteTime": {
     "end_time": "2023-02-03T04:04:10.893814Z",
     "start_time": "2023-02-03T04:04:10.876220Z"
    }
   },
   "outputs": [],
   "source": [
    "# defining method for easy evaluation of each model\n",
    "def evaluate_model(classifier, X, y, y_test, y_pred):\n",
    "    # ignoring deprecation warning for plot_confusion_matrix\n",
    "    import warnings\n",
    "    warnings.simplefilter('ignore')\n",
    "\n",
    "    # confusion matrix\n",
    "    print(\"Confusion Matrix:\")\n",
    "    plot_confusion_matrix(classifier, X, y)\n",
    "    plt.show()\n",
    "    \n",
    "    # accuracy\n",
    "    accuracy = accuracy_score(y_test, y_pred) * 100\n",
    "    print(\"Accuracy:\", accuracy)\n",
    "    \n",
    "    # precision\n",
    "    precision = precision_score(y_test, y_pred)\n",
    "    print(\"Precision:\", precision) # want a value close to 1\n",
    "    \n",
    "    # recall\n",
    "    print(\"Recall:\", recall_score(y_test, y_pred))\n",
    "    \n",
    "    # AUC\n",
    "    false_pos, true_pos, thresholds = roc_curve(y_test, y_pred)\n",
    "    area_under_roc = auc(false_pos, true_pos)\n",
    "    print(\"AUC:\", area_under_roc) # .54 is pretty close to just random guessing"
   ]
  },
  {
   "cell_type": "code",
   "execution_count": 95,
   "id": "ce5e6e46",
   "metadata": {
    "ExecuteTime": {
     "end_time": "2023-02-03T04:04:11.455626Z",
     "start_time": "2023-02-03T04:04:11.296757Z"
    }
   },
   "outputs": [
    {
     "name": "stdout",
     "output_type": "stream",
     "text": [
      "Confusion Matrix:\n"
     ]
    },
    {
     "data": {
      "image/png": "[encoded data removed]",
      "text/plain": [
       "<Figure size 432x288 with 2 Axes>"
      ]
     },
     "metadata": {
      "needs_background": "light"
     },
     "output_type": "display_data"
    },
    {
     "name": "stdout",
     "output_type": "stream",
     "text": [
      "Accuracy: 77.44565217391305\n",
      "Precision: 0.24489795918367346\n",
      "Recall: 0.20689655172413793\n",
      "AUC: 0.5437708565072302\n"
     ]
    }
   ],
   "source": [
    "# evaluate first iteration of model\n",
    "evaluate_model(attrition_classifier_1, X, y, y_test, y_pred)"
   ]
  },
  {
   "cell_type": "markdown",
   "id": "dec64cbd",
   "metadata": {},
   "source": [
    "The accuracy above is not terrible but also not ideal. However, the precision, recall and AUC are not acceptable for a machine learning model used in the real world. \n",
    "\n",
    "An AUC of .5 is like random guessing (no distinction between the two classes we are trying to identify). The model also has little ability to predict a true positive (recall) and is not very precise, so all of these metrics need to be improved with the next iteration of the model. "
   ]
  },
  {
   "cell_type": "markdown",
   "id": "429da644",
   "metadata": {},
   "source": [
    "### Improved Model\n",
    "As mentioned earlier, there is a large imbalance between employees who stayed and employees who left the company (IBM) in this dataset. This is most likely causing the model to overfit, meaning it is really good at detecting when an employee stays (because it has seen that before many times), but is not as good at detecting when an employee will leave. \n",
    "\n",
    "We will use SMOTE (synthetic minority oversampling technique) to balance the dataset. This will increase the number of instances of the lesser-seen class (in this case, employees who left the company) so the model can improve its performance regarding this class. "
   ]
  },
  {
   "cell_type": "code",
   "execution_count": 89,
   "id": "25b2b7a4",
   "metadata": {
    "ExecuteTime": {
     "end_time": "2023-02-03T03:57:17.723477Z",
     "start_time": "2023-02-03T03:57:09.611133Z"
    }
   },
   "outputs": [
    {
     "name": "stdout",
     "output_type": "stream",
     "text": [
      "Requirement already satisfied: imblearn in c:\\users\\mhince\\anaconda3\\lib\\site-packages (0.0)\n",
      "Requirement already satisfied: imbalanced-learn in c:\\users\\mhince\\anaconda3\\lib\\site-packages (from imblearn) (0.10.1)\n",
      "Requirement already satisfied: scikit-learn>=1.0.2 in c:\\users\\mhince\\anaconda3\\lib\\site-packages (from imbalanced-learn->imblearn) (1.0.2)\n",
      "Requirement already satisfied: scipy>=1.3.2 in c:\\users\\mhince\\anaconda3\\lib\\site-packages (from imbalanced-learn->imblearn) (1.7.3)\n",
      "Requirement already satisfied: numpy>=1.17.3 in c:\\users\\mhince\\anaconda3\\lib\\site-packages (from imbalanced-learn->imblearn) (1.21.5)\n",
      "Requirement already satisfied: joblib>=1.1.1 in c:\\users\\mhince\\anaconda3\\lib\\site-packages (from imbalanced-learn->imblearn) (1.2.0)\n",
      "Requirement already satisfied: threadpoolctl>=2.0.0 in c:\\users\\mhince\\anaconda3\\lib\\site-packages (from imbalanced-learn->imblearn) (2.2.0)\n"
     ]
    }
   ],
   "source": [
    "# installing imblearn\n",
    "!pip install imblearn"
   ]
  },
  {
   "cell_type": "markdown",
   "id": "4e07c36d",
   "metadata": {},
   "source": [
    "#### Resampling Data"
   ]
  },
  {
   "cell_type": "code",
   "execution_count": 96,
   "id": "457aaf59",
   "metadata": {
    "ExecuteTime": {
     "end_time": "2023-02-03T04:04:16.687635Z",
     "start_time": "2023-02-03T04:04:16.663646Z"
    }
   },
   "outputs": [
    {
     "name": "stdout",
     "output_type": "stream",
     "text": [
      "Classifications BEFORE Resample:\n",
      "0    923\n",
      "1    179\n",
      "Name: AttritionEncoded, dtype: int64\n",
      "\n",
      "Classifications AFTER Resample:\n",
      "0    923\n",
      "1    923\n",
      "Name: AttritionEncoded, dtype: int64\n"
     ]
    }
   ],
   "source": [
    "# using SMOTE to resample data\n",
    "from imblearn.over_sampling import SMOTE\n",
    "\n",
    "print(\"Classifications BEFORE Resample:\")\n",
    "print(y_train.value_counts())\n",
    "\n",
    "X_train_resample, y_train_resample = SMOTE().fit_resample(X_train, y_train)\n",
    "\n",
    "# should have same number of each classification\n",
    "print(\"\\nClassifications AFTER Resample:\")\n",
    "print(pd.Series(y_train_resample).value_counts())"
   ]
  },
  {
   "cell_type": "markdown",
   "id": "9a0344b5",
   "metadata": {},
   "source": [
    "#### Training Baseline Decision Tree Model with Resampled Data"
   ]
  },
  {
   "cell_type": "code",
   "execution_count": 137,
   "id": "8071dc07",
   "metadata": {
    "ExecuteTime": {
     "end_time": "2023-02-03T04:18:47.887323Z",
     "start_time": "2023-02-03T04:18:47.855321Z"
    }
   },
   "outputs": [],
   "source": [
    "# training classifier object\n",
    "attrition_classifier_resample = DecisionTreeClassifier(criterion='entropy', random_state=seed)\n",
    "attrition_classifier_resample.fit(X_train_resample, y_train_resample)\n",
    "\n",
    "# make predicitons\n",
    "y_pred_resample = attrition_classifier_resample.predict(X_test)"
   ]
  },
  {
   "cell_type": "code",
   "execution_count": 138,
   "id": "110371e5",
   "metadata": {
    "ExecuteTime": {
     "end_time": "2023-02-03T04:18:48.655082Z",
     "start_time": "2023-02-03T04:18:48.502631Z"
    }
   },
   "outputs": [
    {
     "name": "stdout",
     "output_type": "stream",
     "text": [
      "Confusion Matrix:\n"
     ]
    },
    {
     "data": {
      "image/png": "[encoded data removed]",
      "text/plain": [
       "<Figure size 432x288 with 2 Axes>"
      ]
     },
     "metadata": {
      "needs_background": "light"
     },
     "output_type": "display_data"
    },
    {
     "name": "stdout",
     "output_type": "stream",
     "text": [
      "Accuracy: 76.08695652173914\n",
      "Precision: 0.3026315789473684\n",
      "Recall: 0.39655172413793105\n",
      "AUC: 0.6127919911012236\n"
     ]
    }
   ],
   "source": [
    "# evaluate model trained with resampled data\n",
    "evaluate_model(attrition_classifier_resample, X, y, y_test, y_pred_resample)"
   ]
  },
  {
   "cell_type": "markdown",
   "id": "82dd2323",
   "metadata": {},
   "source": [
    "The above model has slightly worse accuracy but better precision, recall, and AUC scores. Despite the slight improvement, this model is still not ready to be used to predict real-world employee attrition. "
   ]
  },
  {
   "cell_type": "markdown",
   "id": "9433a133",
   "metadata": {},
   "source": [
    "### Final Model Using Random Forests\n",
    "Because a random forest model is a collection of decision trees working together to classify things more accurately, this will be used as the final iteration of the model we'll use to try and predict employee attrition."
   ]
  },
  {
   "cell_type": "code",
   "execution_count": 140,
   "id": "f16edd0d",
   "metadata": {
    "ExecuteTime": {
     "end_time": "2023-02-03T04:20:46.996883Z",
     "start_time": "2023-02-03T04:20:46.287630Z"
    }
   },
   "outputs": [
    {
     "name": "stdout",
     "output_type": "stream",
     "text": [
      "Confusion Matrix:\n"
     ]
    },
    {
     "data": {
      "image/png": "[encoded data removed]",
      "text/plain": [
       "<Figure size 432x288 with 2 Axes>"
      ]
     },
     "metadata": {
      "needs_background": "light"
     },
     "output_type": "display_data"
    },
    {
     "name": "stdout",
     "output_type": "stream",
     "text": [
      "Accuracy: 82.06521739130434\n",
      "Precision: 0.42592592592592593\n",
      "Recall: 0.39655172413793105\n",
      "AUC: 0.6482758620689655\n"
     ]
    }
   ],
   "source": [
    "from sklearn.ensemble import RandomForestClassifier\n",
    "\n",
    "# n_estimators is the number of decision trees used in the forest\n",
    "attrition_random_forests = RandomForestClassifier(n_estimators = 154, random_state = seed)\n",
    "attrition_random_forests.fit(X_train_resample, y_train_resample)\n",
    "y_pred_resample = attrition_random_forests.predict(X_test)\n",
    "\n",
    "# evaluate random forest model\n",
    "evaluate_model(attrition_random_forests, X, y, y_test, y_pred_resample)"
   ]
  },
  {
   "cell_type": "markdown",
   "id": "39b323bc",
   "metadata": {},
   "source": [
    "The final model is relatively more accurate than our baseline model, but not by much. The final model is also more precise, better able to identify a positive classification, and is doing better than the close-to-random guessing our baseline model was doing. "
   ]
  },
  {
   "cell_type": "markdown",
   "id": "8c6f90ea",
   "metadata": {},
   "source": [
    "## Conclusion\n",
    "This final model above using random forests has overall better scores than both our baseline and resampled models, but is still not accurate or precise enough to be used when making real-world decisions. Overhauling both hiring and retention techniques costs time and money - time and money that might be wasted if the above model predicts either false positives or false negatives. \n",
    "\n",
    "This is a good starting point for upper leadership and/or human resources staff at any organization to evaluate whether they are effectively hiring and retaining their employees. However, results can further improve by collecting better data, further tuning models, and using more rigorous technologies such as neural networks to predict employee attrition."
   ]
  }
 ],
 "metadata": {
  "kernelspec": {
   "display_name": "Python 3 (ipykernel)",
   "language": "python",
   "name": "python3"
  },
  "language_info": {
   "codemirror_mode": {
    "name": "ipython",
    "version": 3
   },
   "file_extension": ".py",
   "mimetype": "text/x-python",
   "name": "python",
   "nbconvert_exporter": "python",
   "pygments_lexer": "ipython3",
   "version": "3.9.12"
  },
  "varInspector": {
   "cols": {
    "lenName": 16,
    "lenType": 16,
    "lenVar": 40
   },
   "kernels_config": {
    "python": {
     "delete_cmd_postfix": "",
     "delete_cmd_prefix": "del ",
     "library": "var_list.py",
     "varRefreshCmd": "print(var_dic_list())"
    },
    "r": {
     "delete_cmd_postfix": ") ",
     "delete_cmd_prefix": "rm(",
     "library": "var_list.r",
     "varRefreshCmd": "cat(var_dic_list()) "
    }
   },
   "types_to_exclude": [
    "module",
    "function",
    "builtin_function_or_method",
    "instance",
    "_Feature"
   ],
   "window_display": false
  }
 },
 "nbformat": 4,
 "nbformat_minor": 5
}

{
 "cells": [
  {
   "cell_type": "markdown",
   "id": "b902b182",
   "metadata": {},
   "source": [
    "# Predicting Employee Attrition Using Decision Trees and Random Forests"
   ]
  },
  {
   "cell_type": "markdown",
   "id": "517bb47a",
   "metadata": {},
   "source": [
    "## Data Preprocessing"
   ]
  },
  {
   "cell_type": "code",
   "execution_count": 87,
   "id": "791e8a94",
   "metadata": {
    "ExecuteTime": {
     "end_time": "2023-01-22T21:33:02.703807Z",
     "start_time": "2023-01-22T21:33:02.663793Z"
    }
   },
   "outputs": [
    {
     "data": {
      "text/html": [
       "<div>\n",
       "<style scoped>\n",
       "    .dataframe tbody tr th:only-of-type {\n",
       "        vertical-align: middle;\n",
       "    }\n",
       "\n",
       "    .dataframe tbody tr th {\n",
       "        vertical-align: top;\n",
       "    }\n",
       "\n",
       "    .dataframe thead th {\n",
       "        text-align: right;\n",
       "    }\n",
       "</style>\n",
       "<table border=\"1\" class=\"dataframe\">\n",
       "  <thead>\n",
       "    <tr style=\"text-align: right;\">\n",
       "      <th></th>\n",
       "      <th>Age</th>\n",
       "      <th>Attrition</th>\n",
       "      <th>BusinessTravel</th>\n",
       "      <th>DailyRate</th>\n",
       "      <th>Department</th>\n",
       "      <th>DistanceFromHome</th>\n",
       "      <th>Education</th>\n",
       "      <th>EducationField</th>\n",
       "      <th>EmployeeCount</th>\n",
       "      <th>EmployeeNumber</th>\n",
       "      <th>...</th>\n",
       "      <th>RelationshipSatisfaction</th>\n",
       "      <th>StandardHours</th>\n",
       "      <th>StockOptionLevel</th>\n",
       "      <th>TotalWorkingYears</th>\n",
       "      <th>TrainingTimesLastYear</th>\n",
       "      <th>WorkLifeBalance</th>\n",
       "      <th>YearsAtCompany</th>\n",
       "      <th>YearsInCurrentRole</th>\n",
       "      <th>YearsSinceLastPromotion</th>\n",
       "      <th>YearsWithCurrManager</th>\n",
       "    </tr>\n",
       "  </thead>\n",
       "  <tbody>\n",
       "    <tr>\n",
       "      <th>0</th>\n",
       "      <td>41</td>\n",
       "      <td>Yes</td>\n",
       "      <td>Travel_Rarely</td>\n",
       "      <td>1102</td>\n",
       "      <td>Sales</td>\n",
       "      <td>1</td>\n",
       "      <td>2</td>\n",
       "      <td>Life Sciences</td>\n",
       "      <td>1</td>\n",
       "      <td>1</td>\n",
       "      <td>...</td>\n",
       "      <td>1</td>\n",
       "      <td>80</td>\n",
       "      <td>0</td>\n",
       "      <td>8</td>\n",
       "      <td>0</td>\n",
       "      <td>1</td>\n",
       "      <td>6</td>\n",
       "      <td>4</td>\n",
       "      <td>0</td>\n",
       "      <td>5</td>\n",
       "    </tr>\n",
       "    <tr>\n",
       "      <th>1</th>\n",
       "      <td>49</td>\n",
       "      <td>No</td>\n",
       "      <td>Travel_Frequently</td>\n",
       "      <td>279</td>\n",
       "      <td>Research &amp; Development</td>\n",
       "      <td>8</td>\n",
       "      <td>1</td>\n",
       "      <td>Life Sciences</td>\n",
       "      <td>1</td>\n",
       "      <td>2</td>\n",
       "      <td>...</td>\n",
       "      <td>4</td>\n",
       "      <td>80</td>\n",
       "      <td>1</td>\n",
       "      <td>10</td>\n",
       "      <td>3</td>\n",
       "      <td>3</td>\n",
       "      <td>10</td>\n",
       "      <td>7</td>\n",
       "      <td>1</td>\n",
       "      <td>7</td>\n",
       "    </tr>\n",
       "    <tr>\n",
       "      <th>2</th>\n",
       "      <td>37</td>\n",
       "      <td>Yes</td>\n",
       "      <td>Travel_Rarely</td>\n",
       "      <td>1373</td>\n",
       "      <td>Research &amp; Development</td>\n",
       "      <td>2</td>\n",
       "      <td>2</td>\n",
       "      <td>Other</td>\n",
       "      <td>1</td>\n",
       "      <td>4</td>\n",
       "      <td>...</td>\n",
       "      <td>2</td>\n",
       "      <td>80</td>\n",
       "      <td>0</td>\n",
       "      <td>7</td>\n",
       "      <td>3</td>\n",
       "      <td>3</td>\n",
       "      <td>0</td>\n",
       "      <td>0</td>\n",
       "      <td>0</td>\n",
       "      <td>0</td>\n",
       "    </tr>\n",
       "    <tr>\n",
       "      <th>3</th>\n",
       "      <td>33</td>\n",
       "      <td>No</td>\n",
       "      <td>Travel_Frequently</td>\n",
       "      <td>1392</td>\n",
       "      <td>Research &amp; Development</td>\n",
       "      <td>3</td>\n",
       "      <td>4</td>\n",
       "      <td>Life Sciences</td>\n",
       "      <td>1</td>\n",
       "      <td>5</td>\n",
       "      <td>...</td>\n",
       "      <td>3</td>\n",
       "      <td>80</td>\n",
       "      <td>0</td>\n",
       "      <td>8</td>\n",
       "      <td>3</td>\n",
       "      <td>3</td>\n",
       "      <td>8</td>\n",
       "      <td>7</td>\n",
       "      <td>3</td>\n",
       "      <td>0</td>\n",
       "    </tr>\n",
       "    <tr>\n",
       "      <th>4</th>\n",
       "      <td>27</td>\n",
       "      <td>No</td>\n",
       "      <td>Travel_Rarely</td>\n",
       "      <td>591</td>\n",
       "      <td>Research &amp; Development</td>\n",
       "      <td>2</td>\n",
       "      <td>1</td>\n",
       "      <td>Medical</td>\n",
       "      <td>1</td>\n",
       "      <td>7</td>\n",
       "      <td>...</td>\n",
       "      <td>4</td>\n",
       "      <td>80</td>\n",
       "      <td>1</td>\n",
       "      <td>6</td>\n",
       "      <td>3</td>\n",
       "      <td>3</td>\n",
       "      <td>2</td>\n",
       "      <td>2</td>\n",
       "      <td>2</td>\n",
       "      <td>2</td>\n",
       "    </tr>\n",
       "  </tbody>\n",
       "</table>\n",
       "<p>5 rows × 35 columns</p>\n",
       "</div>"
      ],
      "text/plain": [
       "   Age Attrition     BusinessTravel  DailyRate              Department  \\\n",
       "0   41       Yes      Travel_Rarely       1102                   Sales   \n",
       "1   49        No  Travel_Frequently        279  Research & Development   \n",
       "2   37       Yes      Travel_Rarely       1373  Research & Development   \n",
       "3   33        No  Travel_Frequently       1392  Research & Development   \n",
       "4   27        No      Travel_Rarely        591  Research & Development   \n",
       "\n",
       "   DistanceFromHome  Education EducationField  EmployeeCount  EmployeeNumber  \\\n",
       "0                 1          2  Life Sciences              1               1   \n",
       "1                 8          1  Life Sciences              1               2   \n",
       "2                 2          2          Other              1               4   \n",
       "3                 3          4  Life Sciences              1               5   \n",
       "4                 2          1        Medical              1               7   \n",
       "\n",
       "   ...  RelationshipSatisfaction StandardHours  StockOptionLevel  \\\n",
       "0  ...                         1            80                 0   \n",
       "1  ...                         4            80                 1   \n",
       "2  ...                         2            80                 0   \n",
       "3  ...                         3            80                 0   \n",
       "4  ...                         4            80                 1   \n",
       "\n",
       "   TotalWorkingYears  TrainingTimesLastYear WorkLifeBalance  YearsAtCompany  \\\n",
       "0                  8                      0               1               6   \n",
       "1                 10                      3               3              10   \n",
       "2                  7                      3               3               0   \n",
       "3                  8                      3               3               8   \n",
       "4                  6                      3               3               2   \n",
       "\n",
       "  YearsInCurrentRole  YearsSinceLastPromotion  YearsWithCurrManager  \n",
       "0                  4                        0                     5  \n",
       "1                  7                        1                     7  \n",
       "2                  0                        0                     0  \n",
       "3                  7                        3                     0  \n",
       "4                  2                        2                     2  \n",
       "\n",
       "[5 rows x 35 columns]"
      ]
     },
     "execution_count": 87,
     "metadata": {},
     "output_type": "execute_result"
    }
   ],
   "source": [
    "import pandas as pd\n",
    "import matplotlib.pyplot as plt\n",
    "\n",
    "from sklearn.preprocessing import LabelEncoder\n",
    "\n",
    "from sklearn.model_selection import train_test_split\n",
    "from sklearn.tree import DecisionTreeClassifier\n",
    "from sklearn import tree\n",
    "\n",
    "from sklearn.metrics import accuracy_score, precision_score, roc_curve, auc\n",
    "from sklearn.metrics import plot_confusion_matrix\n",
    "\n",
    "# loading in csv and looking at first 5 rows\n",
    "df = pd.read_csv(\"../Data/WA_Fn-UseC_-HR-Employee-Attrition.csv\")\n",
    "df.head()"
   ]
  },
  {
   "cell_type": "code",
   "execution_count": 88,
   "id": "71c113f3",
   "metadata": {
    "ExecuteTime": {
     "end_time": "2023-01-22T21:33:02.856441Z",
     "start_time": "2023-01-22T21:33:02.832434Z"
    }
   },
   "outputs": [
    {
     "data": {
      "text/plain": [
       "(1470, 14)"
      ]
     },
     "execution_count": 88,
     "metadata": {},
     "output_type": "execute_result"
    }
   ],
   "source": [
    "# only keep columns we want to use as features for prediction\n",
    "df = df[['Age', 'Attrition', 'Education', 'EnvironmentSatisfaction', 'Gender', 'JobInvolvement', 'JobLevel', 'JobRole', 'JobSatisfaction', 'MonthlyIncome', 'PerformanceRating', 'WorkLifeBalance', 'YearsAtCompany', 'YearsSinceLastPromotion']]\n",
    "df.shape"
   ]
  },
  {
   "cell_type": "code",
   "execution_count": 89,
   "id": "00b035fe",
   "metadata": {
    "ExecuteTime": {
     "end_time": "2023-01-22T21:33:03.003309Z",
     "start_time": "2023-01-22T21:33:02.985191Z"
    }
   },
   "outputs": [
    {
     "data": {
      "text/plain": [
       "(1470, 14)"
      ]
     },
     "execution_count": 89,
     "metadata": {},
     "output_type": "execute_result"
    }
   ],
   "source": [
    "# remove any rows that have at least one null or missing value\n",
    "df.dropna()\n",
    "df.shape\n",
    "\n",
    "# no rows were dropped - all rows have complete data"
   ]
  },
  {
   "cell_type": "code",
   "execution_count": 90,
   "id": "83aadda8",
   "metadata": {
    "ExecuteTime": {
     "end_time": "2023-01-22T21:33:03.135697Z",
     "start_time": "2023-01-22T21:33:03.111662Z"
    }
   },
   "outputs": [
    {
     "name": "stdout",
     "output_type": "stream",
     "text": [
      "['Sales Executive', 'Research Scientist', 'Laboratory Technician', 'Manufacturing Director', 'Healthcare Representative', 'Manager', 'Sales Representative', 'Research Director', 'Human Resources']\n",
      "[7 6 2 ... 4 7 2]\n"
     ]
    }
   ],
   "source": [
    "# encode values that are not binary or discrete\n",
    "# encode Attrition (target variable)\n",
    "# 1 = yes, 0 = no\n",
    "attrition_encoder = LabelEncoder()\n",
    "attrition_encoder.fit(df['Attrition'])\n",
    "attrition_vals = attrition_encoder.transform(df['Attrition'])\n",
    "attrition_df = pd.DataFrame(attrition_vals, columns=['Attrition'])\n",
    "\n",
    "# encode Gender\n",
    "# 1 = male, 0 = female\n",
    "gender_encoder = LabelEncoder()\n",
    "gender_encoder.fit(df['Gender'])\n",
    "gender_vals = gender_encoder.transform(df['Gender'])\n",
    "gender_df = pd.DataFrame(gender_vals, columns=['Gender'])\n",
    "\n",
    "# encode JobRole\n",
    "job_role_encoder = LabelEncoder()\n",
    "job_role_encoder.fit(df['JobRole'])\n",
    "job_role_vals = job_role_encoder.transform(df['JobRole'])\n",
    "job_role_df = pd.DataFrame(job_role_vals, columns=['JobRole'])\n",
    "print(list(df['JobRole'].unique()))\n",
    "print(job_role_vals)"
   ]
  },
  {
   "cell_type": "code",
   "execution_count": 91,
   "id": "2b28c139",
   "metadata": {
    "ExecuteTime": {
     "end_time": "2023-01-22T21:33:03.323501Z",
     "start_time": "2023-01-22T21:33:03.298099Z"
    }
   },
   "outputs": [
    {
     "data": {
      "text/html": [
       "<div>\n",
       "<style scoped>\n",
       "    .dataframe tbody tr th:only-of-type {\n",
       "        vertical-align: middle;\n",
       "    }\n",
       "\n",
       "    .dataframe tbody tr th {\n",
       "        vertical-align: top;\n",
       "    }\n",
       "\n",
       "    .dataframe thead th {\n",
       "        text-align: right;\n",
       "    }\n",
       "</style>\n",
       "<table border=\"1\" class=\"dataframe\">\n",
       "  <thead>\n",
       "    <tr style=\"text-align: right;\">\n",
       "      <th></th>\n",
       "      <th>JobRole</th>\n",
       "      <th>Encoding</th>\n",
       "    </tr>\n",
       "  </thead>\n",
       "  <tbody>\n",
       "    <tr>\n",
       "      <th>0</th>\n",
       "      <td>Sales Executive</td>\n",
       "      <td>7</td>\n",
       "    </tr>\n",
       "    <tr>\n",
       "      <th>1</th>\n",
       "      <td>Research Scientist</td>\n",
       "      <td>6</td>\n",
       "    </tr>\n",
       "    <tr>\n",
       "      <th>2</th>\n",
       "      <td>Laboratory Technician</td>\n",
       "      <td>2</td>\n",
       "    </tr>\n",
       "    <tr>\n",
       "      <th>3</th>\n",
       "      <td>Manufacturing Director</td>\n",
       "      <td>4</td>\n",
       "    </tr>\n",
       "    <tr>\n",
       "      <th>4</th>\n",
       "      <td>Healthcare Representative</td>\n",
       "      <td>0</td>\n",
       "    </tr>\n",
       "    <tr>\n",
       "      <th>5</th>\n",
       "      <td>Manager</td>\n",
       "      <td>3</td>\n",
       "    </tr>\n",
       "    <tr>\n",
       "      <th>6</th>\n",
       "      <td>Sales Representative</td>\n",
       "      <td>8</td>\n",
       "    </tr>\n",
       "    <tr>\n",
       "      <th>7</th>\n",
       "      <td>Research Director</td>\n",
       "      <td>5</td>\n",
       "    </tr>\n",
       "    <tr>\n",
       "      <th>8</th>\n",
       "      <td>Human Resources</td>\n",
       "      <td>1</td>\n",
       "    </tr>\n",
       "  </tbody>\n",
       "</table>\n",
       "</div>"
      ],
      "text/plain": [
       "                     JobRole  Encoding\n",
       "0            Sales Executive         7\n",
       "1         Research Scientist         6\n",
       "2      Laboratory Technician         2\n",
       "3     Manufacturing Director         4\n",
       "4  Healthcare Representative         0\n",
       "5                    Manager         3\n",
       "6       Sales Representative         8\n",
       "7          Research Director         5\n",
       "8            Human Resources         1"
      ]
     },
     "execution_count": 91,
     "metadata": {},
     "output_type": "execute_result"
    }
   ],
   "source": [
    "df['AttritionEncoded'] = attrition_df\n",
    "df['GenderEncoded'] = gender_df\n",
    "df['JobRoleEncoded'] = job_role_df\n",
    "\n",
    "# job role encodings table - just for readability\n",
    "table_df = pd.DataFrame()\n",
    "table_df['JobRole'] = df['JobRole'].unique()\n",
    "table_df['Encoding'] = df['JobRoleEncoded'].unique()\n",
    "table_df"
   ]
  },
  {
   "cell_type": "code",
   "execution_count": 92,
   "id": "c272962a",
   "metadata": {
    "ExecuteTime": {
     "end_time": "2023-01-22T21:33:03.451493Z",
     "start_time": "2023-01-22T21:33:03.435496Z"
    }
   },
   "outputs": [
    {
     "data": {
      "text/plain": [
       "Index(['Age', 'Education', 'EnvironmentSatisfaction', 'JobInvolvement',\n",
       "       'JobLevel', 'JobSatisfaction', 'MonthlyIncome', 'PerformanceRating',\n",
       "       'WorkLifeBalance', 'YearsAtCompany', 'YearsSinceLastPromotion',\n",
       "       'AttritionEncoded', 'GenderEncoded', 'JobRoleEncoded'],\n",
       "      dtype='object')"
      ]
     },
     "execution_count": 92,
     "metadata": {},
     "output_type": "execute_result"
    }
   ],
   "source": [
    "# drop non-encoded columns\n",
    "df = df.drop([\"Attrition\", \"Gender\", \"JobRole\"], axis = 1)\n",
    "df.columns"
   ]
  },
  {
   "cell_type": "markdown",
   "id": "a7898865",
   "metadata": {},
   "source": [
    "## Predicting Employee Attrition Decision Trees"
   ]
  },
  {
   "cell_type": "code",
   "execution_count": 93,
   "id": "48bc9af2",
   "metadata": {
    "ExecuteTime": {
     "end_time": "2023-01-22T21:33:03.782549Z",
     "start_time": "2023-01-22T21:33:03.764396Z"
    }
   },
   "outputs": [
    {
     "name": "stdout",
     "output_type": "stream",
     "text": [
      "Percentage of employees who left: 16.12%\n",
      "Percentage of employees who left: 83.88%\n"
     ]
    }
   ],
   "source": [
    "# statistics regarding attrition (target value) \n",
    "\n",
    "# 1470 rows total - find percentage of employees who left / didn't leave\n",
    "# number of employees that left\n",
    "percent_left = ((df['AttritionEncoded'] == 1).sum()) / df['AttritionEncoded'].count()\n",
    "\n",
    "# number of employees that stayed\n",
    "percent_stayed = ((df['AttritionEncoded'] == 0).sum()) / df['AttritionEncoded'].count()\n",
    "\n",
    "print('Percentage of employees who left: {}%'.format((round(percent_left * 100, 2))))\n",
    "print('Percentage of employees who left: {}%'.format((round(percent_stayed * 100, 2))))\n",
    "\n",
    "# will have to address class imabalance when tuning model"
   ]
  },
  {
   "cell_type": "code",
   "execution_count": 94,
   "id": "d669d0f4",
   "metadata": {
    "ExecuteTime": {
     "end_time": "2023-01-22T21:33:03.926550Z",
     "start_time": "2023-01-22T21:33:03.910550Z"
    }
   },
   "outputs": [],
   "source": [
    "# splitting target and feature variables\n",
    "y = df['AttritionEncoded']\n",
    "X = df.drop(columns = ['AttritionEncoded'], axis = 1)\n",
    "\n",
    "# creating train / test split\n",
    "# random_state = 13 (my favorite number)\n",
    "# leaving default of test_size = .25, train_size = .75\n",
    "X_train, X_test, y_train, y_test = train_test_split(X, y, random_state=13)"
   ]
  },
  {
   "cell_type": "code",
   "execution_count": 95,
   "id": "26d22a13",
   "metadata": {
    "ExecuteTime": {
     "end_time": "2023-01-22T21:33:04.115382Z",
     "start_time": "2023-01-22T21:33:04.097098Z"
    }
   },
   "outputs": [
    {
     "name": "stdout",
     "output_type": "stream",
     "text": [
      "Training data:\n",
      "0    923\n",
      "1    179\n",
      "Name: AttritionEncoded, dtype: int64\n",
      "\n",
      "Testing data:\n",
      "0    310\n",
      "1     58\n",
      "Name: AttritionEncoded, dtype: int64\n"
     ]
    }
   ],
   "source": [
    "# class imbalance in train / test data\n",
    "# training data\n",
    "print(\"Training data:\")\n",
    "print(y_train.value_counts())\n",
    "\n",
    "# testing data\n",
    "print(\"\\nTesting data:\")\n",
    "print(y_test.value_counts())"
   ]
  },
  {
   "cell_type": "markdown",
   "id": "8779d532",
   "metadata": {},
   "source": [
    "### Creating the Initial Decision Tree Model"
   ]
  },
  {
   "cell_type": "code",
   "execution_count": 96,
   "id": "2bbe69f6",
   "metadata": {
    "ExecuteTime": {
     "end_time": "2023-01-22T21:33:04.594565Z",
     "start_time": "2023-01-22T21:33:04.570560Z"
    }
   },
   "outputs": [],
   "source": [
    "# training classifier object\n",
    "attrition_classifier = DecisionTreeClassifier(random_state = 13)\n",
    "attrition_classifier.fit(X_train, y_train)\n",
    "\n",
    "# make predicitons\n",
    "y_predict = attrition_classifier.predict(X_test)"
   ]
  },
  {
   "cell_type": "markdown",
   "id": "ff4a15ac",
   "metadata": {},
   "source": [
    "### Checking Performance"
   ]
  },
  {
   "cell_type": "code",
   "execution_count": 101,
   "id": "0a877aa0",
   "metadata": {
    "ExecuteTime": {
     "end_time": "2023-01-22T21:34:12.636291Z",
     "start_time": "2023-01-22T21:34:12.468291Z"
    }
   },
   "outputs": [
    {
     "name": "stdout",
     "output_type": "stream",
     "text": [
      "Confusion Matrix:\n"
     ]
    },
    {
     "data": {
      "image/png": "[encoded data removed]",
      "text/plain": [
       "<Figure size 432x288 with 2 Axes>"
      ]
     },
     "metadata": {
      "needs_background": "light"
     },
     "output_type": "display_data"
    },
    {
     "name": "stdout",
     "output_type": "stream",
     "text": [
      "Accuracy: 73.36956521739131\n",
      "Precision 0.23684210526315788\n",
      "AUC: 0.5616240266963293\n"
     ]
    }
   ],
   "source": [
    "# ignoring deprecation warning for plot_confusion_matrix\n",
    "import warnings\n",
    "warnings.simplefilter('ignore')\n",
    "\n",
    "# confusion matrix\n",
    "print(\"Confusion Matrix:\")\n",
    "plot_confusion_matrix(attrition_classifier, X, y)\n",
    "plt.show()\n",
    "\n",
    "# measuring accuracy\n",
    "accuracy = accuracy_score(y_test, y_predict) * 100\n",
    "print(\"Accuracy:\", accuracy)\n",
    "\n",
    "# measuring precision\n",
    "precision = precision_score(y_test, y_predict)\n",
    "print(\"Precision\", precision) # want a value close to 1\n",
    "\n",
    "# measuring AUC (Area Under the ROC Curve)\n",
    "false_pos, true_pos, thresholds = roc_curve(y_test, y_predict)\n",
    "area_under_roc = auc(false_pos, true_pos)\n",
    "print(\"AUC:\", area_under_roc) # .56 is pretty close to just random guessing"
   ]
  },
  {
   "cell_type": "markdown",
   "id": "33adbc8d",
   "metadata": {},
   "source": [
    "Right now, model is sort of accurate but not precise. Also model is barely better than randomly guessing if an employee will leave or not (AUC score = .56)."
   ]
  },
  {
   "cell_type": "markdown",
   "id": "365b7354",
   "metadata": {},
   "source": [
    "# Might need to prune model - look into it"
   ]
  },
  {
   "cell_type": "markdown",
   "id": "d7ff715c",
   "metadata": {},
   "source": [
    "### Addressing Class Imbalance"
   ]
  },
  {
   "cell_type": "markdown",
   "id": "a7e15a53",
   "metadata": {},
   "source": [
    "#### Tuning the Decision Tree Model"
   ]
  },
  {
   "cell_type": "code",
   "execution_count": 105,
   "id": "59df9535",
   "metadata": {
    "ExecuteTime": {
     "end_time": "2023-01-22T21:47:56.627922Z",
     "start_time": "2023-01-22T21:47:45.784051Z"
    }
   },
   "outputs": [
    {
     "name": "stdout",
     "output_type": "stream",
     "text": [
      "Collecting imblearn\n",
      "  Downloading imblearn-0.0-py2.py3-none-any.whl (1.9 kB)\n",
      "Collecting imbalanced-learn\n",
      "  Downloading imbalanced_learn-0.10.1-py3-none-any.whl (226 kB)\n",
      "Requirement already satisfied: threadpoolctl>=2.0.0 in c:\\users\\mhince\\anaconda3\\lib\\site-packages (from imbalanced-learn->imblearn) (2.2.0)\n",
      "Requirement already satisfied: scikit-learn>=1.0.2 in c:\\users\\mhince\\anaconda3\\lib\\site-packages (from imbalanced-learn->imblearn) (1.0.2)\n",
      "Requirement already satisfied: scipy>=1.3.2 in c:\\users\\mhince\\anaconda3\\lib\\site-packages (from imbalanced-learn->imblearn) (1.7.3)\n",
      "Collecting joblib>=1.1.1\n",
      "  Downloading joblib-1.2.0-py3-none-any.whl (297 kB)\n",
      "Requirement already satisfied: numpy>=1.17.3 in c:\\users\\mhince\\anaconda3\\lib\\site-packages (from imbalanced-learn->imblearn) (1.21.5)\n",
      "Installing collected packages: joblib, imbalanced-learn, imblearn\n",
      "  Attempting uninstall: joblib\n",
      "    Found existing installation: joblib 1.1.0\n",
      "    Uninstalling joblib-1.1.0:\n",
      "      Successfully uninstalled joblib-1.1.0\n",
      "Successfully installed imbalanced-learn-0.10.1 imblearn-0.0 joblib-1.2.0\n"
     ]
    }
   ],
   "source": [
    "# had to install imblearn\n",
    "!pip install imblearn"
   ]
  },
  {
   "cell_type": "code",
   "execution_count": 114,
   "id": "a9eb1a3c",
   "metadata": {
    "ExecuteTime": {
     "end_time": "2023-01-22T21:52:23.676007Z",
     "start_time": "2023-01-22T21:52:23.647766Z"
    }
   },
   "outputs": [
    {
     "name": "stdout",
     "output_type": "stream",
     "text": [
      "Classifications BEFORE Resample:\n",
      "0    923\n",
      "1    179\n",
      "Name: AttritionEncoded, dtype: int64\n",
      "\n",
      "Classifications AFTER Resample:\n",
      "0    923\n",
      "1    923\n",
      "Name: AttritionEncoded, dtype: int64\n"
     ]
    }
   ],
   "source": [
    "# using SMOTE to resample data\n",
    "from imblearn.over_sampling import SMOTE\n",
    "\n",
    "print(\"Classifications BEFORE Resample:\")\n",
    "print(y_train.value_counts())\n",
    "\n",
    "X_train_resample, y_train_resample = SMOTE().fit_resample(X_train, y_train)\n",
    "\n",
    "# should have same number of each classification\n",
    "print(\"\\nClassifications AFTER Resample:\")\n",
    "print(pd.Series(y_train_resample).value_counts())"
   ]
  },
  {
   "cell_type": "markdown",
   "id": "06585e08",
   "metadata": {},
   "source": [
    "#### Building Model with Resampled Data"
   ]
  },
  {
   "cell_type": "code",
   "execution_count": 118,
   "id": "621030cb",
   "metadata": {
    "ExecuteTime": {
     "end_time": "2023-01-22T22:08:29.672316Z",
     "start_time": "2023-01-22T22:08:29.642322Z"
    }
   },
   "outputs": [],
   "source": [
    "# training classifier object\n",
    "attrition_classifier_resample = DecisionTreeClassifier(random_state = 13)\n",
    "attrition_classifier_resample.fit(X_train_resample, y_train_resample)\n",
    "\n",
    "# make predicitons\n",
    "y_predict_resample = attrition_classifier.predict(X_test)"
   ]
  },
  {
   "cell_type": "code",
   "execution_count": 120,
   "id": "22ea7dc3",
   "metadata": {
    "ExecuteTime": {
     "end_time": "2023-01-22T22:11:06.553540Z",
     "start_time": "2023-01-22T22:11:05.649757Z"
    }
   },
   "outputs": [
    {
     "name": "stdout",
     "output_type": "stream",
     "text": [
      "Confusion Matrix:\n"
     ]
    },
    {
     "data": {
      "image/png": "[encoded data removed]",
      "text/plain": [
       "<Figure size 432x288 with 2 Axes>"
      ]
     },
     "metadata": {
      "needs_background": "light"
     },
     "output_type": "display_data"
    },
    {
     "name": "stdout",
     "output_type": "stream",
     "text": [
      "Accuracy: 69.29347826086956\n",
      "Precision 0.1978021978021978\n",
      "AUC: 0.5374304783092325\n"
     ]
    }
   ],
   "source": [
    "# ignoring deprecation warning for plot_confusion_matrix\n",
    "import warnings\n",
    "warnings.simplefilter('ignore')\n",
    "\n",
    "# confusion matrix\n",
    "print(\"Confusion Matrix:\")\n",
    "plot_confusion_matrix(attrition_classifier_resample, X, y)\n",
    "plt.show()\n",
    "\n",
    "# measuring accuracy\n",
    "accuracy_resample = accuracy_score(y_test, y_predict_resample) * 100\n",
    "print(\"Accuracy:\", accuracy_resample)\n",
    "\n",
    "# measuring precision\n",
    "precision_resample = precision_score(y_test, y_predict_resample)\n",
    "print(\"Precision\", precision_resample) # want a value close to 1\n",
    "\n",
    "# measuring AUC (Area Under the ROC Curve)\n",
    "false_pos_resample, true_pos_resample, thresholds_resample = roc_curve(y_test, y_predict_resample)\n",
    "area_under_roc_resample = auc(false_pos, true_pos)\n",
    "print(\"AUC:\", area_under_roc_resample) # .56 is pretty close to just random guessing"
   ]
  },
  {
   "cell_type": "markdown",
   "id": "56c1ba91",
   "metadata": {},
   "source": [
    "## Predicting Employee Attrition with Random Forests"
   ]
  },
  {
   "cell_type": "code",
   "execution_count": null,
   "id": "adc2e3c2",
   "metadata": {},
   "outputs": [],
   "source": []
  }
 ],
 "metadata": {
  "kernelspec": {
   "display_name": "Python 3 (ipykernel)",
   "language": "python",
   "name": "python3"
  },
  "language_info": {
   "codemirror_mode": {
    "name": "ipython",
    "version": 3
   },
   "file_extension": ".py",
   "mimetype": "text/x-python",
   "name": "python",
   "nbconvert_exporter": "python",
   "pygments_lexer": "ipython3",
   "version": "3.9.12"
  },
  "varInspector": {
   "cols": {
    "lenName": 16,
    "lenType": 16,
    "lenVar": 40
   },
   "kernels_config": {
    "python": {
     "delete_cmd_postfix": "",
     "delete_cmd_prefix": "del ",
     "library": "var_list.py",
     "varRefreshCmd": "print(var_dic_list())"
    },
    "r": {
     "delete_cmd_postfix": ") ",
     "delete_cmd_prefix": "rm(",
     "library": "var_list.r",
     "varRefreshCmd": "cat(var_dic_list()) "
    }
   },
   "types_to_exclude": [
    "module",
    "function",
    "builtin_function_or_method",
    "instance",
    "_Feature"
   ],
   "window_display": false
  }
 },
 "nbformat": 4,
 "nbformat_minor": 5
}

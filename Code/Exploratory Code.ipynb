{
 "cells": [
  {
   "cell_type": "markdown",
   "id": "b902b182",
   "metadata": {},
   "source": [
    "# Predicting Employee Attrition Using Decision Trees and Random Forests"
   ]
  },
  {
   "cell_type": "markdown",
   "id": "7ac67879",
   "metadata": {},
   "source": [
    "## Data Preprocessing"
   ]
  },
  {
   "cell_type": "code",
   "execution_count": 2,
   "id": "791e8a94",
   "metadata": {
    "ExecuteTime": {
     "end_time": "2023-01-25T20:39:42.684853Z",
     "start_time": "2023-01-25T20:39:40.048215Z"
    }
   },
   "outputs": [],
   "source": [
    "import pandas as pd\n",
    "import matplotlib.pyplot as plt\n",
    "\n",
    "from sklearn.preprocessing import LabelEncoder\n",
    "\n",
    "from sklearn.model_selection import train_test_split\n",
    "from sklearn.tree import DecisionTreeClassifier\n",
    "from sklearn import tree\n",
    "\n",
    "from sklearn.metrics import accuracy_score, precision_score, roc_curve, auc, recall_score, f1_score\n",
    "from sklearn.metrics import plot_confusion_matrix\n",
    "\n",
    "# loading in csv and looking at first 5 rows\n",
    "df = pd.read_csv(\"../Data/WA_Fn-UseC_-HR-Employee-Attrition.csv\")\n",
    "df.head()\n",
    "\n",
    "# setting seed variable\n",
    "seed = 13"
   ]
  },
  {
   "cell_type": "code",
   "execution_count": 3,
   "id": "71c113f3",
   "metadata": {
    "ExecuteTime": {
     "end_time": "2023-01-25T20:39:42.716900Z",
     "start_time": "2023-01-25T20:39:42.701881Z"
    }
   },
   "outputs": [
    {
     "data": {
      "text/plain": [
       "(1470, 18)"
      ]
     },
     "execution_count": 3,
     "metadata": {},
     "output_type": "execute_result"
    }
   ],
   "source": [
    "# only keep columns we want to use as features for prediction\n",
    "df = df[['Age', 'Attrition', 'Education', 'EnvironmentSatisfaction', 'Gender', 'HourlyRate', 'JobInvolvement', 'JobLevel', 'JobRole', 'JobSatisfaction', 'MaritalStatus', 'MonthlyIncome', 'PerformanceRating', 'RelationshipSatisfaction', 'WorkLifeBalance', 'YearsAtCompany', 'YearsInCurrentRole', 'YearsSinceLastPromotion']]\n",
    "df.shape"
   ]
  },
  {
   "cell_type": "code",
   "execution_count": 4,
   "id": "00b035fe",
   "metadata": {
    "ExecuteTime": {
     "end_time": "2023-01-25T20:39:42.748951Z",
     "start_time": "2023-01-25T20:39:42.733931Z"
    }
   },
   "outputs": [
    {
     "data": {
      "text/plain": [
       "(1470, 18)"
      ]
     },
     "execution_count": 4,
     "metadata": {},
     "output_type": "execute_result"
    }
   ],
   "source": [
    "# remove any rows that have at least one null or missing value\n",
    "df.dropna()\n",
    "df.shape\n",
    "\n",
    "# no rows were dropped - all rows have complete data"
   ]
  },
  {
   "cell_type": "code",
   "execution_count": 5,
   "id": "83aadda8",
   "metadata": {
    "ExecuteTime": {
     "end_time": "2023-01-25T20:39:42.781007Z",
     "start_time": "2023-01-25T20:39:42.765978Z"
    }
   },
   "outputs": [
    {
     "name": "stdout",
     "output_type": "stream",
     "text": [
      "['Sales Executive', 'Research Scientist', 'Laboratory Technician', 'Manufacturing Director', 'Healthcare Representative', 'Manager', 'Sales Representative', 'Research Director', 'Human Resources']\n",
      "[7 6 2 ... 4 7 2]\n",
      "['Single', 'Married', 'Divorced']\n",
      "[2 1 2 ... 1 1 1]\n"
     ]
    }
   ],
   "source": [
    "# encode values that are not binary or discrete\n",
    "# encode Attrition (target variable)\n",
    "# 1 = yes, 0 = no\n",
    "attrition_encoder = LabelEncoder()\n",
    "attrition_encoder.fit(df['Attrition'])\n",
    "attrition_vals = attrition_encoder.transform(df['Attrition'])\n",
    "attrition_df = pd.DataFrame(attrition_vals, columns=['Attrition'])\n",
    "\n",
    "# encode Gender\n",
    "# 1 = male, 0 = female\n",
    "gender_encoder = LabelEncoder()\n",
    "gender_encoder.fit(df['Gender'])\n",
    "gender_vals = gender_encoder.transform(df['Gender'])\n",
    "gender_df = pd.DataFrame(gender_vals, columns=['Gender'])\n",
    "\n",
    "# encode JobRole\n",
    "job_role_encoder = LabelEncoder()\n",
    "job_role_encoder.fit(df['JobRole'])\n",
    "job_role_vals = job_role_encoder.transform(df['JobRole'])\n",
    "job_role_df = pd.DataFrame(job_role_vals, columns=['JobRole'])\n",
    "print(list(df['JobRole'].unique()))\n",
    "print(job_role_vals)\n",
    "\n",
    "# encode MaritalStatus\n",
    "# 0 = divorced, 1 = married, 2 = single\n",
    "marital_encoder = LabelEncoder()\n",
    "marital_encoder.fit(df['MaritalStatus'])\n",
    "marital_vals = marital_encoder.transform(df['MaritalStatus'])\n",
    "marital_df = pd.DataFrame(marital_vals, columns=['MaritalStatus'])\n",
    "print(list(df['MaritalStatus'].unique()))\n",
    "print(marital_vals)"
   ]
  },
  {
   "cell_type": "code",
   "execution_count": 6,
   "id": "2b28c139",
   "metadata": {
    "ExecuteTime": {
     "end_time": "2023-01-25T20:39:42.827094Z",
     "start_time": "2023-01-25T20:39:42.814073Z"
    }
   },
   "outputs": [
    {
     "data": {
      "text/html": [
       "<div>\n",
       "<style scoped>\n",
       "    .dataframe tbody tr th:only-of-type {\n",
       "        vertical-align: middle;\n",
       "    }\n",
       "\n",
       "    .dataframe tbody tr th {\n",
       "        vertical-align: top;\n",
       "    }\n",
       "\n",
       "    .dataframe thead th {\n",
       "        text-align: right;\n",
       "    }\n",
       "</style>\n",
       "<table border=\"1\" class=\"dataframe\">\n",
       "  <thead>\n",
       "    <tr style=\"text-align: right;\">\n",
       "      <th></th>\n",
       "      <th>JobRole</th>\n",
       "      <th>Encoding</th>\n",
       "    </tr>\n",
       "  </thead>\n",
       "  <tbody>\n",
       "    <tr>\n",
       "      <th>0</th>\n",
       "      <td>Sales Executive</td>\n",
       "      <td>7</td>\n",
       "    </tr>\n",
       "    <tr>\n",
       "      <th>1</th>\n",
       "      <td>Research Scientist</td>\n",
       "      <td>6</td>\n",
       "    </tr>\n",
       "    <tr>\n",
       "      <th>2</th>\n",
       "      <td>Laboratory Technician</td>\n",
       "      <td>2</td>\n",
       "    </tr>\n",
       "    <tr>\n",
       "      <th>3</th>\n",
       "      <td>Manufacturing Director</td>\n",
       "      <td>4</td>\n",
       "    </tr>\n",
       "    <tr>\n",
       "      <th>4</th>\n",
       "      <td>Healthcare Representative</td>\n",
       "      <td>0</td>\n",
       "    </tr>\n",
       "    <tr>\n",
       "      <th>5</th>\n",
       "      <td>Manager</td>\n",
       "      <td>3</td>\n",
       "    </tr>\n",
       "    <tr>\n",
       "      <th>6</th>\n",
       "      <td>Sales Representative</td>\n",
       "      <td>8</td>\n",
       "    </tr>\n",
       "    <tr>\n",
       "      <th>7</th>\n",
       "      <td>Research Director</td>\n",
       "      <td>5</td>\n",
       "    </tr>\n",
       "    <tr>\n",
       "      <th>8</th>\n",
       "      <td>Human Resources</td>\n",
       "      <td>1</td>\n",
       "    </tr>\n",
       "  </tbody>\n",
       "</table>\n",
       "</div>"
      ],
      "text/plain": [
       "                     JobRole  Encoding\n",
       "0            Sales Executive         7\n",
       "1         Research Scientist         6\n",
       "2      Laboratory Technician         2\n",
       "3     Manufacturing Director         4\n",
       "4  Healthcare Representative         0\n",
       "5                    Manager         3\n",
       "6       Sales Representative         8\n",
       "7          Research Director         5\n",
       "8            Human Resources         1"
      ]
     },
     "execution_count": 6,
     "metadata": {},
     "output_type": "execute_result"
    }
   ],
   "source": [
    "df['AttritionEncoded'] = attrition_df\n",
    "df['GenderEncoded'] = gender_df\n",
    "df['JobRoleEncoded'] = job_role_df\n",
    "df['MaritalStatusEncoded'] = marital_df\n",
    "\n",
    "# job role encodings table - just for readability\n",
    "table_df = pd.DataFrame()\n",
    "table_df['JobRole'] = df['JobRole'].unique()\n",
    "table_df['Encoding'] = df['JobRoleEncoded'].unique()\n",
    "table_df"
   ]
  },
  {
   "cell_type": "code",
   "execution_count": 7,
   "id": "c272962a",
   "metadata": {
    "ExecuteTime": {
     "end_time": "2023-01-25T20:39:42.875224Z",
     "start_time": "2023-01-25T20:39:42.861187Z"
    }
   },
   "outputs": [
    {
     "data": {
      "text/plain": [
       "Index(['Age', 'Education', 'EnvironmentSatisfaction', 'HourlyRate',\n",
       "       'JobInvolvement', 'JobLevel', 'JobSatisfaction', 'MonthlyIncome',\n",
       "       'PerformanceRating', 'RelationshipSatisfaction', 'WorkLifeBalance',\n",
       "       'YearsAtCompany', 'YearsInCurrentRole', 'YearsSinceLastPromotion',\n",
       "       'AttritionEncoded', 'GenderEncoded', 'JobRoleEncoded',\n",
       "       'MaritalStatusEncoded'],\n",
       "      dtype='object')"
      ]
     },
     "execution_count": 7,
     "metadata": {},
     "output_type": "execute_result"
    }
   ],
   "source": [
    "# drop non-encoded columns\n",
    "df = df.drop([\"Attrition\", \"Gender\", \"JobRole\", \"MaritalStatus\"], axis = 1)\n",
    "df.columns"
   ]
  },
  {
   "cell_type": "markdown",
   "id": "29de2588",
   "metadata": {},
   "source": [
    "## Predicting Employee Attrition Using Decision Trees"
   ]
  },
  {
   "cell_type": "code",
   "execution_count": 8,
   "id": "530f2a15",
   "metadata": {
    "ExecuteTime": {
     "end_time": "2023-01-25T20:39:42.969850Z",
     "start_time": "2023-01-25T20:39:42.953820Z"
    }
   },
   "outputs": [
    {
     "name": "stdout",
     "output_type": "stream",
     "text": [
      "Percentage of employees who left: 16.12%\n",
      "Percentage of employees who left: 83.88%\n"
     ]
    }
   ],
   "source": [
    "# statistics regarding attrition (target value) \n",
    "\n",
    "# 1470 rows total - find percentage of employees who left / didn't leave\n",
    "# number of employees that left\n",
    "percent_left = ((df['AttritionEncoded'] == 1).sum()) / df['AttritionEncoded'].count()\n",
    "\n",
    "# number of employees that stayed\n",
    "percent_stayed = ((df['AttritionEncoded'] == 0).sum()) / df['AttritionEncoded'].count()\n",
    "\n",
    "print('Percentage of employees who left: {}%'.format((round(percent_left * 100, 2))))\n",
    "print('Percentage of employees who left: {}%'.format((round(percent_stayed * 100, 2))))\n",
    "\n",
    "# will have to address class imabalance when tuning model"
   ]
  },
  {
   "cell_type": "code",
   "execution_count": 9,
   "id": "cb26928a",
   "metadata": {
    "ExecuteTime": {
     "end_time": "2023-01-25T20:39:43.864133Z",
     "start_time": "2023-01-25T20:39:43.854133Z"
    }
   },
   "outputs": [],
   "source": [
    "# splitting target and feature variables\n",
    "y = df['AttritionEncoded']\n",
    "X = df.drop(columns = ['AttritionEncoded'], axis = 1)\n",
    "\n",
    "# creating train / test split\n",
    "# random_state = 13 (my favorite number)\n",
    "# leaving default of test_size = .25, train_size = .75\n",
    "X_train, X_test, y_train, y_test = train_test_split(X, y, random_state=13)"
   ]
  },
  {
   "cell_type": "code",
   "execution_count": 10,
   "id": "f1d303dc",
   "metadata": {
    "ExecuteTime": {
     "end_time": "2023-01-25T20:39:44.362638Z",
     "start_time": "2023-01-25T20:39:44.356620Z"
    }
   },
   "outputs": [
    {
     "name": "stdout",
     "output_type": "stream",
     "text": [
      "Training data:\n",
      "0    923\n",
      "1    179\n",
      "Name: AttritionEncoded, dtype: int64\n",
      "\n",
      "Testing data:\n",
      "0    310\n",
      "1     58\n",
      "Name: AttritionEncoded, dtype: int64\n"
     ]
    }
   ],
   "source": [
    "# class imbalance in train / test data\n",
    "# training data\n",
    "print(\"Training data:\")\n",
    "print(y_train.value_counts())\n",
    "\n",
    "# testing data\n",
    "print(\"\\nTesting data:\")\n",
    "print(y_test.value_counts())"
   ]
  },
  {
   "cell_type": "markdown",
   "id": "457f30fb",
   "metadata": {},
   "source": [
    "### Creating the Initial Decision Tree Model"
   ]
  },
  {
   "cell_type": "code",
   "execution_count": 11,
   "id": "b14c9255",
   "metadata": {
    "ExecuteTime": {
     "end_time": "2023-01-25T20:39:45.475801Z",
     "start_time": "2023-01-25T20:39:45.456694Z"
    }
   },
   "outputs": [],
   "source": [
    "# training classifier object\n",
    "attrition_classifier = DecisionTreeClassifier(criterion = 'entropy', random_state = seed)\n",
    "attrition_classifier.fit(X_train, y_train)\n",
    "\n",
    "# make predicitons\n",
    "y_predict = attrition_classifier.predict(X_test)"
   ]
  },
  {
   "cell_type": "markdown",
   "id": "bf3fd28f",
   "metadata": {},
   "source": [
    "### Checking Baseline Model Performance"
   ]
  },
  {
   "cell_type": "code",
   "execution_count": 12,
   "id": "bcd44acf",
   "metadata": {
    "ExecuteTime": {
     "end_time": "2023-01-25T20:39:46.397808Z",
     "start_time": "2023-01-25T20:39:46.248058Z"
    }
   },
   "outputs": [
    {
     "name": "stdout",
     "output_type": "stream",
     "text": [
      "Confusion Matrix:\n"
     ]
    },
    {
     "data": {
      "image/png": "[encoded data removed]",
      "text/plain": [
       "<Figure size 432x288 with 2 Axes>"
      ]
     },
     "metadata": {
      "needs_background": "light"
     },
     "output_type": "display_data"
    },
    {
     "name": "stdout",
     "output_type": "stream",
     "text": [
      "Accuracy: 77.44565217391305\n",
      "Precision: 0.24489795918367346\n",
      "Recall: 0.20689655172413793\n",
      "F1: 0.22429906542056074\n",
      "AUC: 0.5437708565072302\n"
     ]
    }
   ],
   "source": [
    "# ignoring deprecation warning for plot_confusion_matrix\n",
    "import warnings\n",
    "warnings.simplefilter('ignore')\n",
    "\n",
    "# confusion matrix\n",
    "print(\"Confusion Matrix:\")\n",
    "plot_confusion_matrix(attrition_classifier, X, y)\n",
    "plt.show()\n",
    "\n",
    "# measuring accuracy\n",
    "accuracy = accuracy_score(y_test, y_predict) * 100\n",
    "print(\"Accuracy:\", accuracy)\n",
    "\n",
    "# measuring precision\n",
    "precision = precision_score(y_test, y_predict)\n",
    "print(\"Precision:\", precision) # want a value close to 1\n",
    "\n",
    "# measuring recall\n",
    "print(\"Recall:\", recall_score(y_test, y_predict))\n",
    "\n",
    "# measuring F1\n",
    "print(\"F1:\", f1_score(y_test, y_predict))\n",
    "\n",
    "# measuring AUC (Area Under the ROC Curve)\n",
    "false_pos, true_pos, thresholds = roc_curve(y_test, y_predict)\n",
    "area_under_roc = auc(false_pos, true_pos)\n",
    "print(\"AUC:\", area_under_roc) # .56 is pretty close to just random guessing"
   ]
  },
  {
   "cell_type": "markdown",
   "id": "0bed84b7",
   "metadata": {},
   "source": [
    "Right now, model is sort of accurate but not precise. Also model is barely better than randomly guessing if an employee will leave or not (AUC score = .56)."
   ]
  },
  {
   "cell_type": "markdown",
   "id": "1b8d3ca2",
   "metadata": {},
   "source": [
    "# Might need to prune model - look into it"
   ]
  },
  {
   "cell_type": "markdown",
   "id": "3dfa77e5",
   "metadata": {},
   "source": [
    "### Max Depth"
   ]
  },
  {
   "cell_type": "code",
   "execution_count": 13,
   "id": "5f021361",
   "metadata": {
    "ExecuteTime": {
     "end_time": "2023-01-25T20:39:48.864236Z",
     "start_time": "2023-01-25T20:39:48.573100Z"
    }
   },
   "outputs": [
    {
     "data": {
      "image/png": "[encoded data removed]",
      "text/plain": [
       "<Figure size 864x432 with 1 Axes>"
      ]
     },
     "metadata": {
      "needs_background": "light"
     },
     "output_type": "display_data"
    }
   ],
   "source": [
    "# hyperparameter tuning / pruning\n",
    "# max depth - code from hyperparameter lab\n",
    "max_depths = list(range(1, 33))\n",
    "train_results = []\n",
    "test_results = []\n",
    "for max_depth in max_depths:\n",
    "    dt = DecisionTreeClassifier(criterion='entropy', max_depth=max_depth, random_state=seed)\n",
    "    dt.fit(X_train, y_train)\n",
    "    train_pred = dt.predict(X_train)\n",
    "    false_positive_rate, true_positive_rate, thresholds = roc_curve(y_train, train_pred)\n",
    "    roc_auc = auc(false_positive_rate, true_positive_rate)\n",
    "    # Add auc score to previous train results\n",
    "    train_results.append(roc_auc)\n",
    "    y_pred = dt.predict(X_test)\n",
    "    false_positive_rate, true_positive_rate, thresholds = roc_curve(y_test, y_pred)\n",
    "    roc_auc = auc(false_positive_rate, true_positive_rate)\n",
    "    # Add auc score to previous test results\n",
    "    test_results.append(roc_auc)\n",
    "\n",
    "plt.figure(figsize=(12,6))\n",
    "plt.plot(max_depths, train_results, 'b', label='Train AUC')\n",
    "plt.plot(max_depths, test_results, 'r', label='Test AUC')\n",
    "plt.ylabel('AUC score')\n",
    "plt.xlabel('Tree depth')\n",
    "plt.legend()\n",
    "plt.show()"
   ]
  },
  {
   "cell_type": "markdown",
   "id": "017f3d6b",
   "metadata": {},
   "source": [
    "Optimal depth for this tree is 2"
   ]
  },
  {
   "cell_type": "markdown",
   "id": "370c8dd7",
   "metadata": {},
   "source": [
    "### Minimum Sample Split"
   ]
  },
  {
   "cell_type": "code",
   "execution_count": 14,
   "id": "a6151294",
   "metadata": {
    "ExecuteTime": {
     "end_time": "2023-01-25T20:39:50.194421Z",
     "start_time": "2023-01-25T20:39:50.072235Z"
    }
   },
   "outputs": [
    {
     "data": {
      "image/png": "[encoded data removed]",
      "text/plain": [
       "<Figure size 864x432 with 1 Axes>"
      ]
     },
     "metadata": {
      "needs_background": "light"
     },
     "output_type": "display_data"
    }
   ],
   "source": [
    "min_samples_splits = np.linspace(0.1, 1.0, 10, endpoint=True)\n",
    "train_results = []\n",
    "test_results = []\n",
    "for min_samples_split in min_samples_splits:\n",
    "    dt = DecisionTreeClassifier(criterion='entropy', min_samples_split=min_samples_split, random_state=seed)\n",
    "    dt.fit(X_train, y_train)\n",
    "    train_pred = dt.predict(X_train)\n",
    "    false_positive_rate, true_positive_rate, thresholds =    roc_curve(y_train, train_pred)\n",
    "    roc_auc = auc(false_positive_rate, true_positive_rate)\n",
    "    train_results.append(roc_auc)\n",
    "    y_pred = dt.predict(X_test)\n",
    "    false_positive_rate, true_positive_rate, thresholds = roc_curve(y_test, y_pred)\n",
    "    roc_auc = auc(false_positive_rate, true_positive_rate)\n",
    "    test_results.append(roc_auc)\n",
    "\n",
    "plt.figure(figsize=(12,6))\n",
    "plt.plot(min_samples_splits, train_results, 'b', label='Train AUC')\n",
    "plt.plot(min_samples_splits, test_results, 'r', label='Test AUC')\n",
    "plt.xlabel('Min. Sample splits')\n",
    "plt.legend()\n",
    "plt.show()"
   ]
  },
  {
   "cell_type": "markdown",
   "id": "336f7160",
   "metadata": {},
   "source": [
    "0.4 for minimum sample split"
   ]
  },
  {
   "cell_type": "markdown",
   "id": "92273d7d",
   "metadata": {},
   "source": [
    "### Minimum Sample Leafs"
   ]
  },
  {
   "cell_type": "code",
   "execution_count": 15,
   "id": "68151656",
   "metadata": {
    "ExecuteTime": {
     "end_time": "2023-01-25T20:39:51.430602Z",
     "start_time": "2023-01-25T20:39:51.316666Z"
    }
   },
   "outputs": [
    {
     "data": {
      "image/png": "[encoded data removed]",
      "text/plain": [
       "<Figure size 864x432 with 1 Axes>"
      ]
     },
     "metadata": {
      "needs_background": "light"
     },
     "output_type": "display_data"
    }
   ],
   "source": [
    "min_samples_leafs = np.linspace(0.1, 0.5, 5, endpoint=True)\n",
    "train_results = []\n",
    "test_results = []\n",
    "for min_samples_leaf in min_samples_leafs:\n",
    "    dt = DecisionTreeClassifier(criterion='entropy', min_samples_leaf=min_samples_leaf, random_state=seed)\n",
    "    dt.fit(X_train, y_train)\n",
    "    train_pred = dt.predict(X_train)\n",
    "    false_positive_rate, true_positive_rate, thresholds = roc_curve(y_train, train_pred)\n",
    "    roc_auc = auc(false_positive_rate, true_positive_rate)\n",
    "    train_results.append(roc_auc)\n",
    "    y_pred = dt.predict(X_test)\n",
    "    false_positive_rate, true_positive_rate, thresholds = roc_curve(y_test, y_pred)\n",
    "    roc_auc = auc(false_positive_rate, true_positive_rate)\n",
    "    test_results.append(roc_auc)\n",
    "    \n",
    "plt.figure(figsize=(12,6))    \n",
    "plt.plot(min_samples_leafs, train_results, 'b', label='Train AUC')\n",
    "plt.plot(min_samples_leafs, test_results, 'r', label='Test AUC')\n",
    "plt.ylabel('AUC score')\n",
    "plt.xlabel('Min. Sample Leafs')\n",
    "plt.legend()\n",
    "plt.show()"
   ]
  },
  {
   "cell_type": "markdown",
   "id": "03db0f65",
   "metadata": {},
   "source": [
    "No good value here I guess?"
   ]
  },
  {
   "cell_type": "markdown",
   "id": "6046fd25",
   "metadata": {},
   "source": [
    "### Maximum Features"
   ]
  },
  {
   "cell_type": "code",
   "execution_count": 16,
   "id": "5311fab2",
   "metadata": {
    "ExecuteTime": {
     "end_time": "2023-01-25T20:39:52.734493Z",
     "start_time": "2023-01-25T20:39:52.538595Z"
    }
   },
   "outputs": [
    {
     "data": {
      "image/png": "[encoded data removed]",
      "text/plain": [
       "<Figure size 864x432 with 1 Axes>"
      ]
     },
     "metadata": {
      "needs_background": "light"
     },
     "output_type": "display_data"
    }
   ],
   "source": [
    "max_features = list(range(1, X_train.shape[1]))\n",
    "train_results = []\n",
    "test_results = []\n",
    "for max_feature in max_features:\n",
    "    dt = DecisionTreeClassifier(criterion='entropy', max_features=max_feature, random_state=seed)\n",
    "    dt.fit(X_train, y_train)\n",
    "    train_pred = dt.predict(X_train)\n",
    "    false_positive_rate, true_positive_rate, thresholds = roc_curve(y_train, train_pred)\n",
    "    roc_auc = auc(false_positive_rate, true_positive_rate)\n",
    "    train_results.append(roc_auc)\n",
    "    y_pred = dt.predict(X_test)\n",
    "    false_positive_rate, true_positive_rate, thresholds = roc_curve(y_test, y_pred)\n",
    "    roc_auc = auc(false_positive_rate, true_positive_rate)\n",
    "    test_results.append(roc_auc)\n",
    "\n",
    "plt.figure(figsize=(12,6))\n",
    "plt.plot(max_features, train_results, 'b', label='Train AUC')\n",
    "plt.plot(max_features, test_results, 'r', label='Test AUC')\n",
    "plt.ylabel('AUC score')\n",
    "plt.xlabel('max features')\n",
    "plt.legend()\n",
    "plt.show()"
   ]
  },
  {
   "cell_type": "markdown",
   "id": "3d1decc8",
   "metadata": {},
   "source": [
    "best is when max features = 8 I guess?"
   ]
  },
  {
   "cell_type": "code",
   "execution_count": 17,
   "id": "df596131",
   "metadata": {
    "ExecuteTime": {
     "end_time": "2023-01-25T20:39:53.816245Z",
     "start_time": "2023-01-25T20:39:53.795216Z"
    }
   },
   "outputs": [],
   "source": [
    "# retrain model based on all of these things\n",
    "dt = DecisionTreeClassifier(criterion='entropy',\n",
    "                           max_features=8,\n",
    "                           max_depth=2,\n",
    "                           min_samples_split=0.4,\n",
    "                           min_samples_leaf=0.25,\n",
    "                           random_state=seed)\n",
    "dt.fit(X_train, y_train)\n",
    "y_pred = dt.predict(X_test)"
   ]
  },
  {
   "cell_type": "code",
   "execution_count": 18,
   "id": "aca84517",
   "metadata": {
    "ExecuteTime": {
     "end_time": "2023-01-25T20:39:54.673016Z",
     "start_time": "2023-01-25T20:39:54.577873Z"
    }
   },
   "outputs": [
    {
     "name": "stdout",
     "output_type": "stream",
     "text": [
      "Confusion Matrix:\n"
     ]
    },
    {
     "data": {
      "image/png": "[encoded data removed]",
      "text/plain": [
       "<Figure size 432x288 with 2 Axes>"
      ]
     },
     "metadata": {
      "needs_background": "light"
     },
     "output_type": "display_data"
    },
    {
     "name": "stdout",
     "output_type": "stream",
     "text": [
      "Accuracy: 84.23913043478261\n",
      "Precision 0.0\n",
      "Recall: 0.0\n",
      "F1: 0.0\n",
      "AUC: 0.5\n"
     ]
    }
   ],
   "source": [
    "# ignoring deprecation warning for plot_confusion_matrix\n",
    "import warnings\n",
    "warnings.simplefilter('ignore')\n",
    "\n",
    "# confusion matrix\n",
    "print(\"Confusion Matrix:\")\n",
    "plot_confusion_matrix(dt, X, y)\n",
    "plt.show()\n",
    "\n",
    "# measuring accuracy\n",
    "accuracy = accuracy_score(y_test, y_pred) * 100\n",
    "print(\"Accuracy:\", accuracy)\n",
    "\n",
    "# measuring precision\n",
    "precision = precision_score(y_test, y_pred)\n",
    "print(\"Precision\", precision) # want a value close to 1\n",
    "\n",
    "# measuring recall\n",
    "print(\"Recall:\", recall_score(y_test, y_pred))\n",
    "\n",
    "# measuring F1\n",
    "print(\"F1:\", f1_score(y_test, y_pred))\n",
    "\n",
    "# measuring AUC (Area Under the ROC Curve)\n",
    "false_pos, true_pos, thresholds = roc_curve(y_test, y_pred)\n",
    "area_under_roc = auc(false_pos, true_pos)\n",
    "print(\"AUC:\", area_under_roc) # .56 is pretty close to just random guessing"
   ]
  },
  {
   "cell_type": "markdown",
   "id": "ba539d1a",
   "metadata": {},
   "source": [
    "### Addressing Class Imbalance"
   ]
  },
  {
   "cell_type": "markdown",
   "id": "c71a6704",
   "metadata": {},
   "source": [
    "#### Tuning the Decision Tree Model"
   ]
  },
  {
   "cell_type": "code",
   "execution_count": 151,
   "id": "4d7f94f0",
   "metadata": {
    "ExecuteTime": {
     "end_time": "2023-01-24T20:47:49.121149Z",
     "start_time": "2023-01-24T20:47:45.391058Z"
    }
   },
   "outputs": [
    {
     "name": "stdout",
     "output_type": "stream",
     "text": [
      "^C\n"
     ]
    }
   ],
   "source": [
    "# had to install imblearn\n",
    "!pip install imblearn"
   ]
  },
  {
   "cell_type": "code",
   "execution_count": 19,
   "id": "e23c02ca",
   "metadata": {
    "ExecuteTime": {
     "end_time": "2023-01-25T20:39:58.064606Z",
     "start_time": "2023-01-25T20:39:57.795196Z"
    }
   },
   "outputs": [
    {
     "name": "stdout",
     "output_type": "stream",
     "text": [
      "Classifications BEFORE Resample:\n",
      "0    923\n",
      "1    179\n",
      "Name: AttritionEncoded, dtype: int64\n",
      "\n",
      "Classifications AFTER Resample:\n",
      "0    923\n",
      "1    923\n",
      "Name: AttritionEncoded, dtype: int64\n"
     ]
    }
   ],
   "source": [
    "# using SMOTE to resample data\n",
    "from imblearn.over_sampling import SMOTE\n",
    "\n",
    "print(\"Classifications BEFORE Resample:\")\n",
    "print(y_train.value_counts())\n",
    "\n",
    "X_train_resample, y_train_resample = SMOTE().fit_resample(X_train, y_train)\n",
    "\n",
    "# should have same number of each classification\n",
    "print(\"\\nClassifications AFTER Resample:\")\n",
    "print(pd.Series(y_train_resample).value_counts())"
   ]
  },
  {
   "cell_type": "markdown",
   "id": "80a3e92f",
   "metadata": {},
   "source": [
    "#### Building Model with Resampled Data"
   ]
  },
  {
   "cell_type": "code",
   "execution_count": 20,
   "id": "7eb1b963",
   "metadata": {
    "ExecuteTime": {
     "end_time": "2023-01-25T20:40:00.790316Z",
     "start_time": "2023-01-25T20:40:00.770570Z"
    }
   },
   "outputs": [],
   "source": [
    "# training classifier object\n",
    "# attrition_classifier_resample = DecisionTreeClassifier(criterion = 'entropy', random_state = 13)\n",
    "attrition_classifier_resample = DecisionTreeClassifier(criterion='entropy',\n",
    "                           max_features=8,\n",
    "                           max_depth=2,\n",
    "                           min_samples_split=0.4,\n",
    "                           min_samples_leaf=0.25,\n",
    "                           random_state=seed)\n",
    "attrition_classifier_resample.fit(X_train_resample, y_train_resample)\n",
    "\n",
    "# make predicitons\n",
    "y_predict_resample = attrition_classifier_resample.predict(X_test)"
   ]
  },
  {
   "cell_type": "code",
   "execution_count": 21,
   "id": "d6338350",
   "metadata": {
    "ExecuteTime": {
     "end_time": "2023-01-25T20:40:05.114485Z",
     "start_time": "2023-01-25T20:40:05.017335Z"
    }
   },
   "outputs": [
    {
     "name": "stdout",
     "output_type": "stream",
     "text": [
      "Confusion Matrix:\n"
     ]
    },
    {
     "data": {
      "image/png": "[encoded data removed]",
      "text/plain": [
       "<Figure size 432x288 with 2 Axes>"
      ]
     },
     "metadata": {
      "needs_background": "light"
     },
     "output_type": "display_data"
    },
    {
     "name": "stdout",
     "output_type": "stream",
     "text": [
      "Accuracy: 63.315217391304344\n",
      "Precision 0.23448275862068965\n",
      "AUC: 0.5\n"
     ]
    }
   ],
   "source": [
    "# ignoring deprecation warning for plot_confusion_matrix\n",
    "import warnings\n",
    "warnings.simplefilter('ignore')\n",
    "\n",
    "# confusion matrix\n",
    "print(\"Confusion Matrix:\")\n",
    "plot_confusion_matrix(attrition_classifier_resample, X, y)\n",
    "plt.show()\n",
    "\n",
    "# measuring accuracy\n",
    "accuracy_resample = accuracy_score(y_test, y_predict_resample) * 100\n",
    "print(\"Accuracy:\", accuracy_resample)\n",
    "\n",
    "# measuring precision\n",
    "precision_resample = precision_score(y_test, y_predict_resample)\n",
    "print(\"Precision\", precision_resample) # want a value close to 1\n",
    "\n",
    "# measuring AUC (Area Under the ROC Curve)\n",
    "false_pos_resample, true_pos_resample, thresholds_resample = roc_curve(y_test, y_predict_resample)\n",
    "area_under_roc_resample = auc(false_pos, true_pos)\n",
    "print(\"AUC:\", area_under_roc_resample) # .56 is pretty close to just random guessing"
   ]
  },
  {
   "cell_type": "markdown",
   "id": "82d0ad45",
   "metadata": {},
   "source": [
    "## Trying Logistic Regression to See Which Hyperparameter We Need to Tune"
   ]
  },
  {
   "cell_type": "code",
   "execution_count": 22,
   "id": "85ffaac8",
   "metadata": {
    "ExecuteTime": {
     "end_time": "2023-01-25T20:40:06.077603Z",
     "start_time": "2023-01-25T20:40:05.956989Z"
    }
   },
   "outputs": [
    {
     "name": "stdout",
     "output_type": "stream",
     "text": [
      "Confusion Matrix:\n"
     ]
    },
    {
     "data": {
      "image/png": "[encoded data removed]",
      "text/plain": [
       "<Figure size 432x288 with 2 Axes>"
      ]
     },
     "metadata": {
      "needs_background": "light"
     },
     "output_type": "display_data"
    },
    {
     "name": "stdout",
     "output_type": "stream",
     "text": [
      "Accuracy: 67.93478260869566\n",
      "Precision: 0.23684210526315788\n",
      "Recall: 0.46551724137931033\n",
      "F1: 0.313953488372093\n",
      "AUC: 0.5924360400444938\n"
     ]
    }
   ],
   "source": [
    "from sklearn.linear_model import LogisticRegression\n",
    "\n",
    "clf = LogisticRegression().fit(X_train_resample, y_train_resample)\n",
    "y_pred_2 = clf.predict(X_test)\n",
    "\n",
    "### Evaluate Model ### \n",
    "\n",
    "# confusion matrix\n",
    "print(\"Confusion Matrix:\")\n",
    "plot_confusion_matrix(clf, X, y)\n",
    "plt.show()\n",
    "\n",
    "# measuring accuracy\n",
    "accuracy = accuracy_score(y_test, y_pred_2) * 100\n",
    "print(\"Accuracy:\", accuracy)\n",
    "\n",
    "# measuring precision\n",
    "precision = precision_score(y_test, y_pred_2)\n",
    "print(\"Precision:\", precision) # want a value close to 1\n",
    "\n",
    "# measuring recall\n",
    "print(\"Recall:\", recall_score(y_test, y_pred_2))\n",
    "\n",
    "# measuring F1\n",
    "print(\"F1:\", f1_score(y_test, y_pred_2))\n",
    "\n",
    "# measuring AUC (Area Under the ROC Curve)\n",
    "false_pos, true_pos, thresholds = roc_curve(y_test, y_pred_2)\n",
    "area_under_roc = auc(false_pos, true_pos)\n",
    "print(\"AUC:\", area_under_roc) # .56 is pretty close to just random guessing"
   ]
  },
  {
   "cell_type": "code",
   "execution_count": 23,
   "id": "c45fa905",
   "metadata": {
    "ExecuteTime": {
     "end_time": "2023-01-25T20:40:07.777550Z",
     "start_time": "2023-01-25T20:40:06.783039Z"
    }
   },
   "outputs": [
    {
     "name": "stdout",
     "output_type": "stream",
     "text": [
      "Confusion Matrix:\n"
     ]
    },
    {
     "data": {
      "image/png": "[encoded data removed]",
      "text/plain": [
       "<Figure size 432x288 with 2 Axes>"
      ]
     },
     "metadata": {
      "needs_background": "light"
     },
     "output_type": "display_data"
    },
    {
     "name": "stdout",
     "output_type": "stream",
     "text": [
      "Accuracy: 67.93478260869566\n",
      "Precision: 0.23684210526315788\n",
      "Recall: 0.46551724137931033\n",
      "F1: 0.313953488372093\n",
      "AUC: 0.5924360400444938\n"
     ]
    }
   ],
   "source": [
    "from sklearn.linear_model import LogisticRegression\n",
    "from sklearn.model_selection import GridSearchCV\n",
    "\n",
    "logreg = LogisticRegression()\n",
    "\n",
    "grid_values = {'penalty': ['l1', 'l2'],'C':[0.001,.009,0.01,.09,1,5,10,25]}\n",
    "grid_clf_acc = GridSearchCV(logreg, param_grid = grid_values,scoring = 'f1')\n",
    "grid_clf_acc.fit(X_train_resample, y_train_resample)\n",
    "\n",
    "y_pred_new = grid_clf_acc.predict(X_test)\n",
    "\n",
    "### Evaluate Model ### \n",
    "\n",
    "# confusion matrix\n",
    "print(\"Confusion Matrix:\")\n",
    "plot_confusion_matrix(clf, X, y)\n",
    "plt.show()\n",
    "\n",
    "# measuring accuracy\n",
    "accuracy = accuracy_score(y_test, y_pred_new) * 100\n",
    "print(\"Accuracy:\", accuracy)\n",
    "\n",
    "# measuring precision\n",
    "precision = precision_score(y_test, y_pred_new)\n",
    "print(\"Precision:\", precision) # want a value close to 1\n",
    "\n",
    "# measuring recall\n",
    "print(\"Recall:\", recall_score(y_test, y_pred_new))\n",
    "\n",
    "# measuring F1\n",
    "print(\"F1:\", f1_score(y_test, y_pred_new))\n",
    "\n",
    "# measuring AUC (Area Under the ROC Curve)\n",
    "false_pos, true_pos, thresholds = roc_curve(y_test, y_pred_new)\n",
    "area_under_roc = auc(false_pos, true_pos)\n",
    "print(\"AUC:\", area_under_roc) # .56 is pretty close to just random guessing"
   ]
  },
  {
   "cell_type": "markdown",
   "id": "7238c382",
   "metadata": {},
   "source": [
    "## Predicting Employee Attrition with Random Forests"
   ]
  },
  {
   "cell_type": "code",
   "execution_count": 31,
   "id": "ac11d6dc",
   "metadata": {
    "ExecuteTime": {
     "end_time": "2023-01-25T20:43:06.032771Z",
     "start_time": "2023-01-25T20:43:05.587741Z"
    },
    "scrolled": false
   },
   "outputs": [
    {
     "name": "stdout",
     "output_type": "stream",
     "text": [
      "Confusion Matrix:\n"
     ]
    },
    {
     "data": {
      "image/png": "[encoded data removed]",
      "text/plain": [
       "<Figure size 432x288 with 2 Axes>"
      ]
     },
     "metadata": {
      "needs_background": "light"
     },
     "output_type": "display_data"
    },
    {
     "name": "stdout",
     "output_type": "stream",
     "text": [
      "Accuracy: 81.79347826086956\n",
      "Precision: 41.509433962264154\n",
      "Recall: 0.3793103448275862\n",
      "F1: 0.3963963963963964\n",
      "AUC: 0.6396551724137931\n"
     ]
    }
   ],
   "source": [
    "from sklearn.ensemble import RandomForestClassifier\n",
    "\n",
    "temp = RandomForestClassifier(n_estimators = 151, criterion = \"entropy\", random_state = seed)\n",
    "temp.fit(X_train_resample, y_train_resample)\n",
    "y_pred = temp.predict(X_test)\n",
    "\n",
    "### Evaluate Model ### \n",
    "\n",
    "# confusion matrix\n",
    "print(\"Confusion Matrix:\")\n",
    "plot_confusion_matrix(temp, X, y)\n",
    "plt.show()\n",
    "\n",
    "# measuring accuracy\n",
    "accuracy = accuracy_score(y_test, y_pred) * 100\n",
    "print(\"Accuracy:\", accuracy)\n",
    "\n",
    "# measuring precision\n",
    "precision = precision_score(y_test, y_pred) * 100\n",
    "print(\"Precision:\", precision) # want a value close to 1\n",
    "\n",
    "# measuring recall\n",
    "print(\"Recall:\", recall_score(y_test, y_pred))\n",
    "\n",
    "# measuring F1\n",
    "print(\"F1:\", f1_score(y_test, y_pred))\n",
    "\n",
    "# measuring AUC (Area Under the ROC Curve)\n",
    "false_pos, true_pos, thresholds = roc_curve(y_test, y_pred)\n",
    "area_under_roc = auc(false_pos, true_pos)\n",
    "print(\"AUC:\", area_under_roc) # .56 is pretty close to just random guessing"
   ]
  },
  {
   "cell_type": "code",
   "execution_count": 25,
   "id": "16e1d6fe",
   "metadata": {
    "ExecuteTime": {
     "end_time": "2023-01-25T20:41:32.235648Z",
     "start_time": "2023-01-25T20:40:12.926037Z"
    }
   },
   "outputs": [
    {
     "name": "stdout",
     "output_type": "stream",
     "text": [
      "n_estimators: 1\n",
      "Accuracy: 67.3913043478261\n",
      "\n",
      "\n",
      "n_estimators: 51\n",
      "Accuracy: 80.43478260869566\n",
      "\n",
      "\n",
      "n_estimators: 101\n",
      "Accuracy: 80.70652173913044\n",
      "\n",
      "\n",
      "n_estimators: 151\n",
      "Accuracy: 81.79347826086956\n",
      "\n",
      "\n",
      "n_estimators: 201\n",
      "Accuracy: 81.52173913043478\n",
      "\n",
      "\n",
      "n_estimators: 251\n",
      "Accuracy: 80.97826086956522\n",
      "\n",
      "\n",
      "n_estimators: 301\n",
      "Accuracy: 80.97826086956522\n",
      "\n",
      "\n",
      "n_estimators: 351\n",
      "Accuracy: 80.97826086956522\n",
      "\n",
      "\n",
      "n_estimators: 401\n",
      "Accuracy: 81.52173913043478\n",
      "\n",
      "\n",
      "n_estimators: 451\n",
      "Accuracy: 81.52173913043478\n",
      "\n",
      "\n",
      "n_estimators: 501\n",
      "Accuracy: 81.79347826086956\n",
      "\n",
      "\n",
      "n_estimators: 551\n",
      "Accuracy: 81.25\n",
      "\n",
      "\n",
      "n_estimators: 601\n",
      "Accuracy: 81.52173913043478\n",
      "\n",
      "\n",
      "n_estimators: 651\n",
      "Accuracy: 81.79347826086956\n",
      "\n",
      "\n",
      "n_estimators: 701\n",
      "Accuracy: 81.79347826086956\n",
      "\n",
      "\n",
      "n_estimators: 751\n",
      "Accuracy: 81.79347826086956\n",
      "\n",
      "\n",
      "n_estimators: 801\n",
      "Accuracy: 81.25\n",
      "\n",
      "\n",
      "n_estimators: 851\n",
      "Accuracy: 80.97826086956522\n",
      "\n",
      "\n",
      "n_estimators: 901\n",
      "Accuracy: 80.97826086956522\n",
      "\n",
      "\n",
      "n_estimators: 951\n",
      "Accuracy: 80.70652173913044\n",
      "\n",
      "\n",
      "n_estimators: 1001\n",
      "Accuracy: 80.97826086956522\n",
      "\n",
      "\n",
      "n_estimators: 1051\n",
      "Accuracy: 80.97826086956522\n",
      "\n",
      "\n",
      "n_estimators: 1101\n",
      "Accuracy: 80.97826086956522\n",
      "\n",
      "\n",
      "n_estimators: 1151\n",
      "Accuracy: 80.97826086956522\n",
      "\n",
      "\n",
      "n_estimators: 1201\n",
      "Accuracy: 80.97826086956522\n",
      "\n",
      "\n",
      "n_estimators: 1251\n",
      "Accuracy: 80.97826086956522\n",
      "\n",
      "\n",
      "n_estimators: 1301\n",
      "Accuracy: 80.97826086956522\n",
      "\n",
      "\n",
      "n_estimators: 1351\n",
      "Accuracy: 80.97826086956522\n",
      "\n",
      "\n",
      "n_estimators: 1401\n",
      "Accuracy: 80.97826086956522\n",
      "\n",
      "\n",
      "n_estimators: 1451\n",
      "Accuracy: 80.97826086956522\n",
      "\n",
      "\n",
      "n_estimators: 1501\n",
      "Accuracy: 80.97826086956522\n",
      "\n",
      "\n",
      "n_estimators: 1551\n",
      "Accuracy: 80.97826086956522\n",
      "\n",
      "\n",
      "n_estimators: 1601\n",
      "Accuracy: 80.70652173913044\n",
      "\n",
      "\n",
      "n_estimators: 1651\n",
      "Accuracy: 80.97826086956522\n",
      "\n",
      "\n",
      "n_estimators: 1701\n",
      "Accuracy: 80.97826086956522\n",
      "\n",
      "\n",
      "n_estimators: 1751\n",
      "Accuracy: 80.97826086956522\n",
      "\n",
      "\n",
      "n_estimators: 1801\n",
      "Accuracy: 80.97826086956522\n",
      "\n",
      "\n",
      "n_estimators: 1851\n",
      "Accuracy: 80.97826086956522\n",
      "\n",
      "\n"
     ]
    },
    {
     "ename": "KeyboardInterrupt",
     "evalue": "",
     "output_type": "error",
     "traceback": [
      "\u001b[1;31m---------------------------------------------------------------------------\u001b[0m",
      "\u001b[1;31mKeyboardInterrupt\u001b[0m                         Traceback (most recent call last)",
      "Input \u001b[1;32mIn [25]\u001b[0m, in \u001b[0;36m<cell line: 1>\u001b[1;34m()\u001b[0m\n\u001b[0;32m      1\u001b[0m \u001b[38;5;28;01mfor\u001b[39;00m i \u001b[38;5;129;01min\u001b[39;00m \u001b[38;5;28mrange\u001b[39m(\u001b[38;5;241m1\u001b[39m, \u001b[38;5;241m5000\u001b[39m, \u001b[38;5;241m50\u001b[39m):\n\u001b[0;32m      2\u001b[0m     temp \u001b[38;5;241m=\u001b[39m RandomForestClassifier(n_estimators \u001b[38;5;241m=\u001b[39m i, criterion \u001b[38;5;241m=\u001b[39m \u001b[38;5;124m\"\u001b[39m\u001b[38;5;124mentropy\u001b[39m\u001b[38;5;124m\"\u001b[39m, random_state \u001b[38;5;241m=\u001b[39m seed)\n\u001b[1;32m----> 3\u001b[0m     \u001b[43mtemp\u001b[49m\u001b[38;5;241;43m.\u001b[39;49m\u001b[43mfit\u001b[49m\u001b[43m(\u001b[49m\u001b[43mX_train_resample\u001b[49m\u001b[43m,\u001b[49m\u001b[43m \u001b[49m\u001b[43my_train_resample\u001b[49m\u001b[43m)\u001b[49m\n\u001b[0;32m      4\u001b[0m     y_pred \u001b[38;5;241m=\u001b[39m temp\u001b[38;5;241m.\u001b[39mpredict(X_test)\n\u001b[0;32m      6\u001b[0m     \u001b[38;5;66;03m# measuring accuracy\u001b[39;00m\n",
      "File \u001b[1;32m~\\Anaconda3\\lib\\site-packages\\sklearn\\ensemble\\_forest.py:450\u001b[0m, in \u001b[0;36mBaseForest.fit\u001b[1;34m(self, X, y, sample_weight)\u001b[0m\n\u001b[0;32m    439\u001b[0m trees \u001b[38;5;241m=\u001b[39m [\n\u001b[0;32m    440\u001b[0m     \u001b[38;5;28mself\u001b[39m\u001b[38;5;241m.\u001b[39m_make_estimator(append\u001b[38;5;241m=\u001b[39m\u001b[38;5;28;01mFalse\u001b[39;00m, random_state\u001b[38;5;241m=\u001b[39mrandom_state)\n\u001b[0;32m    441\u001b[0m     \u001b[38;5;28;01mfor\u001b[39;00m i \u001b[38;5;129;01min\u001b[39;00m \u001b[38;5;28mrange\u001b[39m(n_more_estimators)\n\u001b[0;32m    442\u001b[0m ]\n\u001b[0;32m    444\u001b[0m \u001b[38;5;66;03m# Parallel loop: we prefer the threading backend as the Cython code\u001b[39;00m\n\u001b[0;32m    445\u001b[0m \u001b[38;5;66;03m# for fitting the trees is internally releasing the Python GIL\u001b[39;00m\n\u001b[0;32m    446\u001b[0m \u001b[38;5;66;03m# making threading more efficient than multiprocessing in\u001b[39;00m\n\u001b[0;32m    447\u001b[0m \u001b[38;5;66;03m# that case. However, for joblib 0.12+ we respect any\u001b[39;00m\n\u001b[0;32m    448\u001b[0m \u001b[38;5;66;03m# parallel_backend contexts set at a higher level,\u001b[39;00m\n\u001b[0;32m    449\u001b[0m \u001b[38;5;66;03m# since correctness does not rely on using threads.\u001b[39;00m\n\u001b[1;32m--> 450\u001b[0m trees \u001b[38;5;241m=\u001b[39m \u001b[43mParallel\u001b[49m\u001b[43m(\u001b[49m\n\u001b[0;32m    451\u001b[0m \u001b[43m    \u001b[49m\u001b[43mn_jobs\u001b[49m\u001b[38;5;241;43m=\u001b[39;49m\u001b[38;5;28;43mself\u001b[39;49m\u001b[38;5;241;43m.\u001b[39;49m\u001b[43mn_jobs\u001b[49m\u001b[43m,\u001b[49m\n\u001b[0;32m    452\u001b[0m \u001b[43m    \u001b[49m\u001b[43mverbose\u001b[49m\u001b[38;5;241;43m=\u001b[39;49m\u001b[38;5;28;43mself\u001b[39;49m\u001b[38;5;241;43m.\u001b[39;49m\u001b[43mverbose\u001b[49m\u001b[43m,\u001b[49m\n\u001b[0;32m    453\u001b[0m \u001b[43m    \u001b[49m\u001b[38;5;241;43m*\u001b[39;49m\u001b[38;5;241;43m*\u001b[39;49m\u001b[43m_joblib_parallel_args\u001b[49m\u001b[43m(\u001b[49m\u001b[43mprefer\u001b[49m\u001b[38;5;241;43m=\u001b[39;49m\u001b[38;5;124;43m\"\u001b[39;49m\u001b[38;5;124;43mthreads\u001b[39;49m\u001b[38;5;124;43m\"\u001b[39;49m\u001b[43m)\u001b[49m\u001b[43m,\u001b[49m\n\u001b[0;32m    454\u001b[0m \u001b[43m\u001b[49m\u001b[43m)\u001b[49m\u001b[43m(\u001b[49m\n\u001b[0;32m    455\u001b[0m \u001b[43m    \u001b[49m\u001b[43mdelayed\u001b[49m\u001b[43m(\u001b[49m\u001b[43m_parallel_build_trees\u001b[49m\u001b[43m)\u001b[49m\u001b[43m(\u001b[49m\n\u001b[0;32m    456\u001b[0m \u001b[43m        \u001b[49m\u001b[43mt\u001b[49m\u001b[43m,\u001b[49m\n\u001b[0;32m    457\u001b[0m \u001b[43m        \u001b[49m\u001b[38;5;28;43mself\u001b[39;49m\u001b[43m,\u001b[49m\n\u001b[0;32m    458\u001b[0m \u001b[43m        \u001b[49m\u001b[43mX\u001b[49m\u001b[43m,\u001b[49m\n\u001b[0;32m    459\u001b[0m \u001b[43m        \u001b[49m\u001b[43my\u001b[49m\u001b[43m,\u001b[49m\n\u001b[0;32m    460\u001b[0m \u001b[43m        \u001b[49m\u001b[43msample_weight\u001b[49m\u001b[43m,\u001b[49m\n\u001b[0;32m    461\u001b[0m \u001b[43m        \u001b[49m\u001b[43mi\u001b[49m\u001b[43m,\u001b[49m\n\u001b[0;32m    462\u001b[0m \u001b[43m        \u001b[49m\u001b[38;5;28;43mlen\u001b[39;49m\u001b[43m(\u001b[49m\u001b[43mtrees\u001b[49m\u001b[43m)\u001b[49m\u001b[43m,\u001b[49m\n\u001b[0;32m    463\u001b[0m \u001b[43m        \u001b[49m\u001b[43mverbose\u001b[49m\u001b[38;5;241;43m=\u001b[39;49m\u001b[38;5;28;43mself\u001b[39;49m\u001b[38;5;241;43m.\u001b[39;49m\u001b[43mverbose\u001b[49m\u001b[43m,\u001b[49m\n\u001b[0;32m    464\u001b[0m \u001b[43m        \u001b[49m\u001b[43mclass_weight\u001b[49m\u001b[38;5;241;43m=\u001b[39;49m\u001b[38;5;28;43mself\u001b[39;49m\u001b[38;5;241;43m.\u001b[39;49m\u001b[43mclass_weight\u001b[49m\u001b[43m,\u001b[49m\n\u001b[0;32m    465\u001b[0m \u001b[43m        \u001b[49m\u001b[43mn_samples_bootstrap\u001b[49m\u001b[38;5;241;43m=\u001b[39;49m\u001b[43mn_samples_bootstrap\u001b[49m\u001b[43m,\u001b[49m\n\u001b[0;32m    466\u001b[0m \u001b[43m    \u001b[49m\u001b[43m)\u001b[49m\n\u001b[0;32m    467\u001b[0m \u001b[43m    \u001b[49m\u001b[38;5;28;43;01mfor\u001b[39;49;00m\u001b[43m \u001b[49m\u001b[43mi\u001b[49m\u001b[43m,\u001b[49m\u001b[43m \u001b[49m\u001b[43mt\u001b[49m\u001b[43m \u001b[49m\u001b[38;5;129;43;01min\u001b[39;49;00m\u001b[43m \u001b[49m\u001b[38;5;28;43menumerate\u001b[39;49m\u001b[43m(\u001b[49m\u001b[43mtrees\u001b[49m\u001b[43m)\u001b[49m\n\u001b[0;32m    468\u001b[0m \u001b[43m\u001b[49m\u001b[43m)\u001b[49m\n\u001b[0;32m    470\u001b[0m \u001b[38;5;66;03m# Collect newly grown trees\u001b[39;00m\n\u001b[0;32m    471\u001b[0m \u001b[38;5;28mself\u001b[39m\u001b[38;5;241m.\u001b[39mestimators_\u001b[38;5;241m.\u001b[39mextend(trees)\n",
      "File \u001b[1;32m~\\Anaconda3\\lib\\site-packages\\joblib\\parallel.py:1088\u001b[0m, in \u001b[0;36mParallel.__call__\u001b[1;34m(self, iterable)\u001b[0m\n\u001b[0;32m   1085\u001b[0m \u001b[38;5;28;01mif\u001b[39;00m \u001b[38;5;28mself\u001b[39m\u001b[38;5;241m.\u001b[39mdispatch_one_batch(iterator):\n\u001b[0;32m   1086\u001b[0m     \u001b[38;5;28mself\u001b[39m\u001b[38;5;241m.\u001b[39m_iterating \u001b[38;5;241m=\u001b[39m \u001b[38;5;28mself\u001b[39m\u001b[38;5;241m.\u001b[39m_original_iterator \u001b[38;5;129;01mis\u001b[39;00m \u001b[38;5;129;01mnot\u001b[39;00m \u001b[38;5;28;01mNone\u001b[39;00m\n\u001b[1;32m-> 1088\u001b[0m \u001b[38;5;28;01mwhile\u001b[39;00m \u001b[38;5;28;43mself\u001b[39;49m\u001b[38;5;241;43m.\u001b[39;49m\u001b[43mdispatch_one_batch\u001b[49m\u001b[43m(\u001b[49m\u001b[43miterator\u001b[49m\u001b[43m)\u001b[49m:\n\u001b[0;32m   1089\u001b[0m     \u001b[38;5;28;01mpass\u001b[39;00m\n\u001b[0;32m   1091\u001b[0m \u001b[38;5;28;01mif\u001b[39;00m pre_dispatch \u001b[38;5;241m==\u001b[39m \u001b[38;5;124m\"\u001b[39m\u001b[38;5;124mall\u001b[39m\u001b[38;5;124m\"\u001b[39m \u001b[38;5;129;01mor\u001b[39;00m n_jobs \u001b[38;5;241m==\u001b[39m \u001b[38;5;241m1\u001b[39m:\n\u001b[0;32m   1092\u001b[0m     \u001b[38;5;66;03m# The iterable was consumed all at once by the above for loop.\u001b[39;00m\n\u001b[0;32m   1093\u001b[0m     \u001b[38;5;66;03m# No need to wait for async callbacks to trigger to\u001b[39;00m\n\u001b[0;32m   1094\u001b[0m     \u001b[38;5;66;03m# consumption.\u001b[39;00m\n",
      "File \u001b[1;32m~\\Anaconda3\\lib\\site-packages\\joblib\\parallel.py:901\u001b[0m, in \u001b[0;36mParallel.dispatch_one_batch\u001b[1;34m(self, iterator)\u001b[0m\n\u001b[0;32m    899\u001b[0m     \u001b[38;5;28;01mreturn\u001b[39;00m \u001b[38;5;28;01mFalse\u001b[39;00m\n\u001b[0;32m    900\u001b[0m \u001b[38;5;28;01melse\u001b[39;00m:\n\u001b[1;32m--> 901\u001b[0m     \u001b[38;5;28;43mself\u001b[39;49m\u001b[38;5;241;43m.\u001b[39;49m\u001b[43m_dispatch\u001b[49m\u001b[43m(\u001b[49m\u001b[43mtasks\u001b[49m\u001b[43m)\u001b[49m\n\u001b[0;32m    902\u001b[0m     \u001b[38;5;28;01mreturn\u001b[39;00m \u001b[38;5;28;01mTrue\u001b[39;00m\n",
      "File \u001b[1;32m~\\Anaconda3\\lib\\site-packages\\joblib\\parallel.py:819\u001b[0m, in \u001b[0;36mParallel._dispatch\u001b[1;34m(self, batch)\u001b[0m\n\u001b[0;32m    817\u001b[0m \u001b[38;5;28;01mwith\u001b[39;00m \u001b[38;5;28mself\u001b[39m\u001b[38;5;241m.\u001b[39m_lock:\n\u001b[0;32m    818\u001b[0m     job_idx \u001b[38;5;241m=\u001b[39m \u001b[38;5;28mlen\u001b[39m(\u001b[38;5;28mself\u001b[39m\u001b[38;5;241m.\u001b[39m_jobs)\n\u001b[1;32m--> 819\u001b[0m     job \u001b[38;5;241m=\u001b[39m \u001b[38;5;28;43mself\u001b[39;49m\u001b[38;5;241;43m.\u001b[39;49m\u001b[43m_backend\u001b[49m\u001b[38;5;241;43m.\u001b[39;49m\u001b[43mapply_async\u001b[49m\u001b[43m(\u001b[49m\u001b[43mbatch\u001b[49m\u001b[43m,\u001b[49m\u001b[43m \u001b[49m\u001b[43mcallback\u001b[49m\u001b[38;5;241;43m=\u001b[39;49m\u001b[43mcb\u001b[49m\u001b[43m)\u001b[49m\n\u001b[0;32m    820\u001b[0m     \u001b[38;5;66;03m# A job can complete so quickly than its callback is\u001b[39;00m\n\u001b[0;32m    821\u001b[0m     \u001b[38;5;66;03m# called before we get here, causing self._jobs to\u001b[39;00m\n\u001b[0;32m    822\u001b[0m     \u001b[38;5;66;03m# grow. To ensure correct results ordering, .insert is\u001b[39;00m\n\u001b[0;32m    823\u001b[0m     \u001b[38;5;66;03m# used (rather than .append) in the following line\u001b[39;00m\n\u001b[0;32m    824\u001b[0m     \u001b[38;5;28mself\u001b[39m\u001b[38;5;241m.\u001b[39m_jobs\u001b[38;5;241m.\u001b[39minsert(job_idx, job)\n",
      "File \u001b[1;32m~\\Anaconda3\\lib\\site-packages\\joblib\\_parallel_backends.py:208\u001b[0m, in \u001b[0;36mSequentialBackend.apply_async\u001b[1;34m(self, func, callback)\u001b[0m\n\u001b[0;32m    206\u001b[0m \u001b[38;5;28;01mdef\u001b[39;00m \u001b[38;5;21mapply_async\u001b[39m(\u001b[38;5;28mself\u001b[39m, func, callback\u001b[38;5;241m=\u001b[39m\u001b[38;5;28;01mNone\u001b[39;00m):\n\u001b[0;32m    207\u001b[0m     \u001b[38;5;124;03m\"\"\"Schedule a func to be run\"\"\"\u001b[39;00m\n\u001b[1;32m--> 208\u001b[0m     result \u001b[38;5;241m=\u001b[39m \u001b[43mImmediateResult\u001b[49m\u001b[43m(\u001b[49m\u001b[43mfunc\u001b[49m\u001b[43m)\u001b[49m\n\u001b[0;32m    209\u001b[0m     \u001b[38;5;28;01mif\u001b[39;00m callback:\n\u001b[0;32m    210\u001b[0m         callback(result)\n",
      "File \u001b[1;32m~\\Anaconda3\\lib\\site-packages\\joblib\\_parallel_backends.py:597\u001b[0m, in \u001b[0;36mImmediateResult.__init__\u001b[1;34m(self, batch)\u001b[0m\n\u001b[0;32m    594\u001b[0m \u001b[38;5;28;01mdef\u001b[39;00m \u001b[38;5;21m__init__\u001b[39m(\u001b[38;5;28mself\u001b[39m, batch):\n\u001b[0;32m    595\u001b[0m     \u001b[38;5;66;03m# Don't delay the application, to avoid keeping the input\u001b[39;00m\n\u001b[0;32m    596\u001b[0m     \u001b[38;5;66;03m# arguments in memory\u001b[39;00m\n\u001b[1;32m--> 597\u001b[0m     \u001b[38;5;28mself\u001b[39m\u001b[38;5;241m.\u001b[39mresults \u001b[38;5;241m=\u001b[39m \u001b[43mbatch\u001b[49m\u001b[43m(\u001b[49m\u001b[43m)\u001b[49m\n",
      "File \u001b[1;32m~\\Anaconda3\\lib\\site-packages\\joblib\\parallel.py:288\u001b[0m, in \u001b[0;36mBatchedCalls.__call__\u001b[1;34m(self)\u001b[0m\n\u001b[0;32m    284\u001b[0m \u001b[38;5;28;01mdef\u001b[39;00m \u001b[38;5;21m__call__\u001b[39m(\u001b[38;5;28mself\u001b[39m):\n\u001b[0;32m    285\u001b[0m     \u001b[38;5;66;03m# Set the default nested backend to self._backend but do not set the\u001b[39;00m\n\u001b[0;32m    286\u001b[0m     \u001b[38;5;66;03m# change the default number of processes to -1\u001b[39;00m\n\u001b[0;32m    287\u001b[0m     \u001b[38;5;28;01mwith\u001b[39;00m parallel_backend(\u001b[38;5;28mself\u001b[39m\u001b[38;5;241m.\u001b[39m_backend, n_jobs\u001b[38;5;241m=\u001b[39m\u001b[38;5;28mself\u001b[39m\u001b[38;5;241m.\u001b[39m_n_jobs):\n\u001b[1;32m--> 288\u001b[0m         \u001b[38;5;28;01mreturn\u001b[39;00m [func(\u001b[38;5;241m*\u001b[39margs, \u001b[38;5;241m*\u001b[39m\u001b[38;5;241m*\u001b[39mkwargs)\n\u001b[0;32m    289\u001b[0m                 \u001b[38;5;28;01mfor\u001b[39;00m func, args, kwargs \u001b[38;5;129;01min\u001b[39;00m \u001b[38;5;28mself\u001b[39m\u001b[38;5;241m.\u001b[39mitems]\n",
      "File \u001b[1;32m~\\Anaconda3\\lib\\site-packages\\joblib\\parallel.py:288\u001b[0m, in \u001b[0;36m<listcomp>\u001b[1;34m(.0)\u001b[0m\n\u001b[0;32m    284\u001b[0m \u001b[38;5;28;01mdef\u001b[39;00m \u001b[38;5;21m__call__\u001b[39m(\u001b[38;5;28mself\u001b[39m):\n\u001b[0;32m    285\u001b[0m     \u001b[38;5;66;03m# Set the default nested backend to self._backend but do not set the\u001b[39;00m\n\u001b[0;32m    286\u001b[0m     \u001b[38;5;66;03m# change the default number of processes to -1\u001b[39;00m\n\u001b[0;32m    287\u001b[0m     \u001b[38;5;28;01mwith\u001b[39;00m parallel_backend(\u001b[38;5;28mself\u001b[39m\u001b[38;5;241m.\u001b[39m_backend, n_jobs\u001b[38;5;241m=\u001b[39m\u001b[38;5;28mself\u001b[39m\u001b[38;5;241m.\u001b[39m_n_jobs):\n\u001b[1;32m--> 288\u001b[0m         \u001b[38;5;28;01mreturn\u001b[39;00m [func(\u001b[38;5;241m*\u001b[39margs, \u001b[38;5;241m*\u001b[39m\u001b[38;5;241m*\u001b[39mkwargs)\n\u001b[0;32m    289\u001b[0m                 \u001b[38;5;28;01mfor\u001b[39;00m func, args, kwargs \u001b[38;5;129;01min\u001b[39;00m \u001b[38;5;28mself\u001b[39m\u001b[38;5;241m.\u001b[39mitems]\n",
      "File \u001b[1;32m~\\Anaconda3\\lib\\site-packages\\sklearn\\utils\\fixes.py:216\u001b[0m, in \u001b[0;36m_FuncWrapper.__call__\u001b[1;34m(self, *args, **kwargs)\u001b[0m\n\u001b[0;32m    214\u001b[0m \u001b[38;5;28;01mdef\u001b[39;00m \u001b[38;5;21m__call__\u001b[39m(\u001b[38;5;28mself\u001b[39m, \u001b[38;5;241m*\u001b[39margs, \u001b[38;5;241m*\u001b[39m\u001b[38;5;241m*\u001b[39mkwargs):\n\u001b[0;32m    215\u001b[0m     \u001b[38;5;28;01mwith\u001b[39;00m config_context(\u001b[38;5;241m*\u001b[39m\u001b[38;5;241m*\u001b[39m\u001b[38;5;28mself\u001b[39m\u001b[38;5;241m.\u001b[39mconfig):\n\u001b[1;32m--> 216\u001b[0m         \u001b[38;5;28;01mreturn\u001b[39;00m \u001b[38;5;28mself\u001b[39m\u001b[38;5;241m.\u001b[39mfunction(\u001b[38;5;241m*\u001b[39margs, \u001b[38;5;241m*\u001b[39m\u001b[38;5;241m*\u001b[39mkwargs)\n",
      "File \u001b[1;32m~\\Anaconda3\\lib\\site-packages\\sklearn\\ensemble\\_forest.py:172\u001b[0m, in \u001b[0;36m_parallel_build_trees\u001b[1;34m(tree, forest, X, y, sample_weight, tree_idx, n_trees, verbose, class_weight, n_samples_bootstrap)\u001b[0m\n\u001b[0;32m    169\u001b[0m \u001b[38;5;28;01melse\u001b[39;00m:\n\u001b[0;32m    170\u001b[0m     curr_sample_weight \u001b[38;5;241m=\u001b[39m sample_weight\u001b[38;5;241m.\u001b[39mcopy()\n\u001b[1;32m--> 172\u001b[0m indices \u001b[38;5;241m=\u001b[39m \u001b[43m_generate_sample_indices\u001b[49m\u001b[43m(\u001b[49m\n\u001b[0;32m    173\u001b[0m \u001b[43m    \u001b[49m\u001b[43mtree\u001b[49m\u001b[38;5;241;43m.\u001b[39;49m\u001b[43mrandom_state\u001b[49m\u001b[43m,\u001b[49m\u001b[43m \u001b[49m\u001b[43mn_samples\u001b[49m\u001b[43m,\u001b[49m\u001b[43m \u001b[49m\u001b[43mn_samples_bootstrap\u001b[49m\n\u001b[0;32m    174\u001b[0m \u001b[43m\u001b[49m\u001b[43m)\u001b[49m\n\u001b[0;32m    175\u001b[0m sample_counts \u001b[38;5;241m=\u001b[39m np\u001b[38;5;241m.\u001b[39mbincount(indices, minlength\u001b[38;5;241m=\u001b[39mn_samples)\n\u001b[0;32m    176\u001b[0m curr_sample_weight \u001b[38;5;241m*\u001b[39m\u001b[38;5;241m=\u001b[39m sample_counts\n",
      "File \u001b[1;32m~\\Anaconda3\\lib\\site-packages\\sklearn\\ensemble\\_forest.py:129\u001b[0m, in \u001b[0;36m_generate_sample_indices\u001b[1;34m(random_state, n_samples, n_samples_bootstrap)\u001b[0m\n\u001b[0;32m    125\u001b[0m \u001b[38;5;124;03m\"\"\"\u001b[39;00m\n\u001b[0;32m    126\u001b[0m \u001b[38;5;124;03mPrivate function used to _parallel_build_trees function.\"\"\"\u001b[39;00m\n\u001b[0;32m    128\u001b[0m random_instance \u001b[38;5;241m=\u001b[39m check_random_state(random_state)\n\u001b[1;32m--> 129\u001b[0m sample_indices \u001b[38;5;241m=\u001b[39m \u001b[43mrandom_instance\u001b[49m\u001b[38;5;241;43m.\u001b[39;49m\u001b[43mrandint\u001b[49m\u001b[43m(\u001b[49m\u001b[38;5;241;43m0\u001b[39;49m\u001b[43m,\u001b[49m\u001b[43m \u001b[49m\u001b[43mn_samples\u001b[49m\u001b[43m,\u001b[49m\u001b[43m \u001b[49m\u001b[43mn_samples_bootstrap\u001b[49m\u001b[43m)\u001b[49m\n\u001b[0;32m    131\u001b[0m \u001b[38;5;28;01mreturn\u001b[39;00m sample_indices\n",
      "\u001b[1;31mKeyboardInterrupt\u001b[0m: "
     ]
    }
   ],
   "source": [
    "for i in range(1, , 50):\n",
    "    temp = RandomForestClassifier(n_estimators = i, criterion = \"entropy\", random_state = seed)\n",
    "    temp.fit(X_train_resample, y_train_resample)\n",
    "    y_pred = temp.predict(X_test)\n",
    "    \n",
    "    # measuring accuracy\n",
    "    accuracy = accuracy_score(y_test, y_pred) * 100\n",
    "    print(\"n_estimators:\", i)\n",
    "    print(\"Accuracy:\", accuracy)\n",
    "    print(\"\\n\")"
   ]
  },
  {
   "cell_type": "code",
   "execution_count": null,
   "id": "4273b267",
   "metadata": {},
   "outputs": [],
   "source": []
  },
  {
   "cell_type": "code",
   "execution_count": null,
   "id": "212d1b22",
   "metadata": {},
   "outputs": [],
   "source": []
  }
 ],
 "metadata": {
  "kernelspec": {
   "display_name": "Python 3 (ipykernel)",
   "language": "python",
   "name": "python3"
  },
  "language_info": {
   "codemirror_mode": {
    "name": "ipython",
    "version": 3
   },
   "file_extension": ".py",
   "mimetype": "text/x-python",
   "name": "python",
   "nbconvert_exporter": "python",
   "pygments_lexer": "ipython3",
   "version": "3.9.12"
  },
  "varInspector": {
   "cols": {
    "lenName": 16,
    "lenType": 16,
    "lenVar": 40
   },
   "kernels_config": {
    "python": {
     "delete_cmd_postfix": "",
     "delete_cmd_prefix": "del ",
     "library": "var_list.py",
     "varRefreshCmd": "print(var_dic_list())"
    },
    "r": {
     "delete_cmd_postfix": ") ",
     "delete_cmd_prefix": "rm(",
     "library": "var_list.r",
     "varRefreshCmd": "cat(var_dic_list()) "
    }
   },
   "types_to_exclude": [
    "module",
    "function",
    "builtin_function_or_method",
    "instance",
    "_Feature"
   ],
   "window_display": false
  }
 },
 "nbformat": 4,
 "nbformat_minor": 5
}

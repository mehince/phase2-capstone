{
 "cells": [
  {
   "cell_type": "markdown",
   "id": "b902b182",
   "metadata": {},
   "source": [
    "# Predicting Employee Attrition Using Decision Trees and Random Forests"
   ]
  },
  {
   "cell_type": "markdown",
   "id": "7ac67879",
   "metadata": {},
   "source": [
    "## Data Preprocessing"
   ]
  },
  {
   "cell_type": "code",
   "execution_count": 1,
   "id": "791e8a94",
   "metadata": {
    "ExecuteTime": {
     "end_time": "2023-01-27T00:58:54.841001Z",
     "start_time": "2023-01-27T00:58:50.584574Z"
    }
   },
   "outputs": [
    {
     "data": {
      "text/plain": [
       "(1470, 35)"
      ]
     },
     "execution_count": 1,
     "metadata": {},
     "output_type": "execute_result"
    }
   ],
   "source": [
    "import pandas as pd\n",
    "import matplotlib.pyplot as plt\n",
    "\n",
    "from sklearn.preprocessing import LabelEncoder\n",
    "\n",
    "from sklearn.model_selection import train_test_split\n",
    "from sklearn.tree import DecisionTreeClassifier\n",
    "from sklearn import tree\n",
    "\n",
    "from sklearn.metrics import accuracy_score, precision_score, roc_curve, auc, recall_score, f1_score\n",
    "from sklearn.metrics import plot_confusion_matrix\n",
    "\n",
    "# setting seed variable\n",
    "seed = 13\n",
    "\n",
    "# loading in csv and looking at first 5 rows\n",
    "df = pd.read_csv(\"../Data/WA_Fn-UseC_-HR-Employee-Attrition.csv\")\n",
    "df.shape"
   ]
  },
  {
   "cell_type": "code",
   "execution_count": 2,
   "id": "71c113f3",
   "metadata": {
    "ExecuteTime": {
     "end_time": "2023-01-27T00:58:54.888982Z",
     "start_time": "2023-01-27T00:58:54.874984Z"
    }
   },
   "outputs": [
    {
     "data": {
      "text/plain": [
       "(1470, 18)"
      ]
     },
     "execution_count": 2,
     "metadata": {},
     "output_type": "execute_result"
    }
   ],
   "source": [
    "# only keep columns we want to use as features for prediction\n",
    "df = df[['Age', 'Attrition', 'Education', 'EnvironmentSatisfaction', 'Gender', 'HourlyRate', 'JobInvolvement', 'JobLevel', 'JobRole', 'JobSatisfaction', 'MaritalStatus', 'MonthlyIncome', 'PerformanceRating', 'RelationshipSatisfaction', 'WorkLifeBalance', 'YearsAtCompany', 'YearsInCurrentRole', 'YearsSinceLastPromotion']]\n",
    "df.shape"
   ]
  },
  {
   "cell_type": "code",
   "execution_count": 3,
   "id": "4b0c6571",
   "metadata": {
    "ExecuteTime": {
     "end_time": "2023-01-27T00:58:54.921000Z",
     "start_time": "2023-01-27T00:58:54.906984Z"
    }
   },
   "outputs": [
    {
     "data": {
      "text/plain": [
       "count    1470.000000\n",
       "mean        2.912925\n",
       "std         1.024165\n",
       "min         1.000000\n",
       "25%         2.000000\n",
       "50%         3.000000\n",
       "75%         4.000000\n",
       "max         5.000000\n",
       "Name: Education, dtype: float64"
      ]
     },
     "execution_count": 3,
     "metadata": {},
     "output_type": "execute_result"
    }
   ],
   "source": [
    "df['Education'].describe()"
   ]
  },
  {
   "cell_type": "code",
   "execution_count": 4,
   "id": "00b035fe",
   "metadata": {
    "ExecuteTime": {
     "end_time": "2023-01-27T00:58:54.952328Z",
     "start_time": "2023-01-27T00:58:54.938993Z"
    }
   },
   "outputs": [
    {
     "data": {
      "text/plain": [
       "(1470, 18)"
      ]
     },
     "execution_count": 4,
     "metadata": {},
     "output_type": "execute_result"
    }
   ],
   "source": [
    "# remove any rows that have at least one null or missing value\n",
    "df.dropna()\n",
    "df.shape\n",
    "\n",
    "# no rows were dropped - all rows have complete data"
   ]
  },
  {
   "cell_type": "code",
   "execution_count": 5,
   "id": "83aadda8",
   "metadata": {
    "ExecuteTime": {
     "end_time": "2023-01-27T00:58:55Z",
     "start_time": "2023-01-27T00:58:54.969983Z"
    }
   },
   "outputs": [
    {
     "name": "stdout",
     "output_type": "stream",
     "text": [
      "['Sales Executive', 'Research Scientist', 'Laboratory Technician', 'Manufacturing Director', 'Healthcare Representative', 'Manager', 'Sales Representative', 'Research Director', 'Human Resources']\n",
      "[7 6 2 ... 4 7 2]\n",
      "['Single', 'Married', 'Divorced']\n",
      "[2 1 2 ... 1 1 1]\n"
     ]
    }
   ],
   "source": [
    "# encode values that are not binary or discrete\n",
    "# encode Attrition (target variable)\n",
    "# 1 = yes, 0 = no\n",
    "attrition_encoder = LabelEncoder()\n",
    "attrition_encoder.fit(df['Attrition'])\n",
    "attrition_vals = attrition_encoder.transform(df['Attrition'])\n",
    "attrition_df = pd.DataFrame(attrition_vals, columns=['Attrition'])\n",
    "\n",
    "# encode Gender\n",
    "# 1 = male, 0 = female\n",
    "gender_encoder = LabelEncoder()\n",
    "gender_encoder.fit(df['Gender'])\n",
    "gender_vals = gender_encoder.transform(df['Gender'])\n",
    "gender_df = pd.DataFrame(gender_vals, columns=['Gender'])\n",
    "\n",
    "# encode JobRole\n",
    "job_role_encoder = LabelEncoder()\n",
    "job_role_encoder.fit(df['JobRole'])\n",
    "job_role_vals = job_role_encoder.transform(df['JobRole'])\n",
    "job_role_df = pd.DataFrame(job_role_vals, columns=['JobRole'])\n",
    "print(list(df['JobRole'].unique()))\n",
    "print(job_role_vals)\n",
    "\n",
    "# encode MaritalStatus\n",
    "# 0 = divorced, 1 = married, 2 = single\n",
    "marital_encoder = LabelEncoder()\n",
    "marital_encoder.fit(df['MaritalStatus'])\n",
    "marital_vals = marital_encoder.transform(df['MaritalStatus'])\n",
    "marital_df = pd.DataFrame(marital_vals, columns=['MaritalStatus'])\n",
    "print(list(df['MaritalStatus'].unique()))\n",
    "print(marital_vals)"
   ]
  },
  {
   "cell_type": "code",
   "execution_count": 6,
   "id": "2b28c139",
   "metadata": {
    "ExecuteTime": {
     "end_time": "2023-01-27T00:58:55.078950Z",
     "start_time": "2023-01-27T00:58:55.052076Z"
    }
   },
   "outputs": [
    {
     "data": {
      "text/html": [
       "<div>\n",
       "<style scoped>\n",
       "    .dataframe tbody tr th:only-of-type {\n",
       "        vertical-align: middle;\n",
       "    }\n",
       "\n",
       "    .dataframe tbody tr th {\n",
       "        vertical-align: top;\n",
       "    }\n",
       "\n",
       "    .dataframe thead th {\n",
       "        text-align: right;\n",
       "    }\n",
       "</style>\n",
       "<table border=\"1\" class=\"dataframe\">\n",
       "  <thead>\n",
       "    <tr style=\"text-align: right;\">\n",
       "      <th></th>\n",
       "      <th>JobRole</th>\n",
       "      <th>Encoding</th>\n",
       "    </tr>\n",
       "  </thead>\n",
       "  <tbody>\n",
       "    <tr>\n",
       "      <th>0</th>\n",
       "      <td>Sales Executive</td>\n",
       "      <td>7</td>\n",
       "    </tr>\n",
       "    <tr>\n",
       "      <th>1</th>\n",
       "      <td>Research Scientist</td>\n",
       "      <td>6</td>\n",
       "    </tr>\n",
       "    <tr>\n",
       "      <th>2</th>\n",
       "      <td>Laboratory Technician</td>\n",
       "      <td>2</td>\n",
       "    </tr>\n",
       "    <tr>\n",
       "      <th>3</th>\n",
       "      <td>Manufacturing Director</td>\n",
       "      <td>4</td>\n",
       "    </tr>\n",
       "    <tr>\n",
       "      <th>4</th>\n",
       "      <td>Healthcare Representative</td>\n",
       "      <td>0</td>\n",
       "    </tr>\n",
       "    <tr>\n",
       "      <th>5</th>\n",
       "      <td>Manager</td>\n",
       "      <td>3</td>\n",
       "    </tr>\n",
       "    <tr>\n",
       "      <th>6</th>\n",
       "      <td>Sales Representative</td>\n",
       "      <td>8</td>\n",
       "    </tr>\n",
       "    <tr>\n",
       "      <th>7</th>\n",
       "      <td>Research Director</td>\n",
       "      <td>5</td>\n",
       "    </tr>\n",
       "    <tr>\n",
       "      <th>8</th>\n",
       "      <td>Human Resources</td>\n",
       "      <td>1</td>\n",
       "    </tr>\n",
       "  </tbody>\n",
       "</table>\n",
       "</div>"
      ],
      "text/plain": [
       "                     JobRole  Encoding\n",
       "0            Sales Executive         7\n",
       "1         Research Scientist         6\n",
       "2      Laboratory Technician         2\n",
       "3     Manufacturing Director         4\n",
       "4  Healthcare Representative         0\n",
       "5                    Manager         3\n",
       "6       Sales Representative         8\n",
       "7          Research Director         5\n",
       "8            Human Resources         1"
      ]
     },
     "execution_count": 6,
     "metadata": {},
     "output_type": "execute_result"
    }
   ],
   "source": [
    "df['AttritionEncoded'] = attrition_df\n",
    "df['GenderEncoded'] = gender_df\n",
    "df['JobRoleEncoded'] = job_role_df\n",
    "df['MaritalStatusEncoded'] = marital_df\n",
    "\n",
    "# job role encodings table - just for readability\n",
    "table_df = pd.DataFrame()\n",
    "table_df['JobRole'] = df['JobRole'].unique()\n",
    "table_df['Encoding'] = df['JobRoleEncoded'].unique()\n",
    "table_df"
   ]
  },
  {
   "cell_type": "code",
   "execution_count": 7,
   "id": "c272962a",
   "metadata": {
    "ExecuteTime": {
     "end_time": "2023-01-27T00:58:55.126948Z",
     "start_time": "2023-01-27T00:58:55.112930Z"
    }
   },
   "outputs": [
    {
     "data": {
      "text/plain": [
       "Index(['Age', 'Education', 'EnvironmentSatisfaction', 'HourlyRate',\n",
       "       'JobInvolvement', 'JobLevel', 'JobSatisfaction', 'MonthlyIncome',\n",
       "       'PerformanceRating', 'RelationshipSatisfaction', 'WorkLifeBalance',\n",
       "       'YearsAtCompany', 'YearsInCurrentRole', 'YearsSinceLastPromotion',\n",
       "       'AttritionEncoded', 'GenderEncoded', 'JobRoleEncoded',\n",
       "       'MaritalStatusEncoded'],\n",
       "      dtype='object')"
      ]
     },
     "execution_count": 7,
     "metadata": {},
     "output_type": "execute_result"
    }
   ],
   "source": [
    "# drop non-encoded columns\n",
    "df = df.drop([\"Attrition\", \"Gender\", \"JobRole\", \"MaritalStatus\"], axis = 1)\n",
    "df.columns"
   ]
  },
  {
   "cell_type": "code",
   "execution_count": 8,
   "id": "d7d7c27c",
   "metadata": {
    "ExecuteTime": {
     "end_time": "2023-01-27T00:58:55.189928Z",
     "start_time": "2023-01-27T00:58:55.176935Z"
    }
   },
   "outputs": [
    {
     "data": {
      "text/plain": [
       "1    45.782313\n",
       "2    31.972789\n",
       "0    22.244898\n",
       "Name: MaritalStatusEncoded, dtype: float64"
      ]
     },
     "execution_count": 8,
     "metadata": {},
     "output_type": "execute_result"
    }
   ],
   "source": [
    "df['MaritalStatusEncoded'].value_counts() / 1470 * 100"
   ]
  },
  {
   "cell_type": "markdown",
   "id": "29de2588",
   "metadata": {},
   "source": [
    "## Predicting Employee Attrition Using Decision Trees"
   ]
  },
  {
   "cell_type": "code",
   "execution_count": 9,
   "id": "530f2a15",
   "metadata": {
    "ExecuteTime": {
     "end_time": "2023-01-27T00:58:55.237944Z",
     "start_time": "2023-01-27T00:58:55.223950Z"
    }
   },
   "outputs": [
    {
     "name": "stdout",
     "output_type": "stream",
     "text": [
      "Percentage of employees who left: 16.12%\n",
      "Percentage of employees who left: 83.88%\n"
     ]
    }
   ],
   "source": [
    "# statistics regarding attrition (target value) \n",
    "\n",
    "# 1470 rows total - find percentage of employees who left / didn't leave\n",
    "# number of employees that left\n",
    "percent_left = ((df['AttritionEncoded'] == 1).sum()) / df['AttritionEncoded'].count()\n",
    "\n",
    "# number of employees that stayed\n",
    "percent_stayed = ((df['AttritionEncoded'] == 0).sum()) / df['AttritionEncoded'].count()\n",
    "\n",
    "print('Percentage of employees who left: {}%'.format((round(percent_left * 100, 2))))\n",
    "print('Percentage of employees who left: {}%'.format((round(percent_stayed * 100, 2))))\n",
    "\n",
    "# will have to address class imabalance when tuning model"
   ]
  },
  {
   "cell_type": "code",
   "execution_count": 10,
   "id": "cb26928a",
   "metadata": {
    "ExecuteTime": {
     "end_time": "2023-01-27T00:58:55.286394Z",
     "start_time": "2023-01-27T00:58:55.273329Z"
    }
   },
   "outputs": [],
   "source": [
    "# splitting target and feature variables\n",
    "y = df['AttritionEncoded']\n",
    "X = df.drop(columns = ['AttritionEncoded'], axis = 1)\n",
    "\n",
    "# creating train / test split\n",
    "# random_state = 13 (my favorite number)\n",
    "# leaving default of test_size = .25, train_size = .75\n",
    "X_train, X_test, y_train, y_test = train_test_split(X, y, random_state=13)"
   ]
  },
  {
   "cell_type": "code",
   "execution_count": 11,
   "id": "f1d303dc",
   "metadata": {
    "ExecuteTime": {
     "end_time": "2023-01-27T00:58:55.350398Z",
     "start_time": "2023-01-27T00:58:55.336394Z"
    }
   },
   "outputs": [
    {
     "name": "stdout",
     "output_type": "stream",
     "text": [
      "Training data:\n",
      "0    923\n",
      "1    179\n",
      "Name: AttritionEncoded, dtype: int64\n",
      "\n",
      "Testing data:\n",
      "0    310\n",
      "1     58\n",
      "Name: AttritionEncoded, dtype: int64\n"
     ]
    }
   ],
   "source": [
    "# class imbalance in train / test data\n",
    "# training data\n",
    "print(\"Training data:\")\n",
    "print(y_train.value_counts())\n",
    "\n",
    "# testing data\n",
    "print(\"\\nTesting data:\")\n",
    "print(y_test.value_counts())"
   ]
  },
  {
   "cell_type": "markdown",
   "id": "457f30fb",
   "metadata": {},
   "source": [
    "### Creating the Initial Decision Tree Model"
   ]
  },
  {
   "cell_type": "code",
   "execution_count": 12,
   "id": "b14c9255",
   "metadata": {
    "ExecuteTime": {
     "end_time": "2023-01-27T00:58:55.460258Z",
     "start_time": "2023-01-27T00:58:55.437264Z"
    }
   },
   "outputs": [],
   "source": [
    "# training classifier object\n",
    "attrition_classifier = DecisionTreeClassifier(criterion = 'entropy', random_state = seed)\n",
    "attrition_classifier.fit(X_train, y_train)\n",
    "\n",
    "# make predicitons\n",
    "y_predict = attrition_classifier.predict(X_test)"
   ]
  },
  {
   "cell_type": "markdown",
   "id": "bf3fd28f",
   "metadata": {},
   "source": [
    "### Checking Baseline Model Performance"
   ]
  },
  {
   "cell_type": "code",
   "execution_count": 13,
   "id": "bcd44acf",
   "metadata": {
    "ExecuteTime": {
     "end_time": "2023-01-27T00:58:55.741948Z",
     "start_time": "2023-01-27T00:58:55.509262Z"
    }
   },
   "outputs": [
    {
     "name": "stdout",
     "output_type": "stream",
     "text": [
      "Confusion Matrix:\n"
     ]
    },
    {
     "data": {
      "image/png": "[encoded data removed]",
      "text/plain": [
       "<Figure size 432x288 with 2 Axes>"
      ]
     },
     "metadata": {
      "needs_background": "light"
     },
     "output_type": "display_data"
    },
    {
     "name": "stdout",
     "output_type": "stream",
     "text": [
      "Accuracy: 77.44565217391305\n",
      "Precision: 0.24489795918367346\n",
      "Recall: 0.20689655172413793\n",
      "F1: 0.22429906542056074\n",
      "AUC: 0.5437708565072302\n"
     ]
    }
   ],
   "source": [
    "# ignoring deprecation warning for plot_confusion_matrix\n",
    "import warnings\n",
    "warnings.simplefilter('ignore')\n",
    "\n",
    "# confusion matrix\n",
    "print(\"Confusion Matrix:\")\n",
    "plot_confusion_matrix(attrition_classifier, X, y)\n",
    "plt.show()\n",
    "\n",
    "# measuring accuracy\n",
    "accuracy = accuracy_score(y_test, y_predict) * 100\n",
    "print(\"Accuracy:\", accuracy)\n",
    "\n",
    "# measuring precision\n",
    "precision = precision_score(y_test, y_predict)\n",
    "print(\"Precision:\", precision) # want a value close to 1\n",
    "\n",
    "# measuring recall\n",
    "print(\"Recall:\", recall_score(y_test, y_predict))\n",
    "\n",
    "# measuring F1\n",
    "print(\"F1:\", f1_score(y_test, y_predict))\n",
    "\n",
    "# measuring AUC (Area Under the ROC Curve)\n",
    "false_pos, true_pos, thresholds = roc_curve(y_test, y_predict)\n",
    "area_under_roc = auc(false_pos, true_pos)\n",
    "print(\"AUC:\", area_under_roc) # .56 is pretty close to just random guessing"
   ]
  },
  {
   "cell_type": "markdown",
   "id": "0bed84b7",
   "metadata": {},
   "source": [
    "Right now, model is sort of accurate but not precise. Also model is barely better than randomly guessing if an employee will leave or not (AUC score = .56)."
   ]
  },
  {
   "cell_type": "markdown",
   "id": "1b8d3ca2",
   "metadata": {},
   "source": [
    "# Might need to prune model - look into it"
   ]
  },
  {
   "cell_type": "markdown",
   "id": "3dfa77e5",
   "metadata": {},
   "source": [
    "### Max Depth"
   ]
  },
  {
   "cell_type": "code",
   "execution_count": 14,
   "id": "5f021361",
   "metadata": {
    "ExecuteTime": {
     "end_time": "2023-01-27T00:58:57.673965Z",
     "start_time": "2023-01-27T00:58:57.050737Z"
    }
   },
   "outputs": [
    {
     "data": {
      "image/png": "[encoded data removed]",
      "text/plain": [
       "<Figure size 864x432 with 1 Axes>"
      ]
     },
     "metadata": {
      "needs_background": "light"
     },
     "output_type": "display_data"
    }
   ],
   "source": [
    "# hyperparameter tuning / pruning\n",
    "# max depth - code from hyperparameter lab\n",
    "max_depths = list(range(1, 33))\n",
    "train_results = []\n",
    "test_results = []\n",
    "for max_depth in max_depths:\n",
    "    dt = DecisionTreeClassifier(criterion='entropy', max_depth=max_depth, random_state=seed)\n",
    "    dt.fit(X_train, y_train)\n",
    "    train_pred = dt.predict(X_train)\n",
    "    false_positive_rate, true_positive_rate, thresholds = roc_curve(y_train, train_pred)\n",
    "    roc_auc = auc(false_positive_rate, true_positive_rate)\n",
    "    # Add auc score to previous train results\n",
    "    train_results.append(roc_auc)\n",
    "    y_pred = dt.predict(X_test)\n",
    "    false_positive_rate, true_positive_rate, thresholds = roc_curve(y_test, y_pred)\n",
    "    roc_auc = auc(false_positive_rate, true_positive_rate)\n",
    "    # Add auc score to previous test results\n",
    "    test_results.append(roc_auc)\n",
    "\n",
    "plt.figure(figsize=(12,6))\n",
    "plt.plot(max_depths, train_results, 'b', label='Train AUC')\n",
    "plt.plot(max_depths, test_results, 'r', label='Test AUC')\n",
    "plt.ylabel('AUC score')\n",
    "plt.xlabel('Tree depth')\n",
    "plt.legend()\n",
    "plt.show()"
   ]
  },
  {
   "cell_type": "markdown",
   "id": "017f3d6b",
   "metadata": {},
   "source": [
    "Optimal depth for this tree is 2"
   ]
  },
  {
   "cell_type": "markdown",
   "id": "370c8dd7",
   "metadata": {},
   "source": [
    "### Minimum Sample Split"
   ]
  },
  {
   "cell_type": "code",
   "execution_count": 15,
   "id": "a6151294",
   "metadata": {
    "ExecuteTime": {
     "end_time": "2023-01-27T00:58:59.486938Z",
     "start_time": "2023-01-27T00:58:59.262767Z"
    }
   },
   "outputs": [
    {
     "data": {
      "image/png": "[encoded data removed]",
      "text/plain": [
       "<Figure size 864x432 with 1 Axes>"
      ]
     },
     "metadata": {
      "needs_background": "light"
     },
     "output_type": "display_data"
    }
   ],
   "source": [
    "min_samples_splits = np.linspace(0.1, 1.0, 10, endpoint=True)\n",
    "train_results = []\n",
    "test_results = []\n",
    "for min_samples_split in min_samples_splits:\n",
    "    dt = DecisionTreeClassifier(criterion='entropy', min_samples_split=min_samples_split, random_state=seed)\n",
    "    dt.fit(X_train, y_train)\n",
    "    train_pred = dt.predict(X_train)\n",
    "    false_positive_rate, true_positive_rate, thresholds =    roc_curve(y_train, train_pred)\n",
    "    roc_auc = auc(false_positive_rate, true_positive_rate)\n",
    "    train_results.append(roc_auc)\n",
    "    y_pred = dt.predict(X_test)\n",
    "    false_positive_rate, true_positive_rate, thresholds = roc_curve(y_test, y_pred)\n",
    "    roc_auc = auc(false_positive_rate, true_positive_rate)\n",
    "    test_results.append(roc_auc)\n",
    "\n",
    "plt.figure(figsize=(12,6))\n",
    "plt.plot(min_samples_splits, train_results, 'b', label='Train AUC')\n",
    "plt.plot(min_samples_splits, test_results, 'r', label='Test AUC')\n",
    "plt.xlabel('Min. Sample splits')\n",
    "plt.legend()\n",
    "plt.show()"
   ]
  },
  {
   "cell_type": "markdown",
   "id": "336f7160",
   "metadata": {},
   "source": [
    "0.4 for minimum sample split"
   ]
  },
  {
   "cell_type": "markdown",
   "id": "92273d7d",
   "metadata": {},
   "source": [
    "### Minimum Sample Leafs"
   ]
  },
  {
   "cell_type": "code",
   "execution_count": 16,
   "id": "68151656",
   "metadata": {
    "ExecuteTime": {
     "end_time": "2023-01-27T00:59:02.484361Z",
     "start_time": "2023-01-27T00:59:02.285816Z"
    }
   },
   "outputs": [
    {
     "data": {
      "image/png": "[encoded data removed]",
      "text/plain": [
       "<Figure size 864x432 with 1 Axes>"
      ]
     },
     "metadata": {
      "needs_background": "light"
     },
     "output_type": "display_data"
    }
   ],
   "source": [
    "min_samples_leafs = np.linspace(0.1, 0.5, 5, endpoint=True)\n",
    "train_results = []\n",
    "test_results = []\n",
    "for min_samples_leaf in min_samples_leafs:\n",
    "    dt = DecisionTreeClassifier(criterion='entropy', min_samples_leaf=min_samples_leaf, random_state=seed)\n",
    "    dt.fit(X_train, y_train)\n",
    "    train_pred = dt.predict(X_train)\n",
    "    false_positive_rate, true_positive_rate, thresholds = roc_curve(y_train, train_pred)\n",
    "    roc_auc = auc(false_positive_rate, true_positive_rate)\n",
    "    train_results.append(roc_auc)\n",
    "    y_pred = dt.predict(X_test)\n",
    "    false_positive_rate, true_positive_rate, thresholds = roc_curve(y_test, y_pred)\n",
    "    roc_auc = auc(false_positive_rate, true_positive_rate)\n",
    "    test_results.append(roc_auc)\n",
    "    \n",
    "plt.figure(figsize=(12,6))    \n",
    "plt.plot(min_samples_leafs, train_results, 'b', label='Train AUC')\n",
    "plt.plot(min_samples_leafs, test_results, 'r', label='Test AUC')\n",
    "plt.ylabel('AUC score')\n",
    "plt.xlabel('Min. Sample Leafs')\n",
    "plt.legend()\n",
    "plt.show()"
   ]
  },
  {
   "cell_type": "markdown",
   "id": "03db0f65",
   "metadata": {},
   "source": [
    "No good value here I guess?"
   ]
  },
  {
   "cell_type": "markdown",
   "id": "6046fd25",
   "metadata": {},
   "source": [
    "### Maximum Features"
   ]
  },
  {
   "cell_type": "code",
   "execution_count": 17,
   "id": "5311fab2",
   "metadata": {
    "ExecuteTime": {
     "end_time": "2023-01-27T00:59:04.933554Z",
     "start_time": "2023-01-27T00:59:04.594473Z"
    }
   },
   "outputs": [
    {
     "data": {
      "image/png": "[encoded data removed]",
      "text/plain": [
       "<Figure size 864x432 with 1 Axes>"
      ]
     },
     "metadata": {
      "needs_background": "light"
     },
     "output_type": "display_data"
    }
   ],
   "source": [
    "max_features = list(range(1, X_train.shape[1]))\n",
    "train_results = []\n",
    "test_results = []\n",
    "for max_feature in max_features:\n",
    "    dt = DecisionTreeClassifier(criterion='entropy', max_features=max_feature, random_state=seed)\n",
    "    dt.fit(X_train, y_train)\n",
    "    train_pred = dt.predict(X_train)\n",
    "    false_positive_rate, true_positive_rate, thresholds = roc_curve(y_train, train_pred)\n",
    "    roc_auc = auc(false_positive_rate, true_positive_rate)\n",
    "    train_results.append(roc_auc)\n",
    "    y_pred = dt.predict(X_test)\n",
    "    false_positive_rate, true_positive_rate, thresholds = roc_curve(y_test, y_pred)\n",
    "    roc_auc = auc(false_positive_rate, true_positive_rate)\n",
    "    test_results.append(roc_auc)\n",
    "\n",
    "plt.figure(figsize=(12,6))\n",
    "plt.plot(max_features, train_results, 'b', label='Train AUC')\n",
    "plt.plot(max_features, test_results, 'r', label='Test AUC')\n",
    "plt.ylabel('AUC score')\n",
    "plt.xlabel('max features')\n",
    "plt.legend()\n",
    "plt.show()"
   ]
  },
  {
   "cell_type": "markdown",
   "id": "3d1decc8",
   "metadata": {},
   "source": [
    "best is when max features = 8 I guess?"
   ]
  },
  {
   "cell_type": "code",
   "execution_count": 18,
   "id": "df596131",
   "metadata": {
    "ExecuteTime": {
     "end_time": "2023-01-27T00:59:07.076468Z",
     "start_time": "2023-01-27T00:59:07.051458Z"
    }
   },
   "outputs": [],
   "source": [
    "# retrain model based on all of these things\n",
    "dt = DecisionTreeClassifier(criterion='entropy',\n",
    "                           max_features=8,\n",
    "                           max_depth=2,\n",
    "                           min_samples_split=0.4,\n",
    "                           min_samples_leaf=0.25,\n",
    "                           random_state=seed)\n",
    "dt.fit(X_train, y_train)\n",
    "y_pred = dt.predict(X_test)"
   ]
  },
  {
   "cell_type": "code",
   "execution_count": 19,
   "id": "aca84517",
   "metadata": {
    "ExecuteTime": {
     "end_time": "2023-01-27T00:59:07.688932Z",
     "start_time": "2023-01-27T00:59:07.503899Z"
    }
   },
   "outputs": [
    {
     "name": "stdout",
     "output_type": "stream",
     "text": [
      "Confusion Matrix:\n"
     ]
    },
    {
     "data": {
      "image/png": "[encoded data removed]",
      "text/plain": [
       "<Figure size 432x288 with 2 Axes>"
      ]
     },
     "metadata": {
      "needs_background": "light"
     },
     "output_type": "display_data"
    },
    {
     "name": "stdout",
     "output_type": "stream",
     "text": [
      "Accuracy: 84.23913043478261\n",
      "Precision 0.0\n",
      "Recall: 0.0\n",
      "F1: 0.0\n",
      "AUC: 0.5\n"
     ]
    }
   ],
   "source": [
    "# ignoring deprecation warning for plot_confusion_matrix\n",
    "import warnings\n",
    "warnings.simplefilter('ignore')\n",
    "\n",
    "# confusion matrix\n",
    "print(\"Confusion Matrix:\")\n",
    "plot_confusion_matrix(dt, X, y)\n",
    "plt.show()\n",
    "\n",
    "# measuring accuracy\n",
    "accuracy = accuracy_score(y_test, y_pred) * 100\n",
    "print(\"Accuracy:\", accuracy)\n",
    "\n",
    "# measuring precision\n",
    "precision = precision_score(y_test, y_pred)\n",
    "print(\"Precision\", precision) # want a value close to 1\n",
    "\n",
    "# measuring recall\n",
    "print(\"Recall:\", recall_score(y_test, y_pred))\n",
    "\n",
    "# measuring F1\n",
    "print(\"F1:\", f1_score(y_test, y_pred))\n",
    "\n",
    "# measuring AUC (Area Under the ROC Curve)\n",
    "false_pos, true_pos, thresholds = roc_curve(y_test, y_pred)\n",
    "area_under_roc = auc(false_pos, true_pos)\n",
    "print(\"AUC:\", area_under_roc) # .56 is pretty close to just random guessing"
   ]
  },
  {
   "cell_type": "markdown",
   "id": "ba539d1a",
   "metadata": {},
   "source": [
    "### Addressing Class Imbalance"
   ]
  },
  {
   "cell_type": "markdown",
   "id": "c71a6704",
   "metadata": {},
   "source": [
    "#### Tuning the Decision Tree Model"
   ]
  },
  {
   "cell_type": "code",
   "execution_count": 20,
   "id": "4d7f94f0",
   "metadata": {
    "ExecuteTime": {
     "end_time": "2023-01-27T00:59:15.687070Z",
     "start_time": "2023-01-27T00:59:09.975395Z"
    }
   },
   "outputs": [
    {
     "name": "stdout",
     "output_type": "stream",
     "text": [
      "^C\n"
     ]
    }
   ],
   "source": [
    "# had to install imblearn\n",
    "!pip install imblearn"
   ]
  },
  {
   "cell_type": "code",
   "execution_count": 22,
   "id": "e23c02ca",
   "metadata": {
    "ExecuteTime": {
     "end_time": "2023-01-27T00:59:17.624946Z",
     "start_time": "2023-01-27T00:59:17.604963Z"
    }
   },
   "outputs": [
    {
     "name": "stdout",
     "output_type": "stream",
     "text": [
      "Classifications BEFORE Resample:\n",
      "0    923\n",
      "1    179\n",
      "Name: AttritionEncoded, dtype: int64\n",
      "\n",
      "Classifications AFTER Resample:\n",
      "0    923\n",
      "1    923\n",
      "Name: AttritionEncoded, dtype: int64\n"
     ]
    }
   ],
   "source": [
    "# using SMOTE to resample data\n",
    "from imblearn.over_sampling import SMOTE\n",
    "\n",
    "print(\"Classifications BEFORE Resample:\")\n",
    "print(y_train.value_counts())\n",
    "\n",
    "X_train_resample, y_train_resample = SMOTE().fit_resample(X_train, y_train)\n",
    "\n",
    "# should have same number of each classification\n",
    "print(\"\\nClassifications AFTER Resample:\")\n",
    "print(pd.Series(y_train_resample).value_counts())"
   ]
  },
  {
   "cell_type": "markdown",
   "id": "80a3e92f",
   "metadata": {},
   "source": [
    "#### Building Model with Resampled Data"
   ]
  },
  {
   "cell_type": "code",
   "execution_count": 23,
   "id": "7eb1b963",
   "metadata": {
    "ExecuteTime": {
     "end_time": "2023-01-27T00:59:18.381605Z",
     "start_time": "2023-01-27T00:59:18.369585Z"
    }
   },
   "outputs": [],
   "source": [
    "# training classifier object\n",
    "# attrition_classifier_resample = DecisionTreeClassifier(criterion = 'entropy', random_state = 13)\n",
    "attrition_classifier_resample = DecisionTreeClassifier(criterion='entropy', random_state=seed)\n",
    "attrition_classifier_resample.fit(X_train_resample, y_train_resample)\n",
    "\n",
    "# make predicitons\n",
    "y_predict_resample = attrition_classifier_resample.predict(X_test)"
   ]
  },
  {
   "cell_type": "code",
   "execution_count": 25,
   "id": "d6338350",
   "metadata": {
    "ExecuteTime": {
     "end_time": "2023-01-27T00:59:29.594138Z",
     "start_time": "2023-01-27T00:59:29.430851Z"
    }
   },
   "outputs": [
    {
     "name": "stdout",
     "output_type": "stream",
     "text": [
      "Confusion Matrix:\n"
     ]
    },
    {
     "data": {
      "image/png": "[encoded data removed]",
      "text/plain": [
       "<Figure size 432x288 with 2 Axes>"
      ]
     },
     "metadata": {
      "needs_background": "light"
     },
     "output_type": "display_data"
    },
    {
     "name": "stdout",
     "output_type": "stream",
     "text": [
      "Accuracy: 50.54347826086957\n",
      "Precision 0.19\n",
      "Recall: 0.0\n",
      "F1: 0.0\n",
      "AUC: 0.5\n"
     ]
    }
   ],
   "source": [
    "# ignoring deprecation warning for plot_confusion_matrix\n",
    "import warnings\n",
    "warnings.simplefilter('ignore')\n",
    "\n",
    "# confusion matrix\n",
    "print(\"Confusion Matrix:\")\n",
    "plot_confusion_matrix(attrition_classifier_resample, X, y)\n",
    "plt.show()\n",
    "\n",
    "# measuring accuracy\n",
    "accuracy_resample = accuracy_score(y_test, y_predict_resample) * 100\n",
    "print(\"Accuracy:\", accuracy_resample)\n",
    "\n",
    "# measuring precision\n",
    "precision_resample = precision_score(y_test, y_predict_resample)\n",
    "print(\"Precision\", precision_resample) # want a value close to 1\n",
    "\n",
    "# measuring recall\n",
    "print(\"Recall:\", recall_score(y_test, y_pred))\n",
    "\n",
    "# measuring F1\n",
    "print(\"F1:\", f1_score(y_test, y_pred))\n",
    "\n",
    "# measuring AUC (Area Under the ROC Curve)\n",
    "false_pos_resample, true_pos_resample, thresholds_resample = roc_curve(y_test, y_predict_resample)\n",
    "area_under_roc_resample = auc(false_pos, true_pos)\n",
    "print(\"AUC:\", area_under_roc_resample) # .56 is pretty close to just random guessing"
   ]
  },
  {
   "cell_type": "markdown",
   "id": "82d0ad45",
   "metadata": {},
   "source": [
    "## Trying Logistic Regression to See Which Hyperparameter We Need to Tune"
   ]
  },
  {
   "cell_type": "code",
   "execution_count": 26,
   "id": "85ffaac8",
   "metadata": {
    "ExecuteTime": {
     "end_time": "2023-01-27T01:00:18.930550Z",
     "start_time": "2023-01-27T01:00:18.724336Z"
    }
   },
   "outputs": [
    {
     "name": "stdout",
     "output_type": "stream",
     "text": [
      "Confusion Matrix:\n"
     ]
    },
    {
     "data": {
      "image/png": "[encoded data removed]",
      "text/plain": [
       "<Figure size 432x288 with 2 Axes>"
      ]
     },
     "metadata": {
      "needs_background": "light"
     },
     "output_type": "display_data"
    },
    {
     "name": "stdout",
     "output_type": "stream",
     "text": [
      "Accuracy: 68.47826086956522\n",
      "Precision: 0.24561403508771928\n",
      "Recall: 0.4827586206896552\n",
      "F1: 0.32558139534883723\n",
      "AUC: 0.6026696329254728\n"
     ]
    }
   ],
   "source": [
    "from sklearn.linear_model import LogisticRegression\n",
    "\n",
    "clf = LogisticRegression().fit(X_train_resample, y_train_resample)\n",
    "y_pred_2 = clf.predict(X_test)\n",
    "\n",
    "### Evaluate Model ### \n",
    "\n",
    "# confusion matrix\n",
    "print(\"Confusion Matrix:\")\n",
    "plot_confusion_matrix(clf, X, y)\n",
    "plt.show()\n",
    "\n",
    "# measuring accuracy\n",
    "accuracy = accuracy_score(y_test, y_pred_2) * 100\n",
    "print(\"Accuracy:\", accuracy)\n",
    "\n",
    "# measuring precision\n",
    "precision = precision_score(y_test, y_pred_2)\n",
    "print(\"Precision:\", precision) # want a value close to 1\n",
    "\n",
    "# measuring recall\n",
    "print(\"Recall:\", recall_score(y_test, y_pred_2))\n",
    "\n",
    "# measuring F1\n",
    "print(\"F1:\", f1_score(y_test, y_pred_2))\n",
    "\n",
    "# measuring AUC (Area Under the ROC Curve)\n",
    "false_pos, true_pos, thresholds = roc_curve(y_test, y_pred_2)\n",
    "area_under_roc = auc(false_pos, true_pos)\n",
    "print(\"AUC:\", area_under_roc) # .56 is pretty close to just random guessing"
   ]
  },
  {
   "cell_type": "code",
   "execution_count": 27,
   "id": "c45fa905",
   "metadata": {
    "ExecuteTime": {
     "end_time": "2023-01-27T01:00:20.723791Z",
     "start_time": "2023-01-27T01:00:19.054847Z"
    }
   },
   "outputs": [
    {
     "name": "stdout",
     "output_type": "stream",
     "text": [
      "Confusion Matrix:\n"
     ]
    },
    {
     "data": {
      "image/png": "[encoded data removed]",
      "text/plain": [
       "<Figure size 432x288 with 2 Axes>"
      ]
     },
     "metadata": {
      "needs_background": "light"
     },
     "output_type": "display_data"
    },
    {
     "name": "stdout",
     "output_type": "stream",
     "text": [
      "Accuracy: 68.47826086956522\n",
      "Precision: 0.24561403508771928\n",
      "Recall: 0.4827586206896552\n",
      "F1: 0.32558139534883723\n",
      "AUC: 0.6026696329254728\n"
     ]
    }
   ],
   "source": [
    "from sklearn.linear_model import LogisticRegression\n",
    "from sklearn.model_selection import GridSearchCV\n",
    "\n",
    "logreg = LogisticRegression()\n",
    "\n",
    "grid_values = {'penalty': ['l1', 'l2'],'C':[0.001,.009,0.01,.09,1,5,10,25]}\n",
    "grid_clf_acc = GridSearchCV(logreg, param_grid = grid_values,scoring = 'f1')\n",
    "grid_clf_acc.fit(X_train_resample, y_train_resample)\n",
    "\n",
    "y_pred_new = grid_clf_acc.predict(X_test)\n",
    "\n",
    "### Evaluate Model ### \n",
    "\n",
    "# confusion matrix\n",
    "print(\"Confusion Matrix:\")\n",
    "plot_confusion_matrix(clf, X, y)\n",
    "plt.show()\n",
    "\n",
    "# measuring accuracy\n",
    "accuracy = accuracy_score(y_test, y_pred_new) * 100\n",
    "print(\"Accuracy:\", accuracy)\n",
    "\n",
    "# measuring precision\n",
    "precision = precision_score(y_test, y_pred_new)\n",
    "print(\"Precision:\", precision) # want a value close to 1\n",
    "\n",
    "# measuring recall\n",
    "print(\"Recall:\", recall_score(y_test, y_pred_new))\n",
    "\n",
    "# measuring F1\n",
    "print(\"F1:\", f1_score(y_test, y_pred_new))\n",
    "\n",
    "# measuring AUC (Area Under the ROC Curve)\n",
    "false_pos, true_pos, thresholds = roc_curve(y_test, y_pred_new)\n",
    "area_under_roc = auc(false_pos, true_pos)\n",
    "print(\"AUC:\", area_under_roc) # .56 is pretty close to just random guessing"
   ]
  },
  {
   "cell_type": "markdown",
   "id": "7238c382",
   "metadata": {},
   "source": [
    "## Predicting Employee Attrition with Random Forests"
   ]
  },
  {
   "cell_type": "code",
   "execution_count": 33,
   "id": "ac11d6dc",
   "metadata": {
    "ExecuteTime": {
     "end_time": "2023-01-27T01:01:10.660181Z",
     "start_time": "2023-01-27T01:01:09.785064Z"
    },
    "scrolled": false
   },
   "outputs": [
    {
     "name": "stdout",
     "output_type": "stream",
     "text": [
      "Confusion Matrix:\n"
     ]
    },
    {
     "data": {
      "image/png": "[encoded data removed]",
      "text/plain": [
       "<Figure size 432x288 with 2 Axes>"
      ]
     },
     "metadata": {
      "needs_background": "light"
     },
     "output_type": "display_data"
    },
    {
     "name": "stdout",
     "output_type": "stream",
     "text": [
      "Accuracy: 83.15217391304348\n",
      "Precision: 46.15384615384615\n",
      "Recall: 0.41379310344827586\n",
      "F1: 0.43636363636363634\n",
      "AUC: 0.6617352614015573\n"
     ]
    }
   ],
   "source": [
    "from sklearn.ensemble import RandomForestClassifier\n",
    "\n",
    "temp = RandomForestClassifier(n_estimators = 149, random_state = seed)\n",
    "temp.fit(X_train_resample, y_train_resample)\n",
    "y_pred = temp.predict(X_test)\n",
    "\n",
    "### Evaluate Model ### \n",
    "\n",
    "# confusion matrix\n",
    "print(\"Confusion Matrix:\")\n",
    "plot_confusion_matrix(temp, X, y)\n",
    "plt.show()\n",
    "\n",
    "# measuring accuracy\n",
    "accuracy = accuracy_score(y_test, y_pred) * 100\n",
    "print(\"Accuracy:\", accuracy)\n",
    "\n",
    "# measuring precision\n",
    "precision = precision_score(y_test, y_pred) * 100\n",
    "print(\"Precision:\", precision) # want a value close to 1\n",
    "\n",
    "# measuring recall\n",
    "print(\"Recall:\", recall_score(y_test, y_pred))\n",
    "\n",
    "# measuring F1\n",
    "print(\"F1:\", f1_score(y_test, y_pred))\n",
    "\n",
    "# measuring AUC (Area Under the ROC Curve)\n",
    "false_pos, true_pos, thresholds = roc_curve(y_test, y_pred)\n",
    "area_under_roc = auc(false_pos, true_pos)\n",
    "print(\"AUC:\", area_under_roc) # .56 is pretty close to just random guessing"
   ]
  },
  {
   "cell_type": "code",
   "execution_count": 29,
   "id": "16e1d6fe",
   "metadata": {
    "ExecuteTime": {
     "end_time": "2023-01-27T01:00:21.672876Z",
     "start_time": "2023-01-27T01:00:21.659872Z"
    }
   },
   "outputs": [
    {
     "ename": "SyntaxError",
     "evalue": "invalid syntax (2902403165.py, line 1)",
     "output_type": "error",
     "traceback": [
      "\u001b[1;36m  Input \u001b[1;32mIn [29]\u001b[1;36m\u001b[0m\n\u001b[1;33m    for i in range(1, , 50):\u001b[0m\n\u001b[1;37m                      ^\u001b[0m\n\u001b[1;31mSyntaxError\u001b[0m\u001b[1;31m:\u001b[0m invalid syntax\n"
     ]
    }
   ],
   "source": [
    "for i in range(1, , 50):\n",
    "    temp = RandomForestClassifier(n_estimators = i, criterion = \"entropy\", random_state = seed)\n",
    "    temp.fit(X_train_resample, y_train_resample)\n",
    "    y_pred = temp.predict(X_test)\n",
    "    \n",
    "    # measuring accuracy\n",
    "    accuracy = accuracy_score(y_test, y_pred) * 100\n",
    "    print(\"n_estimators:\", i)\n",
    "    print(\"Accuracy:\", accuracy)\n",
    "    print(\"\\n\")"
   ]
  },
  {
   "cell_type": "code",
   "execution_count": null,
   "id": "4273b267",
   "metadata": {},
   "outputs": [],
   "source": []
  },
  {
   "cell_type": "code",
   "execution_count": null,
   "id": "212d1b22",
   "metadata": {},
   "outputs": [],
   "source": []
  }
 ],
 "metadata": {
  "kernelspec": {
   "display_name": "Python 3 (ipykernel)",
   "language": "python",
   "name": "python3"
  },
  "language_info": {
   "codemirror_mode": {
    "name": "ipython",
    "version": 3
   },
   "file_extension": ".py",
   "mimetype": "text/x-python",
   "name": "python",
   "nbconvert_exporter": "python",
   "pygments_lexer": "ipython3",
   "version": "3.9.12"
  },
  "varInspector": {
   "cols": {
    "lenName": 16,
    "lenType": 16,
    "lenVar": 40
   },
   "kernels_config": {
    "python": {
     "delete_cmd_postfix": "",
     "delete_cmd_prefix": "del ",
     "library": "var_list.py",
     "varRefreshCmd": "print(var_dic_list())"
    },
    "r": {
     "delete_cmd_postfix": ") ",
     "delete_cmd_prefix": "rm(",
     "library": "var_list.r",
     "varRefreshCmd": "cat(var_dic_list()) "
    }
   },
   "types_to_exclude": [
    "module",
    "function",
    "builtin_function_or_method",
    "instance",
    "_Feature"
   ],
   "window_display": false
  }
 },
 "nbformat": 4,
 "nbformat_minor": 5
}
